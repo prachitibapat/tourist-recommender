{
 "cells": [
  {
   "cell_type": "markdown",
   "id": "a95a8f4f",
   "metadata": {},
   "source": [
    "# **All the required packages**"
   ]
  },
  {
   "cell_type": "code",
   "execution_count": null,
   "id": "4c08c828",
   "metadata": {},
   "outputs": [],
   "source": [
    "pip install selenium"
   ]
  },
  {
   "cell_type": "code",
   "execution_count": null,
   "id": "c0bd4e1c",
   "metadata": {},
   "outputs": [],
   "source": [
    "pip install beautifulsoup4"
   ]
  },
  {
   "cell_type": "code",
   "execution_count": null,
   "id": "b744dcab",
   "metadata": {},
   "outputs": [],
   "source": [
    "pip install webdriver_manager"
   ]
  },
  {
   "cell_type": "code",
   "execution_count": null,
   "id": "8726a3e4",
   "metadata": {},
   "outputs": [],
   "source": [
    "pip install pandas"
   ]
  },
  {
   "cell_type": "code",
   "execution_count": null,
   "id": "90a5e818",
   "metadata": {},
   "outputs": [],
   "source": [
    "pip install geopy"
   ]
  },
  {
   "cell_type": "code",
   "execution_count": null,
   "id": "b6f7bc4e",
   "metadata": {},
   "outputs": [],
   "source": [
    "pip install folium"
   ]
  },
  {
   "cell_type": "code",
   "execution_count": null,
   "id": "62c15dc3",
   "metadata": {},
   "outputs": [],
   "source": [
    "pip install Googlemaps"
   ]
  },
  {
   "cell_type": "markdown",
   "id": "f933dd71",
   "metadata": {},
   "source": [
    "#### Run all the above only if not done before"
   ]
  },
  {
   "cell_type": "code",
   "execution_count": null,
   "id": "72b30d22",
   "metadata": {},
   "outputs": [],
   "source": [
    "from selenium import webdriver\n",
    "from selenium.webdriver.chrome.service import Service\n",
    "from selenium.webdriver.common.by import By \n",
    "from selenium.webdriver.common.keys import Keys\n",
    "from selenium.webdriver.support.ui import WebDriverWait\n",
    "from selenium.webdriver.support import expected_conditions as EC\n",
    "from geopy.geocoders import Nominatim\n",
    "from geopy.geocoders import ArcGIS\n",
    "from geopy.geocoders import GoogleV3\n",
    "from geopy.geocoders import AzureMaps\n",
    "from selenium.webdriver.chrome.options import Options\n",
    "from bs4 import BeautifulSoup\n",
    "import time\n",
    "import googlemaps\n",
    "import pandas as pd\n",
    "import re\n",
    "import csv\n",
    "import folium\n",
    "#This is supposed to be run every iteration"
   ]
  },
  {
   "cell_type": "markdown",
   "id": "eac2bf5a",
   "metadata": {},
   "source": [
    "# Scraping Data"
   ]
  },
  {
   "cell_type": "code",
   "execution_count": null,
   "id": "e920bbf6",
   "metadata": {},
   "outputs": [],
   "source": [
    "options = Options()\n",
    "options.headless = True\n",
    "options.add_argument(\"--window-size=1920,1200\")\n",
    "# All the settings"
   ]
  },
  {
   "cell_type": "code",
   "execution_count": null,
   "id": "0415801b",
   "metadata": {},
   "outputs": [],
   "source": [
    "driver = webdriver.Chrome(options=options)\n",
    "#Locations 0-30\n",
    "driver.get(\"https://www.tripadvisor.in/Attractions-g304558-Activities-oa0-Kolkata_Calcutta_Kolkata_District_West_Bengal.html\")\n",
    "html_source = driver.page_source\n",
    "Kolkata_TA_0 = open(\"web_scrapped_data\\Kolkata_0.txt\", \"w\",encoding='utf-8')\n",
    "Kolkata_TA_0.write(html_source)\n",
    "Kolkata_TA_0.close()\n",
    "#Ratings 0-30\n",
    "Kolkata_AR_0 = open(\"web_scrapped_data\\Kolkata_0.txt\", \"w\",encoding='utf-8')\n",
    "Kolkata_AR_0.write(html_source)\n",
    "Kolkata_AR_0.close()\n",
    "#Locations 30-60\n",
    "driver.get(\"https://www.tripadvisor.in/Attractions-g304558-Activities-oa30-Kolkata_Calcutta_Kolkata_District_West_Bengal.html\")\n",
    "html_source = driver.page_source\n",
    "Kolkata_TA_30 = open(\"web_scrapped_data\\Kolkata_30.txt\", \"w\",encoding='utf-8')\n",
    "Kolkata_TA_30.write(html_source)\n",
    "Kolkata_TA_30.close()\n",
    "#Ratings 30-60\n",
    "Kolkata_AR_30 = open(\"web_scrapped_data\\Kolkata_30.txt\", \"w\",encoding='utf-8')\n",
    "Kolkata_AR_30.write(html_source)\n",
    "Kolkata_AR_30.close()\n",
    "#Locations 60-90\n",
    "driver.get(\"https://www.tripadvisor.in/Attractions-g304558-Activities-oa60-Kolkata_Calcutta_Kolkata_District_West_Bengal.html\")\n",
    "html_source = driver.page_source\n",
    "Kolkata_TA_60 = open(\"web_scrapped_data\\Kolkata_60.txt\", \"w\",encoding='utf-8')\n",
    "Kolkata_TA_60.write(html_source)\n",
    "Kolkata_TA_60.close()\n",
    "#Ratings 60-90\n",
    "Kolkata_AR_60 = open(\"web_scrapped_data\\Kolkata_60.txt\", \"w\",encoding='utf-8')\n",
    "Kolkata_AR_60.write(html_source)\n",
    "Kolkata_AR_60.close()\n",
    "#Locations 90-120\n",
    "driver.get(\"https://www.tripadvisor.in/Attractions-g304558-Activities-oa90-Kolkata_Calcutta_Kolkata_District_West_Bengal.html\")\n",
    "html_source = driver.page_source\n",
    "Kolkata_TA_90 = open(\"web_scrapped_data\\Kolkata_90.txt\", \"w\",encoding='utf-8')\n",
    "Kolkata_TA_90.write(html_source)\n",
    "Kolkata_TA_90.close()\n",
    "#Ratings 90-120\n",
    "Kolkata_AR_90 = open(\"web_scrapped_data\\Kolkata_90.txt\", \"w\",encoding='utf-8')\n",
    "Kolkata_AR_90.write(html_source)\n",
    "Kolkata_AR_90.close()"
   ]
  },
  {
   "cell_type": "markdown",
   "id": "9ff1cda2",
   "metadata": {},
   "source": [
    "# Tourist Attractions 0 - 30"
   ]
  },
  {
   "cell_type": "code",
   "execution_count": null,
   "id": "0797117b",
   "metadata": {},
   "outputs": [],
   "source": [
    "Kolkata_TA_0 = open('web_scrapped_data\\Kolkata_0.txt', 'r').read()\n",
    "soup = BeautifulSoup(Kolkata_TA_0,\"html.parser\")"
   ]
  },
  {
   "cell_type": "code",
   "execution_count": null,
   "id": "fc82f47a",
   "metadata": {},
   "outputs": [],
   "source": [
    "Location = soup.find_all(\"div\",\"XfVdV o AIbhI\")"
   ]
  },
  {
   "cell_type": "code",
   "execution_count": null,
   "id": "4e83022f",
   "metadata": {},
   "outputs": [],
   "source": [
    "def cleanhtml(raw_html):\n",
    "    cleanr = re.compile('<.*?>')\n",
    "    cleantext = re.sub(cleanr, '', raw_html)\n",
    "    tourist_spot0.append(cleantext)"
   ]
  },
  {
   "cell_type": "code",
   "execution_count": null,
   "id": "db3871f2",
   "metadata": {
    "scrolled": true
   },
   "outputs": [],
   "source": [
    "tourist_spot0 = []\n",
    "for x in Location:\n",
    "    cleanhtml(str(x))"
   ]
  },
  {
   "cell_type": "code",
   "execution_count": null,
   "id": "7a574dfe",
   "metadata": {},
   "outputs": [],
   "source": [
    "tourist_spot1 = []\n",
    "for s in tourist_spot0:\n",
    "    s2 = str(s)\n",
    "    s3 = s2.split('. ')\n",
    "    tourist_spot1.append(s3[1])"
   ]
  },
  {
   "cell_type": "code",
   "execution_count": null,
   "id": "679c9079",
   "metadata": {},
   "outputs": [],
   "source": [
    "correction = tourist_spot0[11][4:24]\n",
    "# St. Thomas Cathedral"
   ]
  },
  {
   "cell_type": "code",
   "execution_count": null,
   "id": "fdad4d81",
   "metadata": {},
   "outputs": [],
   "source": [
    "tourist_spot1[11] = correction\n",
    "tourist_spot1"
   ]
  },
  {
   "cell_type": "markdown",
   "id": "b631373c",
   "metadata": {},
   "source": [
    "# Tourist Attractions 30 - 60"
   ]
  },
  {
   "cell_type": "code",
   "execution_count": null,
   "id": "ba50a66c",
   "metadata": {},
   "outputs": [],
   "source": [
    "Kolkata_TA_30 = open('web_scrapped_data\\Kolkata_30.txt', 'r',encoding='utf-8').read()\n",
    "soup = BeautifulSoup(Kolkata_TA_30,\"html.parser\")"
   ]
  },
  {
   "cell_type": "code",
   "execution_count": null,
   "id": "a064701a",
   "metadata": {},
   "outputs": [],
   "source": [
    "Location30 = soup.find_all(\"div\",\"XfVdV o AIbhI\")"
   ]
  },
  {
   "cell_type": "code",
   "execution_count": null,
   "id": "e2b5e16c",
   "metadata": {},
   "outputs": [],
   "source": [
    "def cleanhtml(raw_html):\n",
    "    cleanr = re.compile('<.*?>')\n",
    "    cleantext = re.sub(cleanr, '', raw_html)\n",
    "    tourist_spot30.append(cleantext)"
   ]
  },
  {
   "cell_type": "code",
   "execution_count": null,
   "id": "38866d80",
   "metadata": {},
   "outputs": [],
   "source": [
    "tourist_spot30 = []\n",
    "for x in Location30:\n",
    "    cleanhtml(str(x))"
   ]
  },
  {
   "cell_type": "code",
   "execution_count": null,
   "id": "1e6d922a",
   "metadata": {},
   "outputs": [],
   "source": [
    "tourist_spot30 = []\n",
    "for x in Location30:\n",
    "    cleanhtml(str(x))"
   ]
  },
  {
   "cell_type": "code",
   "execution_count": null,
   "id": "ceb82dbf",
   "metadata": {},
   "outputs": [],
   "source": [
    "tourist_spot31 = []\n",
    "for s in tourist_spot30:\n",
    "    s32 = str(s)\n",
    "    s33 = s32.split('. ')\n",
    "    print(s33)\n",
    "    tourist_spot31.append(s33[1])"
   ]
  },
  {
   "cell_type": "code",
   "execution_count": null,
   "id": "333ceffb",
   "metadata": {},
   "outputs": [],
   "source": [
    "correction = tourist_spot30[6][4:24]\n",
    "# St. Thomas Cathedral"
   ]
  },
  {
   "cell_type": "code",
   "execution_count": null,
   "id": "cd75be4e",
   "metadata": {},
   "outputs": [],
   "source": [
    "tourist_spot31[6] = correction\n",
    "tourist_spot31\n",
    "len(tourist_spot31)"
   ]
  },
  {
   "cell_type": "markdown",
   "id": "e2b7d16b",
   "metadata": {},
   "source": [
    "# Tourist Spots 60 - 90"
   ]
  },
  {
   "cell_type": "code",
   "execution_count": null,
   "id": "57a68b52",
   "metadata": {},
   "outputs": [],
   "source": [
    "Kolkata_TA_60 = open('web_scrapped_data\\Kolkata_60.txt', 'r',encoding='utf-8').read()\n",
    "soup = BeautifulSoup(Kolkata_TA_60,\"html.parser\")"
   ]
  },
  {
   "cell_type": "code",
   "execution_count": null,
   "id": "7aec24f7",
   "metadata": {},
   "outputs": [],
   "source": [
    "Location60 = soup.find_all(\"div\",\"XfVdV o AIbhI\")"
   ]
  },
  {
   "cell_type": "code",
   "execution_count": null,
   "id": "adac98a8",
   "metadata": {},
   "outputs": [],
   "source": [
    "def cleanhtml(raw_html):\n",
    "    cleanr = re.compile('<.*?>')\n",
    "    cleantext = re.sub(cleanr, '', raw_html)\n",
    "    tourist_spot60.append(cleantext)"
   ]
  },
  {
   "cell_type": "code",
   "execution_count": null,
   "id": "9e22301c",
   "metadata": {},
   "outputs": [],
   "source": [
    "tourist_spot60 = []\n",
    "for x in Location60:\n",
    "    cleanhtml(str(x))"
   ]
  },
  {
   "cell_type": "code",
   "execution_count": null,
   "id": "0ce1a5c1",
   "metadata": {},
   "outputs": [],
   "source": [
    "tourist_spot60 = []\n",
    "for x in Location60:\n",
    "    cleanhtml(str(x))"
   ]
  },
  {
   "cell_type": "code",
   "execution_count": null,
   "id": "d0691350",
   "metadata": {},
   "outputs": [],
   "source": [
    "tourist_spot61 = []\n",
    "for s in tourist_spot60:\n",
    "    s62 = str(s)\n",
    "    s63 = s62.split('. ')\n",
    "    print(s63)\n",
    "    tourist_spot61.append(s63[1])"
   ]
  },
  {
   "cell_type": "markdown",
   "id": "30b3c0ab",
   "metadata": {},
   "source": [
    "# Tourist Spots 90 - 120"
   ]
  },
  {
   "cell_type": "code",
   "execution_count": null,
   "id": "639e6e9c",
   "metadata": {},
   "outputs": [],
   "source": [
    "Kolkata_TA_90 = open('web_scrapped_data\\Kolkata_90.txt', 'r',encoding='utf-8').read()\n",
    "soup = BeautifulSoup(Kolkata_TA_90,\"html.parser\")"
   ]
  },
  {
   "cell_type": "code",
   "execution_count": null,
   "id": "b4d954ee",
   "metadata": {},
   "outputs": [],
   "source": [
    "Location90 = soup.find_all(\"div\",\"XfVdV o AIbhI\")"
   ]
  },
  {
   "cell_type": "code",
   "execution_count": null,
   "id": "664447eb",
   "metadata": {},
   "outputs": [],
   "source": [
    "def cleanhtml(raw_html):\n",
    "    cleanr = re.compile('<.*?>')\n",
    "    cleantext = re.sub(cleanr, '', raw_html)\n",
    "    tourist_spot90.append(cleantext)"
   ]
  },
  {
   "cell_type": "code",
   "execution_count": null,
   "id": "16d7a699",
   "metadata": {},
   "outputs": [],
   "source": [
    "tourist_spot90 = []\n",
    "for x in Location90:\n",
    "    cleanhtml(str(x))"
   ]
  },
  {
   "cell_type": "code",
   "execution_count": null,
   "id": "c2ca989c",
   "metadata": {},
   "outputs": [],
   "source": [
    "tourist_spot91 = []\n",
    "for s in tourist_spot90:\n",
    "    s92 = str(s)\n",
    "    s93 = s92.split('. ')\n",
    "    tourist_spot91.append(s93[1])"
   ]
  },
  {
   "cell_type": "markdown",
   "id": "ba6f8f2b",
   "metadata": {},
   "source": [
    "# Combining all tourist spots into one list"
   ]
  },
  {
   "cell_type": "code",
   "execution_count": null,
   "id": "251e4481",
   "metadata": {},
   "outputs": [],
   "source": [
    "final_tourist_spot = tourist_spot1\n",
    "final_tourist_spot.extend(tourist_spot31)\n",
    "final_tourist_spot.extend(tourist_spot61)\n",
    "final_tourist_spot.extend(tourist_spot91)"
   ]
  },
  {
   "cell_type": "markdown",
   "id": "f8d188df",
   "metadata": {},
   "source": [
    "# Attraction Ratings 0 - 30"
   ]
  },
  {
   "cell_type": "code",
   "execution_count": null,
   "id": "471b95f5",
   "metadata": {},
   "outputs": [],
   "source": [
    "Kolkata_TA_0 = open('web_scrapped_data\\Kolkata_0.txt', 'r',encoding='utf-8').read()\n",
    "soup = BeautifulSoup(Kolkata_TA_0,\"html.parser\")"
   ]
  },
  {
   "cell_type": "code",
   "execution_count": null,
   "id": "fe67e1e8",
   "metadata": {},
   "outputs": [],
   "source": [
    "Rating = soup.find_all(\"svg\",\"UctUV d H0 hzzSG\")\n",
    "Rating1 = str(Rating)\n",
    "Rating2 = Rating1.replace('[','')\n",
    "Rating3 = Rating2.split(', ')"
   ]
  },
  {
   "cell_type": "code",
   "execution_count": null,
   "id": "5a33da50",
   "metadata": {},
   "outputs": [],
   "source": [
    "bubble1 = []\n",
    "for c in Rating3:\n",
    "    c1 = str(c)\n",
    "    c2 = c1[17:20]\n",
    "    bubble1.append(c2)"
   ]
  },
  {
   "cell_type": "code",
   "execution_count": null,
   "id": "e7272e31",
   "metadata": {},
   "outputs": [],
   "source": [
    "bubble2 = bubble1[3:]"
   ]
  },
  {
   "cell_type": "markdown",
   "id": "cbe91f90",
   "metadata": {},
   "source": [
    "# Attraction Rating 30 - 60"
   ]
  },
  {
   "cell_type": "code",
   "execution_count": null,
   "id": "57fe70d7",
   "metadata": {},
   "outputs": [],
   "source": [
    "Kolkata_TA_30 = open('web_scrapped_data\\Kolkata_30.txt', 'r',encoding='utf-8').read()\n",
    "soup = BeautifulSoup(Kolkata_TA_30,\"html.parser\")"
   ]
  },
  {
   "cell_type": "code",
   "execution_count": null,
   "id": "e7f120a4",
   "metadata": {},
   "outputs": [],
   "source": [
    "Rating30 = soup.find_all(\"svg\",\"UctUV d H0 hzzSG\")\n",
    "Rating31 = str(Rating30)\n",
    "Rating32 = Rating31.replace('[','')\n",
    "Rating33 = Rating32.split(', ')"
   ]
  },
  {
   "cell_type": "code",
   "execution_count": null,
   "id": "e8981883",
   "metadata": {},
   "outputs": [],
   "source": [
    "bubble31 = []\n",
    "for c in Rating33:\n",
    "    c1 = str(c)\n",
    "    c2 = c1[17:20]\n",
    "    bubble31.append(c2)"
   ]
  },
  {
   "cell_type": "code",
   "execution_count": null,
   "id": "5ecfda15",
   "metadata": {},
   "outputs": [],
   "source": [
    "bubble32 = bubble31[3:]"
   ]
  },
  {
   "cell_type": "markdown",
   "id": "02336a5e",
   "metadata": {},
   "source": [
    "# Attraction Rating 60 - 90"
   ]
  },
  {
   "cell_type": "code",
   "execution_count": null,
   "id": "c5f829a6",
   "metadata": {},
   "outputs": [],
   "source": [
    "Kolkata_TA_60 = open('web_scrapped_data\\Kolkata_60.txt', 'r',encoding='utf-8').read()\n",
    "soup = BeautifulSoup(Kolkata_TA_60,\"html.parser\")"
   ]
  },
  {
   "cell_type": "code",
   "execution_count": null,
   "id": "e0a012fd",
   "metadata": {},
   "outputs": [],
   "source": [
    "Rating60 = soup.find_all(\"svg\",\"UctUV d H0 hzzSG\")\n",
    "Rating61 = str(Rating60)\n",
    "Rating62 = Rating61.replace('[','')\n",
    "Rating63 = Rating62.split(', ')"
   ]
  },
  {
   "cell_type": "code",
   "execution_count": null,
   "id": "5e710b55",
   "metadata": {},
   "outputs": [],
   "source": [
    "bubble61 = []\n",
    "for c in Rating63:\n",
    "    c1 = str(c)\n",
    "    c2 = c1[17:20]\n",
    "    bubble61.append(c2)"
   ]
  },
  {
   "cell_type": "code",
   "execution_count": null,
   "id": "f5ea7acd",
   "metadata": {},
   "outputs": [],
   "source": [
    "bubble62 = bubble61[3:]"
   ]
  },
  {
   "cell_type": "markdown",
   "id": "2250e8e4",
   "metadata": {},
   "source": [
    "# Attraction Rating 90 - 120"
   ]
  },
  {
   "cell_type": "code",
   "execution_count": null,
   "id": "5d2736b5",
   "metadata": {},
   "outputs": [],
   "source": [
    "Kolkata_TA_90 = open('web_scrapped_data\\Kolkata_90.txt', 'r',encoding='utf-8').read()\n",
    "soup = BeautifulSoup(Kolkata_TA_90,\"html.parser\")"
   ]
  },
  {
   "cell_type": "code",
   "execution_count": null,
   "id": "0b2f649b",
   "metadata": {},
   "outputs": [],
   "source": [
    "Rating90 = soup.find_all(\"svg\",\"UctUV d H0 hzzSG\")\n",
    "Rating91 = str(Rating90)\n",
    "Rating92 = Rating91.replace('[','')\n",
    "Rating93 = Rating92.split(', ')"
   ]
  },
  {
   "cell_type": "code",
   "execution_count": null,
   "id": "9a4f223b",
   "metadata": {},
   "outputs": [],
   "source": [
    "bubble91 = []\n",
    "for c in Rating93:\n",
    "    c91 = str(c)\n",
    "    c92 = c91[17:20]\n",
    "    bubble91.append(c92)"
   ]
  },
  {
   "cell_type": "code",
   "execution_count": null,
   "id": "22597bee",
   "metadata": {},
   "outputs": [],
   "source": [
    "bubble92 = bubble91[3:]"
   ]
  },
  {
   "cell_type": "markdown",
   "id": "81f54bd9",
   "metadata": {},
   "source": [
    "# Combining all attraction ratings into a list"
   ]
  },
  {
   "cell_type": "code",
   "execution_count": null,
   "id": "b87d5c1b",
   "metadata": {
    "scrolled": true
   },
   "outputs": [],
   "source": [
    "final_attraction_rating = bubble2\n",
    "final_attraction_rating.extend(bubble32)\n",
    "final_attraction_rating.extend(bubble62)\n",
    "final_attraction_rating.extend(bubble92)"
   ]
  },
  {
   "cell_type": "code",
   "execution_count": null,
   "id": "e8475e7d",
   "metadata": {},
   "outputs": [],
   "source": [
    "len(final_attraction_rating)"
   ]
  },
  {
   "cell_type": "markdown",
   "id": "7d9e445d",
   "metadata": {},
   "source": [
    "# Categories 0 - 30"
   ]
  },
  {
   "cell_type": "code",
   "execution_count": null,
   "id": "3120de07",
   "metadata": {},
   "outputs": [],
   "source": [
    "Kolkata_CT_0 = open('web_scrapped_data\\Kolkata_0.txt', 'r',encoding='utf-8').read()\n",
    "soup = BeautifulSoup(Kolkata_CT_0,\"html.parser\")\n",
    "categories_main_string_div = soup.find_all(\"div\",\"BKifx\")\n",
    "categories_sub_string_div = soup.find_all(\"div\",\"bRMrl _Y v K\")"
   ]
  },
  {
   "cell_type": "code",
   "execution_count": null,
   "id": "c7d15129",
   "metadata": {},
   "outputs": [],
   "source": [
    "def cleanhtmlmain(raw_html):\n",
    "    cleanr = re.compile('<.*?>')\n",
    "    cleantext = re.sub(cleanr, '', raw_html)\n",
    "    categories_main_list.append(cleantext)\n",
    "def cleanhtmlsub(raw_html):\n",
    "    cleanr = re.compile('<.*?>')\n",
    "    cleantext = re.sub(cleanr, '', raw_html)\n",
    "    categories_sub_list.append(cleantext)\n",
    "categories_main_list = []\n",
    "categories_sub_list = []\n",
    "for x in categories_main_string_div:\n",
    "    cleanhtmlmain(str(x))\n",
    "for x in categories_sub_string_div:\n",
    "    cleanhtmlsub(str(x))"
   ]
  },
  {
   "cell_type": "code",
   "execution_count": null,
   "id": "dfb47689",
   "metadata": {},
   "outputs": [],
   "source": [
    "# Removing Locations from the\n",
    "Categories_Split = []\n",
    "Area_Final_0 = []\n",
    "Main_String = categories_main_list\n",
    "Sub_String = categories_sub_list\n",
    "Main_String_Length = len(Main_String)\n",
    "Sub_String_Length = len(Sub_String)\n",
    "Sub_String.append(\"^\")\n",
    "y = 0\n",
    "# print(Main_String_Length)\n",
    "# print(Sub_String_Length)\n",
    "for x in range(Main_String_Length):\n",
    "    Main_String_Conversion = str(Main_String[x])\n",
    "    Sub_String_Conversion = str(Sub_String[y])\n",
    "    if Sub_String_Conversion in Main_String_Conversion:\n",
    "        if \"•Open now\" in Sub_String_Conversion:\n",
    "            Sub_String_Replacement = Sub_String_Conversion.replace(\"•Open now\",\"\")\n",
    "#             print(Sub_String_Replacement)\n",
    "            Area_Final_0.append(Sub_String_Replacement)\n",
    "        else:\n",
    "#             print(Sub_String_Replacement)\n",
    "            Area_Final_0.append(Sub_String_Conversion)\n",
    "        Main_String_Replacement = Main_String_Conversion.replace(Sub_String_Conversion,\"\")\n",
    "        y = y + 1\n",
    "#         print(Main_String_Replacement)\n",
    "        Categories_Split.append(Main_String_Replacement)\n",
    "    else:\n",
    "#         print(Main_String_Conversion)\n",
    "        Categories_Split.append(Main_String_Conversion)\n",
    "        Area_Final_0.append(\"\")"
   ]
  },
  {
   "cell_type": "code",
   "execution_count": null,
   "id": "30d3890e",
   "metadata": {
    "scrolled": true
   },
   "outputs": [],
   "source": [
    "# Spliting and combining the End Result\n",
    "Categories_Final_0 = []\n",
    "for x in Categories_Split:\n",
    "    Categories_to_String = str(x)\n",
    "    Replaced1 = Categories_to_String.replace(\"amp;\",\"\")\n",
    "    Categories_to_String_Replacement = Replaced1\n",
    "    if \"•\" in Categories_to_String_Replacement:\n",
    "        Categories_to_String_Split = Categories_to_String_Replacement.split(\" • \")\n",
    "        Categories_Final_0.append(Categories_to_String_Split)\n",
    "        print(Categories_to_String_Split)\n",
    "    else:\n",
    "        Categories_Final_0.append(Categories_to_String_Replacement)\n",
    "#     Replaced2 = Replaced1.replace(\"• \",\"\")\n",
    "#     Categories_to_String_Replacement = Replaced2"
   ]
  },
  {
   "cell_type": "code",
   "execution_count": null,
   "id": "847f837f",
   "metadata": {},
   "outputs": [],
   "source": [
    "Categories_Final_0[0] = Categories_Final_0[0][0:18]"
   ]
  },
  {
   "cell_type": "code",
   "execution_count": null,
   "id": "897a85c2",
   "metadata": {},
   "outputs": [],
   "source": [
    "Categories_Final_0[29] = str(Categories_Final_0[29][0]).split(\"•\")"
   ]
  },
  {
   "cell_type": "markdown",
   "id": "d3143ae5",
   "metadata": {},
   "source": [
    "# Categories 30 - 60"
   ]
  },
  {
   "cell_type": "code",
   "execution_count": null,
   "id": "27a33595",
   "metadata": {},
   "outputs": [],
   "source": [
    "Kolkata_CT_30 = open('web_scrapped_data\\Kolkata_30.txt', 'r',encoding='utf-8').read()\n",
    "soup = BeautifulSoup(Kolkata_CT_30,\"html.parser\")\n",
    "categories_main_string_div = soup.find_all(\"div\",\"BKifx\")\n",
    "categories_sub_string_div = soup.find_all(\"div\",\"bRMrl _Y v K\")"
   ]
  },
  {
   "cell_type": "code",
   "execution_count": null,
   "id": "9b5e81aa",
   "metadata": {},
   "outputs": [],
   "source": [
    "def cleanhtmlmain(raw_html):\n",
    "    cleanr = re.compile('<.*?>')\n",
    "    cleantext = re.sub(cleanr, '', raw_html)\n",
    "    categories_main_list.append(cleantext)\n",
    "def cleanhtmlsub(raw_html):\n",
    "    cleanr = re.compile('<.*?>')\n",
    "    cleantext = re.sub(cleanr, '', raw_html)\n",
    "    categories_sub_list.append(cleantext)\n",
    "categories_main_list = []\n",
    "categories_sub_list = []\n",
    "for x in categories_main_string_div:\n",
    "    cleanhtmlmain(str(x))\n",
    "for x in categories_sub_string_div:\n",
    "    cleanhtmlsub(str(x))"
   ]
  },
  {
   "cell_type": "code",
   "execution_count": null,
   "id": "72e45750",
   "metadata": {},
   "outputs": [],
   "source": [
    "# Removing Locations from the\n",
    "Categories_Split = []\n",
    "Area_Final_30 = []\n",
    "Main_String = categories_main_list\n",
    "Sub_String = categories_sub_list\n",
    "Main_String_Length = len(Main_String)\n",
    "Sub_String_Length = len(Sub_String)\n",
    "Sub_String.append(\"^\")\n",
    "y = 0\n",
    "# print(Main_String_Length)\n",
    "# print(Sub_String_Length)\n",
    "for x in range(Main_String_Length):\n",
    "    Main_String_Conversion = str(Main_String[x])\n",
    "    Sub_String_Conversion = str(Sub_String[y])\n",
    "    if Sub_String_Conversion in Main_String_Conversion:\n",
    "        if \"•Open now\" in Sub_String_Conversion:\n",
    "            Sub_String_Replacement = Sub_String_Conversion.replace(\"•Open now\",\"\")\n",
    "#             print(Sub_String_Replacement)\n",
    "            Area_Final_30.append(Sub_String_Replacement)\n",
    "        else:\n",
    "#             print(Sub_String_Replacement)\n",
    "            Area_Final_30.append(Sub_String_Conversion)\n",
    "        Main_String_Replacement = Main_String_Conversion.replace(Sub_String_Conversion,\"\")\n",
    "        y = y + 1\n",
    "#         print(Main_String_Replacement)\n",
    "        Categories_Split.append(Main_String_Replacement)\n",
    "    else:\n",
    "#         print(Main_String_Conversion)\n",
    "        Categories_Split.append(Main_String_Conversion)\n",
    "        Area_Final_30.append(\"\")"
   ]
  },
  {
   "cell_type": "code",
   "execution_count": null,
   "id": "40d44d68",
   "metadata": {},
   "outputs": [],
   "source": [
    "# Spliting and combining the End Result\n",
    "Categories_Final_30 = []\n",
    "for x in Categories_Split:\n",
    "    Categories_to_String = str(x)\n",
    "    Replaced1 = Categories_to_String.replace(\"amp;\",\"\")\n",
    "    Categories_to_String_Replacement = Replaced1\n",
    "    if \"•\" in Categories_to_String_Replacement:\n",
    "        Categories_to_String_Split = Categories_to_String_Replacement.split(\" • \")\n",
    "        Categories_Final_30.append(Categories_to_String_Split)\n",
    "    else:\n",
    "        Categories_Final_30.append(Categories_to_String_Replacement)\n",
    "#     Replaced2 = Replaced1.replace(\"• \",\"\")\n",
    "#     Categories_to_String_Replacement = Replaced2"
   ]
  },
  {
   "cell_type": "markdown",
   "id": "a2f58b37",
   "metadata": {},
   "source": [
    "# Categories 60 - 90"
   ]
  },
  {
   "cell_type": "code",
   "execution_count": null,
   "id": "265206c8",
   "metadata": {},
   "outputs": [],
   "source": [
    "Kolkata_CT_60 = open('web_scrapped_data\\Kolkata_60.txt', 'r',encoding='utf-8').read()\n",
    "soup = BeautifulSoup(Kolkata_CT_60,\"html.parser\")\n",
    "categories_main_string_div = soup.find_all(\"div\",\"BKifx\")\n",
    "categories_sub_string_div = soup.find_all(\"div\",\"bRMrl _Y v K\")"
   ]
  },
  {
   "cell_type": "code",
   "execution_count": null,
   "id": "db624876",
   "metadata": {},
   "outputs": [],
   "source": [
    "def cleanhtmlmain(raw_html):\n",
    "    cleanr = re.compile('<.*?>')\n",
    "    cleantext = re.sub(cleanr, '', raw_html)\n",
    "    categories_main_list.append(cleantext)\n",
    "def cleanhtmlsub(raw_html):\n",
    "    cleanr = re.compile('<.*?>')\n",
    "    cleantext = re.sub(cleanr, '', raw_html)\n",
    "    categories_sub_list.append(cleantext)\n",
    "categories_main_list = []\n",
    "categories_sub_list = []\n",
    "for x in categories_main_string_div:\n",
    "    cleanhtmlmain(str(x))\n",
    "for x in categories_sub_string_div:\n",
    "    cleanhtmlsub(str(x))"
   ]
  },
  {
   "cell_type": "code",
   "execution_count": null,
   "id": "1d084944",
   "metadata": {},
   "outputs": [],
   "source": [
    "# Removing Locations from the\n",
    "Categories_Split = []\n",
    "Area_Final_60 = []\n",
    "Main_String = categories_main_list\n",
    "Sub_String = categories_sub_list\n",
    "Main_String_Length = len(Main_String)\n",
    "Sub_String_Length = len(Sub_String)\n",
    "Sub_String.append(\"^\")\n",
    "y = 0\n",
    "# print(Main_String_Length)\n",
    "# print(Sub_String_Length)\n",
    "for x in range(Main_String_Length):\n",
    "    Main_String_Conversion = str(Main_String[x])\n",
    "    Sub_String_Conversion = str(Sub_String[y])\n",
    "    if Sub_String_Conversion in Main_String_Conversion:\n",
    "        if \"•Open now\" in Sub_String_Conversion:\n",
    "            Sub_String_Replacement = Sub_String_Conversion.replace(\"•Open now\",\"\")\n",
    "#             print(Sub_String_Replacement)\n",
    "            Area_Final_60.append(Sub_String_Replacement)\n",
    "        else:\n",
    "#             print(Sub_String_Replacement)\n",
    "            Area_Final_60.append(Sub_String_Conversion)\n",
    "        Main_String_Replacement = Main_String_Conversion.replace(Sub_String_Conversion,\"\")\n",
    "        y = y + 1\n",
    "#         print(Main_String_Replacement)\n",
    "        Categories_Split.append(Main_String_Replacement)\n",
    "    else:\n",
    "#         print(Main_String_Conversion)\n",
    "        Categories_Split.append(Main_String_Conversion)\n",
    "        Area_Final_60.append(\"\")"
   ]
  },
  {
   "cell_type": "code",
   "execution_count": null,
   "id": "b5eb817b",
   "metadata": {},
   "outputs": [],
   "source": [
    "# Spliting and combining the End Result\n",
    "Categories_Final_60 = []\n",
    "for x in Categories_Split:\n",
    "    Categories_to_String = str(x)\n",
    "    Replaced1 = Categories_to_String.replace(\"amp;\",\"\")\n",
    "    Categories_to_String_Replacement = Replaced1\n",
    "    if \"•\" in Categories_to_String_Replacement:\n",
    "        Categories_to_String_Split = Categories_to_String_Replacement.split(\" • \")\n",
    "        Categories_Final_60.append(Categories_to_String_Split)\n",
    "    else:\n",
    "        Categories_Final_60.append(Categories_to_String_Replacement)\n",
    "#     Replaced2 = Replaced1.replace(\"• \",\"\")\n",
    "#     Categories_to_String_Replacement = Replaced2"
   ]
  },
  {
   "cell_type": "markdown",
   "id": "b394f92b",
   "metadata": {},
   "source": [
    "# Categories 90 - 120"
   ]
  },
  {
   "cell_type": "code",
   "execution_count": null,
   "id": "14e025c1",
   "metadata": {},
   "outputs": [],
   "source": [
    "Kolkata_CT_90 = open('web_scrapped_data\\Kolkata_90.txt', 'r',encoding='utf-8').read()\n",
    "soup = BeautifulSoup(Kolkata_CT_90,\"html.parser\")\n",
    "categories_main_string_div = soup.find_all(\"div\",\"BKifx\")\n",
    "categories_sub_string_div = soup.find_all(\"div\",\"bRMrl _Y v K\")"
   ]
  },
  {
   "cell_type": "code",
   "execution_count": null,
   "id": "f955b555",
   "metadata": {},
   "outputs": [],
   "source": [
    "def cleanhtmlmain(raw_html):\n",
    "    cleanr = re.compile('<.*?>')\n",
    "    cleantext = re.sub(cleanr, '', raw_html)\n",
    "    categories_main_list.append(cleantext)\n",
    "    print(cleantext)\n",
    "def cleanhtmlsub(raw_html):\n",
    "    cleanr = re.compile('<.*?>')\n",
    "    cleantext = re.sub(cleanr, '', raw_html)\n",
    "    categories_sub_list.append(cleantext)\n",
    "    print(cleantext)\n",
    "categories_main_list = []\n",
    "categories_sub_list = []\n",
    "for x in categories_main_string_div:\n",
    "    cleanhtmlmain(str(x))\n",
    "for x in categories_sub_string_div:\n",
    "    cleanhtmlsub(str(x))"
   ]
  },
  {
   "cell_type": "code",
   "execution_count": null,
   "id": "8feca9d5",
   "metadata": {},
   "outputs": [],
   "source": [
    "# Removing Locations from the\n",
    "Categories_Split = []\n",
    "Area_Final_90 = []\n",
    "Main_String = categories_main_list\n",
    "Sub_String = categories_sub_list\n",
    "Main_String_Length = len(Main_String)\n",
    "Sub_String_Length = len(Sub_String)\n",
    "Sub_String.append(\"^\")\n",
    "y = 0\n",
    "# print(Main_String_Length)\n",
    "# print(Sub_String_Length)\n",
    "for x in range(Main_String_Length):\n",
    "    Main_String_Conversion = str(Main_String[x])\n",
    "    Sub_String_Conversion = str(Sub_String[y])\n",
    "    if Sub_String_Conversion in Main_String_Conversion:\n",
    "        if \"•Open now\" in Sub_String_Conversion:\n",
    "            Sub_String_Replacement = Sub_String_Conversion.replace(\"•Open now\",\"\")\n",
    "#             print(Sub_String_Replacement)\n",
    "            Area_Final_90.append(Sub_String_Replacement)\n",
    "        else:\n",
    "#             print(Sub_String_Replacement)\n",
    "            Area_Final_90.append(Sub_String_Conversion)\n",
    "        Main_String_Replacement = Main_String_Conversion.replace(Sub_String_Conversion,\"\")\n",
    "        y = y + 1\n",
    "#         print(Main_String_Replacement)\n",
    "        Categories_Split.append(Main_String_Replacement)\n",
    "    else:\n",
    "#         print(Main_String_Conversion)\n",
    "        Categories_Split.append(Main_String_Conversion)\n",
    "        Area_Final_90.append(\"\")"
   ]
  },
  {
   "cell_type": "code",
   "execution_count": null,
   "id": "75a36d62",
   "metadata": {},
   "outputs": [],
   "source": [
    "# Spliting and combining the End Result\n",
    "Categories_Final_90 = []\n",
    "for x in Categories_Split:\n",
    "    Categories_to_String = str(x)\n",
    "    Replaced1 = Categories_to_String.replace(\"amp;\",\"\")\n",
    "    Categories_to_String_Replacement = Replaced1\n",
    "    if \"•\" in Categories_to_String_Replacement:\n",
    "        Categories_to_String_Split = Categories_to_String_Replacement.split(\" • \")\n",
    "        Categories_Final_90.append(Categories_to_String_Split)\n",
    "        print(Categories_to_String_Split)\n",
    "    else:\n",
    "        Categories_Final_90.append(Categories_to_String_Replacement)\n",
    "        print(Categories_to_String_Replacement)\n",
    "#     Replaced2 = Replaced1.replace(\"• \",\"\")\n",
    "#     Categories_to_String_Replacement = Replaced2"
   ]
  },
  {
   "cell_type": "markdown",
   "id": "1e93ff0c",
   "metadata": {},
   "source": [
    "# Combining all categories ratings into a list"
   ]
  },
  {
   "cell_type": "code",
   "execution_count": null,
   "id": "d00b610a",
   "metadata": {},
   "outputs": [],
   "source": [
    "final_categories = Categories_Final_0\n",
    "final_categories.extend(Categories_Final_30)\n",
    "final_categories.extend(Categories_Final_60)\n",
    "final_categories.extend(Categories_Final_90)"
   ]
  },
  {
   "cell_type": "markdown",
   "id": "bd6a99e6",
   "metadata": {},
   "source": [
    "# Combining all areas into a list"
   ]
  },
  {
   "cell_type": "code",
   "execution_count": null,
   "id": "72bca8d4",
   "metadata": {},
   "outputs": [],
   "source": [
    "final_areas = Area_Final_0\n",
    "final_areas.extend(Area_Final_30)\n",
    "final_areas.extend(Area_Final_60)\n",
    "final_areas.extend(Area_Final_90)"
   ]
  },
  {
   "cell_type": "markdown",
   "id": "d283392d",
   "metadata": {},
   "source": [
    "# Making lists for City"
   ]
  },
  {
   "cell_type": "code",
   "execution_count": null,
   "id": "9cf0f22e",
   "metadata": {},
   "outputs": [],
   "source": [
    "final_city = []\n",
    "for x in range(120):\n",
    "    final_city.append(\"Kolkata\")"
   ]
  },
  {
   "cell_type": "markdown",
   "id": "26ee1bb1",
   "metadata": {},
   "source": [
    "# Converting the extracted data to a CSV file"
   ]
  },
  {
   "cell_type": "code",
   "execution_count": null,
   "id": "099d9490",
   "metadata": {},
   "outputs": [],
   "source": [
    "import csv\n",
    "from itertools import zip_longest\n",
    "tourist_rating_and_categories_spot_name = [final_tourist_spot,final_areas,final_city,final_attraction_rating,final_categories]\n",
    "tourist_rating_and_categories_spot_name_zip = zip_longest(*tourist_rating_and_categories_spot_name, fillvalue = '')\n",
    "with open('csv\\kolkata.csv', 'w', encoding=\"ISO-8859-1\", newline='') as myfile:\n",
    "      wr = csv.writer(myfile)\n",
    "      wr.writerow((\"Tourist_spot\",\"Area\",\"City\",\"Rating\",\"Categories\"))\n",
    "      wr.writerows(tourist_rating_and_categories_spot_name_zip)\n",
    "myfile.close()"
   ]
  },
  {
   "cell_type": "markdown",
   "id": "eb95a9e6",
   "metadata": {},
   "source": [
    "# Getting Co-ordinates and making a map"
   ]
  },
  {
   "cell_type": "code",
   "execution_count": null,
   "id": "57b07611",
   "metadata": {},
   "outputs": [],
   "source": [
    "nom=ArcGIS()\n",
    "mumbai_CSV_list_pandas = pd.read_csv('csv\\kolkata.csv')\n",
    "mumbai_CSV_list_pandas['Address']=mumbai_CSV_list_pandas['Tourist_spot']+','+mumbai_CSV_list_pandas['City']\n",
    "mumbai_CSV_list_pandas['coordinates'] = mumbai_CSV_list_pandas['Address'].apply(nom.geocode)\n",
    "mumbai_CSV_list_pandas['latitude'] = mumbai_CSV_list_pandas['coordinates'].apply(lambda x:x.latitude)\n",
    "mumbai_CSV_list_pandas['longitude'] = mumbai_CSV_list_pandas['coordinates'].apply(lambda x:x.longitude)\n",
    "mumbai_CSV_list_pandas.drop(['Address','coordinates'], axis=1)\n",
    "map_new=folium.Map()\n",
    "list_coor=mumbai_CSV_list_pandas[['Tourist_spot','latitude','longitude']].values.tolist()\n",
    "for i in list_coor:\n",
    "    map_new.add_child(folium.Marker(location=[i[1],i[2]],\n",
    "                                    popup=i[0],icon=folium.Icon(color='green')))\n",
    "map_new.save('Tourist_spot_Kolkata.html')\n",
    "mumbai_CSV_list_pandas.to_csv('csv\\kolkata.csv')"
   ]
  }
 ],
 "metadata": {
  "kernelspec": {
   "display_name": "Python 3 (ipykernel)",
   "language": "python",
   "name": "python3"
  },
  "language_info": {
   "codemirror_mode": {
    "name": "ipython",
    "version": 3
   },
   "file_extension": ".py",
   "mimetype": "text/x-python",
   "name": "python",
   "nbconvert_exporter": "python",
   "pygments_lexer": "ipython3",
   "version": "3.9.13"
  }
 },
 "nbformat": 4,
 "nbformat_minor": 5
}
