{
 "cells": [
  {
   "cell_type": "markdown",
   "id": "a95a8f4f",
   "metadata": {},
   "source": [
    "# **All the required packages**"
   ]
  },
  {
   "cell_type": "code",
   "execution_count": null,
   "id": "4c08c828",
   "metadata": {},
   "outputs": [],
   "source": [
    "pip install selenium"
   ]
  },
  {
   "cell_type": "code",
   "execution_count": null,
   "id": "c0bd4e1c",
   "metadata": {},
   "outputs": [],
   "source": [
    "pip install beautifulsoup4"
   ]
  },
  {
   "cell_type": "code",
   "execution_count": null,
   "id": "b744dcab",
   "metadata": {},
   "outputs": [],
   "source": [
    "pip install webdriver_manager"
   ]
  },
  {
   "cell_type": "code",
   "execution_count": null,
   "id": "8726a3e4",
   "metadata": {},
   "outputs": [],
   "source": [
    "pip install pandas"
   ]
  },
  {
   "cell_type": "code",
   "execution_count": null,
   "id": "23c4cfea",
   "metadata": {},
   "outputs": [],
   "source": [
    "pip install geopy"
   ]
  },
  {
   "cell_type": "code",
   "execution_count": null,
   "id": "d843feab",
   "metadata": {},
   "outputs": [],
   "source": [
    "pip install folium"
   ]
  },
  {
   "cell_type": "code",
   "execution_count": null,
   "id": "59eb0307",
   "metadata": {},
   "outputs": [],
   "source": [
    "pip install Googlemaps"
   ]
  },
  {
   "cell_type": "code",
   "execution_count": null,
   "id": "de1d63ac",
   "metadata": {},
   "outputs": [],
   "source": [
    "# Run all the above only if not done before"
   ]
  },
  {
   "cell_type": "code",
   "execution_count": null,
   "id": "72b30d22",
   "metadata": {},
   "outputs": [],
   "source": [
    "from selenium import webdriver\n",
    "from selenium.webdriver.chrome.service import Service\n",
    "from selenium.webdriver.common.by import By \n",
    "from selenium.webdriver.common.keys import Keys\n",
    "from selenium.webdriver.support.ui import WebDriverWait\n",
    "from selenium.webdriver.support import expected_conditions as EC\n",
    "from geopy.geocoders import Nominatim\n",
    "from geopy.geocoders import ArcGIS\n",
    "from geopy.geocoders import GoogleV3\n",
    "from geopy.geocoders import AzureMaps\n",
    "from selenium.webdriver.chrome.options import Options\n",
    "from bs4 import BeautifulSoup\n",
    "import time\n",
    "import googlemaps\n",
    "import pandas as pd\n",
    "import re\n",
    "import csv\n",
    "import folium\n",
    "#This is supposed to be run every iteration"
   ]
  },
  {
   "cell_type": "markdown",
   "id": "3f862099",
   "metadata": {},
   "source": [
    "# Scraping Data"
   ]
  },
  {
   "cell_type": "code",
   "execution_count": null,
   "id": "0444a681",
   "metadata": {},
   "outputs": [],
   "source": [
    "options = Options()\n",
    "options.headless = True\n",
    "options.add_argument(\"--window-size=1920,1200\")\n",
    "# All the settings"
   ]
  },
  {
   "cell_type": "code",
   "execution_count": null,
   "id": "ec5c7454",
   "metadata": {},
   "outputs": [],
   "source": [
    "driver = webdriver.Chrome(options=options)\n",
    "#Locations 0-30\n",
    "driver.get(\"https://www.tripadvisor.in/Attractions-g304556-Activities-oa0-Chennai_Madras_Chennai_District_Tamil_Nadu.html\")\n",
    "html_source = driver.page_source\n",
    "Chennai_0 = open(\"web_scrapped_data\\Chennai_0.txt\", \"w\",encoding='utf-8')\n",
    "Chennai_0.write(html_source)\n",
    "Chennai_0.close()\n",
    "#Ratings 0-30\n",
    "Chennai_0 = open(\"web_scrapped_data\\Chennai_0.txt\", \"w\",encoding='utf-8')\n",
    "Chennai_0.write(html_source)\n",
    "Chennai_0.close()\n",
    "#Locations 30-60\n",
    "driver.get(\"https://www.tripadvisor.in/Attractions-g304556-Activities-oa30-Chennai_Madras_Chennai_District_Tamil_Nadu.html\")\n",
    "html_source = driver.page_source\n",
    "Chennai_30 = open(\"web_scrapped_data\\Chennai_30.txt\", \"w\",encoding='utf-8')\n",
    "Chennai_30.write(html_source)\n",
    "Chennai_30.close()\n",
    "#Ratings 30-60\n",
    "Chennai_30 = open(\"web_scrapped_data\\Chennai_30.txt\", \"w\",encoding='utf-8')\n",
    "Chennai_30.write(html_source)\n",
    "Chennai_30.close()\n",
    "#Locations 60-90\n",
    "driver.get(\"https://www.tripadvisor.in/Attractions-g304556-Activities-oa60-Chennai_Madras_Chennai_District_Tamil_Nadu.html\")\n",
    "html_source = driver.page_source\n",
    "Chennai_60 = open(\"web_scrapped_data\\Chennai_60.txt\", \"w\",encoding='utf-8')\n",
    "Chennai_60.write(html_source)\n",
    "Chennai_60.close()\n",
    "#Ratings 60-90\n",
    "Chennai_60 = open(\"web_scrapped_data\\Chennai_60.txt\", \"w\",encoding='utf-8')\n",
    "Chennai_60.write(html_source)\n",
    "Chennai_60.close()\n",
    "#Locations 90-120\n",
    "driver.get(\"https://www.tripadvisor.in/Attractions-g304556-Activities-oa90-Chennai_Madras_Chennai_District_Tamil_Nadu.html\")\n",
    "html_source = driver.page_source\n",
    "Chennai_90 = open(\"web_scrapped_data\\Chennai_90.txt\", \"w\",encoding='utf-8')\n",
    "Chennai_90.write(html_source)\n",
    "Chennai_90.close()\n",
    "#Ratings 90-120\n",
    "Chennai_90 = open(\"web_scrapped_data\\Chennai_90.txt\", \"w\",encoding='utf-8')\n",
    "Chennai_90.write(html_source)\n",
    "Chennai_90.close()"
   ]
  },
  {
   "cell_type": "markdown",
   "id": "9ff1cda2",
   "metadata": {},
   "source": [
    "# Tourist Spots 0 - 30"
   ]
  },
  {
   "cell_type": "code",
   "execution_count": null,
   "id": "0e2cf5ab",
   "metadata": {},
   "outputs": [],
   "source": [
    "Chennai_0 = open('web_scrapped_data\\Chennai_0.txt', 'r').read()\n",
    "soup = BeautifulSoup(Chennai_0,\"html.parser\")"
   ]
  },
  {
   "cell_type": "code",
   "execution_count": null,
   "id": "08d5538e",
   "metadata": {},
   "outputs": [],
   "source": [
    "Location0 = soup.find_all(\"div\",\"XfVdV o AIbhI\")"
   ]
  },
  {
   "cell_type": "code",
   "execution_count": null,
   "id": "f4c3030a",
   "metadata": {},
   "outputs": [],
   "source": [
    "def cleanhtml(raw_html):\n",
    "    cleanr = re.compile('<.*?>')\n",
    "    cleantext = re.sub(cleanr, '', raw_html)\n",
    "    tourist_spot0.append(cleantext)"
   ]
  },
  {
   "cell_type": "code",
   "execution_count": null,
   "id": "69c3c822",
   "metadata": {},
   "outputs": [],
   "source": [
    "tourist_spot0 = []\n",
    "for x in Location0:\n",
    "    cleanhtml(str(x))"
   ]
  },
  {
   "cell_type": "code",
   "execution_count": null,
   "id": "99f1f966",
   "metadata": {},
   "outputs": [],
   "source": [
    "tourist_spot1 = []\n",
    "for s in tourist_spot0:\n",
    "    s2 = str(s)\n",
    "    s3 = s2.split('. ')\n",
    "    tourist_spot1.append(s3[1])"
   ]
  },
  {
   "cell_type": "code",
   "execution_count": null,
   "id": "b4747bc4",
   "metadata": {
    "scrolled": true
   },
   "outputs": [],
   "source": [
    "correction = tourist_spot0[23][4:37]\n",
    "correction"
   ]
  },
  {
   "cell_type": "code",
   "execution_count": null,
   "id": "acba22d6",
   "metadata": {},
   "outputs": [],
   "source": [
    "tourist_spot1[23] = correction"
   ]
  },
  {
   "cell_type": "markdown",
   "id": "b631373c",
   "metadata": {},
   "source": [
    "# Tourist Spots 30 - 60"
   ]
  },
  {
   "cell_type": "code",
   "execution_count": null,
   "id": "76516cc2",
   "metadata": {},
   "outputs": [],
   "source": [
    "Chennai_30 = open('web_scrapped_data\\Chennai_30.txt', 'r').read()\n",
    "soup = BeautifulSoup(Chennai_30,\"html.parser\")"
   ]
  },
  {
   "cell_type": "code",
   "execution_count": null,
   "id": "c4ed6160",
   "metadata": {},
   "outputs": [],
   "source": [
    "Location30 = soup.find_all(\"div\",\"XfVdV o AIbhI\")"
   ]
  },
  {
   "cell_type": "code",
   "execution_count": null,
   "id": "3f820268",
   "metadata": {},
   "outputs": [],
   "source": [
    "def cleanhtml(raw_html):\n",
    "    cleanr = re.compile('<.*?>')\n",
    "    cleantext = re.sub(cleanr, '', raw_html)\n",
    "    tourist_spot30.append(cleantext)"
   ]
  },
  {
   "cell_type": "code",
   "execution_count": null,
   "id": "a3fc590b",
   "metadata": {},
   "outputs": [],
   "source": [
    "tourist_spot30 = []\n",
    "for x in Location30:\n",
    "    cleanhtml(str(x))"
   ]
  },
  {
   "cell_type": "code",
   "execution_count": null,
   "id": "7270fa2c",
   "metadata": {},
   "outputs": [],
   "source": [
    "tourist_spot31 = []\n",
    "for s in tourist_spot30:\n",
    "    s2 = str(s)\n",
    "    s3 = s2.split('. ')\n",
    "    tourist_spot31.append(s3[1])"
   ]
  },
  {
   "cell_type": "code",
   "execution_count": null,
   "id": "96ecdd00",
   "metadata": {},
   "outputs": [],
   "source": [
    "correction1 = tourist_spot30[20][4:24]\n",
    "correction1"
   ]
  },
  {
   "cell_type": "code",
   "execution_count": null,
   "id": "231fc0ab",
   "metadata": {},
   "outputs": [],
   "source": [
    "tourist_spot31[20] = correction1\n",
    "tourist_spot31[20]"
   ]
  },
  {
   "cell_type": "markdown",
   "id": "e2b7d16b",
   "metadata": {},
   "source": [
    "# Tourist Spots 60 - 90"
   ]
  },
  {
   "cell_type": "code",
   "execution_count": null,
   "id": "4cb729bd",
   "metadata": {},
   "outputs": [],
   "source": [
    "Chennai_60 = open('web_scrapped_data\\Chennai_60.txt', 'r',encoding='utf-8').read()\n",
    "soup = BeautifulSoup(Chennai_60,\"html.parser\")"
   ]
  },
  {
   "cell_type": "code",
   "execution_count": null,
   "id": "0f19507b",
   "metadata": {},
   "outputs": [],
   "source": [
    "Location60 = soup.find_all(\"div\",\"XfVdV o AIbhI\")"
   ]
  },
  {
   "cell_type": "code",
   "execution_count": null,
   "id": "d6f41098",
   "metadata": {},
   "outputs": [],
   "source": [
    "def cleanhtml(raw_html):\n",
    "    cleanr = re.compile('<.*?>')\n",
    "    cleantext = re.sub(cleanr, '', raw_html)\n",
    "    tourist_spot60.append(cleantext)"
   ]
  },
  {
   "cell_type": "code",
   "execution_count": null,
   "id": "1d525321",
   "metadata": {},
   "outputs": [],
   "source": [
    "tourist_spot60 = []\n",
    "for x in Location60:\n",
    "    cleanhtml(str(x))"
   ]
  },
  {
   "cell_type": "code",
   "execution_count": null,
   "id": "d284f56a",
   "metadata": {},
   "outputs": [],
   "source": [
    "tourist_spot61 = []\n",
    "for s in tourist_spot60:\n",
    "    s2 = str(s)\n",
    "    s3 = s2.split('. ')\n",
    "    tourist_spot61.append(s3[1])"
   ]
  },
  {
   "cell_type": "markdown",
   "id": "30b3c0ab",
   "metadata": {},
   "source": [
    "# Tourist Spots 90 - 120"
   ]
  },
  {
   "cell_type": "code",
   "execution_count": null,
   "id": "23c8c2d9",
   "metadata": {},
   "outputs": [],
   "source": [
    "Chennai_90 = open('web_scrapped_data\\Chennai_90.txt', 'r',encoding='utf-8').read()\n",
    "soup = BeautifulSoup(Chennai_90,\"html.parser\")"
   ]
  },
  {
   "cell_type": "code",
   "execution_count": null,
   "id": "c7baa97c",
   "metadata": {},
   "outputs": [],
   "source": [
    "Location90 = soup.find_all(\"div\",\"XfVdV o AIbhI\")"
   ]
  },
  {
   "cell_type": "code",
   "execution_count": null,
   "id": "a7f197e7",
   "metadata": {},
   "outputs": [],
   "source": [
    "def cleanhtml(raw_html):\n",
    "    cleanr = re.compile('<.*?>')\n",
    "    cleantext = re.sub(cleanr, '', raw_html)\n",
    "    tourist_spot90.append(cleantext)"
   ]
  },
  {
   "cell_type": "code",
   "execution_count": null,
   "id": "7a6fe97a",
   "metadata": {},
   "outputs": [],
   "source": [
    "tourist_spot90 = []\n",
    "for x in Location90:\n",
    "    cleanhtml(str(x))"
   ]
  },
  {
   "cell_type": "code",
   "execution_count": null,
   "id": "79c021c5",
   "metadata": {},
   "outputs": [],
   "source": [
    "tourist_spot91 = []\n",
    "for s in tourist_spot90:\n",
    "    s2 = str(s)\n",
    "    s3 = s2.split('. ')\n",
    "    tourist_spot91.append(s3[1])"
   ]
  },
  {
   "cell_type": "code",
   "execution_count": null,
   "id": "5b03869b",
   "metadata": {},
   "outputs": [],
   "source": [
    "correction1 = tourist_spot90[18][4:]\n",
    "correction1"
   ]
  },
  {
   "cell_type": "code",
   "execution_count": null,
   "id": "a1ce51ea",
   "metadata": {},
   "outputs": [],
   "source": [
    "tourist_spot91[18] = correction1"
   ]
  },
  {
   "cell_type": "markdown",
   "id": "ba6f8f2b",
   "metadata": {},
   "source": [
    "# Combining all tourist spots into one list"
   ]
  },
  {
   "cell_type": "code",
   "execution_count": null,
   "id": "251e4481",
   "metadata": {},
   "outputs": [],
   "source": [
    "final_tourist_spot = tourist_spot1\n",
    "final_tourist_spot.extend(tourist_spot31)\n",
    "final_tourist_spot.extend(tourist_spot61)\n",
    "final_tourist_spot.extend(tourist_spot91)\n",
    "len(final_tourist_spot)"
   ]
  },
  {
   "cell_type": "markdown",
   "id": "f8d188df",
   "metadata": {},
   "source": [
    "# Attraction Ratings 0 - 30"
   ]
  },
  {
   "cell_type": "code",
   "execution_count": null,
   "id": "67601ee9",
   "metadata": {},
   "outputs": [],
   "source": [
    "Chennai_0 = open('web_scrapped_data\\Chennai_0.txt', 'r',encoding='utf-8').read()\n",
    "soup = BeautifulSoup(Chennai_0,\"html.parser\")"
   ]
  },
  {
   "cell_type": "code",
   "execution_count": null,
   "id": "ec87afad",
   "metadata": {},
   "outputs": [],
   "source": [
    "Rating = soup.find_all(\"svg\",\"UctUV d H0 hzzSG\")\n",
    "Rating1 = str(Rating)\n",
    "Rating2 = Rating1.replace('[','')\n",
    "Rating3 = Rating2.split(', ')"
   ]
  },
  {
   "cell_type": "code",
   "execution_count": null,
   "id": "5463f4b4",
   "metadata": {},
   "outputs": [],
   "source": [
    "bubble1 = []\n",
    "for c in Rating3:\n",
    "    c1 = str(c)\n",
    "    c2 = c1[17:20]\n",
    "    bubble1.append(c2)"
   ]
  },
  {
   "cell_type": "code",
   "execution_count": null,
   "id": "f6853bae",
   "metadata": {},
   "outputs": [],
   "source": [
    "bubble2 = bubble1[3:]"
   ]
  },
  {
   "cell_type": "markdown",
   "id": "cbe91f90",
   "metadata": {},
   "source": [
    "# Attraction Rating 30 - 60"
   ]
  },
  {
   "cell_type": "code",
   "execution_count": null,
   "id": "25aa6b7c",
   "metadata": {},
   "outputs": [],
   "source": [
    "Chennai_30 = open('web_scrapped_data\\Chennai_30.txt', 'r',encoding='utf-8').read()\n",
    "soup = BeautifulSoup(Chennai_30,\"html.parser\")"
   ]
  },
  {
   "cell_type": "code",
   "execution_count": null,
   "id": "7776b81b",
   "metadata": {},
   "outputs": [],
   "source": [
    "Rating30 = soup.find_all(\"svg\",\"UctUV d H0 hzzSG\")\n",
    "Rating31 = str(Rating30)\n",
    "Rating32 = Rating31.replace('[','')\n",
    "Rating33 = Rating32.split(', ')"
   ]
  },
  {
   "cell_type": "code",
   "execution_count": null,
   "id": "d36c29a8",
   "metadata": {},
   "outputs": [],
   "source": [
    "bubble31 = []\n",
    "for c in Rating33:\n",
    "    c1 = str(c)\n",
    "    c2 = c1[17:20]\n",
    "    bubble31.append(c2)"
   ]
  },
  {
   "cell_type": "code",
   "execution_count": null,
   "id": "3f505500",
   "metadata": {},
   "outputs": [],
   "source": [
    "bubble32 = bubble31[3:]"
   ]
  },
  {
   "cell_type": "markdown",
   "id": "02336a5e",
   "metadata": {},
   "source": [
    "# Attraction Rating 60 - 90"
   ]
  },
  {
   "cell_type": "code",
   "execution_count": null,
   "id": "2783b95c",
   "metadata": {},
   "outputs": [],
   "source": [
    "Chennai_60 = open('web_scrapped_data\\Chennai_60.txt', 'r',encoding='utf-8').read()\n",
    "soup = BeautifulSoup(Chennai_60,\"html.parser\")"
   ]
  },
  {
   "cell_type": "code",
   "execution_count": null,
   "id": "a16ecd05",
   "metadata": {},
   "outputs": [],
   "source": [
    "Rating60 = soup.find_all(\"svg\",\"UctUV d H0 hzzSG\")\n",
    "Rating61 = str(Rating60)\n",
    "Rating62 = Rating61.replace('[','')\n",
    "Rating63 = Rating62.split(', ')"
   ]
  },
  {
   "cell_type": "code",
   "execution_count": null,
   "id": "1a8b7610",
   "metadata": {},
   "outputs": [],
   "source": [
    "bubble61 = []\n",
    "for c in Rating63:\n",
    "    c1 = str(c)\n",
    "    c2 = c1[17:20]\n",
    "    bubble61.append(c2)"
   ]
  },
  {
   "cell_type": "code",
   "execution_count": null,
   "id": "de9c4f12",
   "metadata": {},
   "outputs": [],
   "source": [
    "bubble62 = bubble61[3:]"
   ]
  },
  {
   "cell_type": "markdown",
   "id": "fb72dc54",
   "metadata": {},
   "source": [
    "# Attraction Rating 90 - 120"
   ]
  },
  {
   "cell_type": "code",
   "execution_count": null,
   "id": "885d702b",
   "metadata": {},
   "outputs": [],
   "source": [
    "Chennai_90 = open('web_scrapped_data\\Chennai_90.txt', 'r',encoding='utf-8').read()\n",
    "soup = BeautifulSoup(Chennai_90,\"html.parser\")"
   ]
  },
  {
   "cell_type": "code",
   "execution_count": null,
   "id": "61528a81",
   "metadata": {},
   "outputs": [],
   "source": [
    "Rating90 = soup.find_all(\"svg\",\"UctUV d H0 hzzSG\")\n",
    "Rating91 = str(Rating90)\n",
    "Rating92 = Rating91.replace('[','')\n",
    "Rating93 = Rating92.split(', ')"
   ]
  },
  {
   "cell_type": "code",
   "execution_count": null,
   "id": "cadb82d6",
   "metadata": {},
   "outputs": [],
   "source": [
    "bubble91 = []\n",
    "for c in Rating93:\n",
    "    c1 = str(c)\n",
    "    c2 = c1[17:20]\n",
    "    bubble91.append(c2)"
   ]
  },
  {
   "cell_type": "code",
   "execution_count": null,
   "id": "3a14f597",
   "metadata": {},
   "outputs": [],
   "source": [
    "bubble92 = bubble91[3:]"
   ]
  },
  {
   "cell_type": "markdown",
   "id": "81f54bd9",
   "metadata": {},
   "source": [
    "# Combining all attraction ratings into a list"
   ]
  },
  {
   "cell_type": "code",
   "execution_count": null,
   "id": "b87d5c1b",
   "metadata": {
    "scrolled": false
   },
   "outputs": [],
   "source": [
    "final_attraction_rating = bubble2\n",
    "final_attraction_rating.extend(bubble32)\n",
    "final_attraction_rating.extend(bubble62)\n",
    "final_attraction_rating.extend(bubble92)\n",
    "len(final_attraction_rating)"
   ]
  },
  {
   "cell_type": "markdown",
   "id": "9626434e",
   "metadata": {},
   "source": [
    "# Categories 0 - 30"
   ]
  },
  {
   "cell_type": "code",
   "execution_count": null,
   "id": "a1c21ed5",
   "metadata": {},
   "outputs": [],
   "source": [
    "Chennai_CT_0 = open('web_scrapped_data\\Chennai_0.txt', 'r',encoding='utf-8').read()\n",
    "soup = BeautifulSoup(Chennai_CT_0,\"html.parser\")\n",
    "categories_main_string_div = soup.find_all(\"div\",\"BKifx\")\n",
    "categories_sub_string_div = soup.find_all(\"div\",\"bRMrl _Y v K\")"
   ]
  },
  {
   "cell_type": "code",
   "execution_count": null,
   "id": "7bccff33",
   "metadata": {},
   "outputs": [],
   "source": [
    "def cleanhtmlmain(raw_html):\n",
    "    cleanr = re.compile('<.*?>')\n",
    "    cleantext = re.sub(cleanr, '', raw_html)\n",
    "    categories_main_list.append(cleantext)\n",
    "def cleanhtmlsub(raw_html):\n",
    "    cleanr = re.compile('<.*?>')\n",
    "    cleantext = re.sub(cleanr, '', raw_html)\n",
    "    categories_sub_list.append(cleantext)\n",
    "categories_main_list = []\n",
    "categories_sub_list = []\n",
    "for x in categories_main_string_div:\n",
    "    cleanhtmlmain(str(x))\n",
    "for x in categories_sub_string_div:\n",
    "    cleanhtmlsub(str(x))"
   ]
  },
  {
   "cell_type": "code",
   "execution_count": null,
   "id": "2a9edf72",
   "metadata": {},
   "outputs": [],
   "source": [
    "# Removing Locations from the\n",
    "Categories_Split = []\n",
    "Area_Final_0 = []\n",
    "Main_String = categories_main_list\n",
    "Sub_String = categories_sub_list\n",
    "Main_String_Length = len(Main_String)\n",
    "Sub_String_Length = len(Sub_String)\n",
    "Sub_String.append(\"^\")\n",
    "y = 0\n",
    "# print(Main_String_Length)\n",
    "# print(Sub_String_Length)\n",
    "for x in range(Main_String_Length):\n",
    "    Main_String_Conversion = str(Main_String[x])\n",
    "    Sub_String_Conversion = str(Sub_String[y])\n",
    "    Sub_String_Replacement = \"\"\n",
    "    if Sub_String_Conversion in Main_String_Conversion:\n",
    "        if \"•Open now\" in Sub_String_Conversion:\n",
    "            Sub_String_Replacement = Sub_String_Conversion.replace(\"•Open now\",\"\")\n",
    "#             print(Sub_String_Replacement)\n",
    "            Area_Final_0.append(Sub_String_Replacement)\n",
    "        else:\n",
    "#             print(Sub_String_Replacement)\n",
    "            Area_Final_0.append(Sub_String_Conversion)\n",
    "        Main_String_Replacement = Main_String_Conversion.replace(Sub_String_Conversion,\"\")\n",
    "        y = y + 1\n",
    "#         print(Main_String_Replacement)\n",
    "        Categories_Split.append(Main_String_Replacement)\n",
    "    else:\n",
    "#         print(Main_String_Conversion)\n",
    "        Categories_Split.append(Main_String_Conversion)\n",
    "        Area_Final_0.append(\"\")"
   ]
  },
  {
   "cell_type": "code",
   "execution_count": null,
   "id": "28258008",
   "metadata": {},
   "outputs": [],
   "source": [
    "# Spliting and combining the End Result\n",
    "Categories_Final_0 = []\n",
    "for x in Categories_Split:\n",
    "    Categories_to_String = str(x)\n",
    "    Replaced1 = Categories_to_String.replace(\"amp;\",\"\")\n",
    "    Categories_to_String_Replacement = Replaced1\n",
    "    if \"•\" in Categories_to_String_Replacement:\n",
    "        Categories_to_String_Split = Categories_to_String_Replacement.split(\" • \")\n",
    "        Categories_Final_0.append(Categories_to_String_Split)\n",
    "    else:\n",
    "        Categories_Final_0.append(Categories_to_String_Replacement)\n",
    "#     Replaced2 = Replaced1.replace(\"• \",\"\")\n",
    "#     Categories_to_String_Replacement = Replaced2"
   ]
  },
  {
   "cell_type": "markdown",
   "id": "06475a9c",
   "metadata": {},
   "source": [
    "# Categories 30 - 60"
   ]
  },
  {
   "cell_type": "code",
   "execution_count": null,
   "id": "0e87920b",
   "metadata": {},
   "outputs": [],
   "source": [
    "Chennai_CT_30 = open('web_scrapped_data\\Chennai_30.txt', 'r',encoding='utf-8').read()\n",
    "soup = BeautifulSoup(Chennai_CT_30,\"html.parser\")\n",
    "categories_main_string_div = soup.find_all(\"div\",\"BKifx\")\n",
    "categories_sub_string_div = soup.find_all(\"div\",\"bRMrl _Y v K\")"
   ]
  },
  {
   "cell_type": "code",
   "execution_count": null,
   "id": "eacc65cd",
   "metadata": {},
   "outputs": [],
   "source": [
    "def cleanhtmlmain(raw_html):\n",
    "    cleanr = re.compile('<.*?>')\n",
    "    cleantext = re.sub(cleanr, '', raw_html)\n",
    "    categories_main_list.append(cleantext)\n",
    "def cleanhtmlsub(raw_html):\n",
    "    cleanr = re.compile('<.*?>')\n",
    "    cleantext = re.sub(cleanr, '', raw_html)\n",
    "    categories_sub_list.append(cleantext)\n",
    "categories_main_list = []\n",
    "categories_sub_list = []\n",
    "for x in categories_main_string_div:\n",
    "    cleanhtmlmain(str(x))\n",
    "for x in categories_sub_string_div:\n",
    "    cleanhtmlsub(str(x))"
   ]
  },
  {
   "cell_type": "code",
   "execution_count": null,
   "id": "85677611",
   "metadata": {},
   "outputs": [],
   "source": [
    "# Removing Locations from the\n",
    "Categories_Split = []\n",
    "Area_Final_30 = []\n",
    "Main_String = categories_main_list\n",
    "Sub_String = categories_sub_list\n",
    "Main_String_Length = len(Main_String)\n",
    "Sub_String_Length = len(Sub_String)\n",
    "Sub_String.append(\"^\")\n",
    "y = 0\n",
    "# print(Main_String_Length)\n",
    "# print(Sub_String_Length)\n",
    "for x in range(Main_String_Length):\n",
    "    Main_String_Conversion = str(Main_String[x])\n",
    "    Sub_String_Conversion = str(Sub_String[y])\n",
    "    Sub_String_Replacement = \"\"\n",
    "    if Sub_String_Conversion in Main_String_Conversion:\n",
    "        if \"•Open now\" in Sub_String_Conversion:\n",
    "            Sub_String_Replacement = Sub_String_Conversion.replace(\"•Open now\",\"\")\n",
    "#             print(Sub_String_Replacement)\n",
    "            Area_Final_30.append(Sub_String_Replacement)\n",
    "        else:\n",
    "#             print(Sub_String_Replacement)\n",
    "            Area_Final_30.append(Sub_String_Conversion)\n",
    "        Main_String_Replacement = Main_String_Conversion.replace(Sub_String_Conversion,\"\")\n",
    "        y = y + 1\n",
    "#         print(Main_String_Replacement)\n",
    "        Categories_Split.append(Main_String_Replacement)\n",
    "    else:\n",
    "#         print(Main_String_Conversion)\n",
    "        Categories_Split.append(Main_String_Conversion)\n",
    "        Area_Final_30.append(\"\")"
   ]
  },
  {
   "cell_type": "code",
   "execution_count": null,
   "id": "69992fc2",
   "metadata": {},
   "outputs": [],
   "source": [
    "# Spliting and combining the End Result\n",
    "Categories_Final_30 = []\n",
    "for x in Categories_Split:\n",
    "    Categories_to_String = str(x)\n",
    "    Replaced1 = Categories_to_String.replace(\"amp;\",\"\")\n",
    "    Categories_to_String_Replacement = Replaced1\n",
    "    if \"•\" in Categories_to_String_Replacement:\n",
    "        Categories_to_String_Split = Categories_to_String_Replacement.split(\" • \")\n",
    "        Categories_Final_30.append(Categories_to_String_Split)\n",
    "    else:\n",
    "        Categories_Final_30.append(Categories_to_String_Replacement)\n",
    "#     Replaced2 = Replaced1.replace(\"• \",\"\")\n",
    "#     Categories_to_String_Replacement = Replaced2"
   ]
  },
  {
   "cell_type": "markdown",
   "id": "02e44a25",
   "metadata": {},
   "source": [
    "# Categories 60 - 90"
   ]
  },
  {
   "cell_type": "code",
   "execution_count": null,
   "id": "82ca6689",
   "metadata": {},
   "outputs": [],
   "source": [
    "Chennai_CT_60 = open('web_scrapped_data\\Chennai_60.txt', 'r',encoding='utf-8').read()\n",
    "soup = BeautifulSoup(Chennai_CT_60,\"html.parser\")\n",
    "categories_main_string_div = soup.find_all(\"div\",\"BKifx\")\n",
    "categories_sub_string_div = soup.find_all(\"div\",\"bRMrl _Y v K\")"
   ]
  },
  {
   "cell_type": "code",
   "execution_count": null,
   "id": "0f948424",
   "metadata": {},
   "outputs": [],
   "source": [
    "def cleanhtmlmain(raw_html):\n",
    "    cleanr = re.compile('<.*?>')\n",
    "    cleantext = re.sub(cleanr, '', raw_html)\n",
    "    categories_main_list.append(cleantext)\n",
    "def cleanhtmlsub(raw_html):\n",
    "    cleanr = re.compile('<.*?>')\n",
    "    cleantext = re.sub(cleanr, '', raw_html)\n",
    "    categories_sub_list.append(cleantext)\n",
    "categories_main_list = []\n",
    "categories_sub_list = []\n",
    "for x in categories_main_string_div:\n",
    "    cleanhtmlmain(str(x))\n",
    "for x in categories_sub_string_div:\n",
    "    cleanhtmlsub(str(x))"
   ]
  },
  {
   "cell_type": "code",
   "execution_count": null,
   "id": "931a5af2",
   "metadata": {},
   "outputs": [],
   "source": [
    "# Removing Locations from the\n",
    "Categories_Split = []\n",
    "Area_Final_60 = []\n",
    "Main_String = categories_main_list\n",
    "Sub_String = categories_sub_list\n",
    "Main_String_Length = len(Main_String)\n",
    "Sub_String_Length = len(Sub_String)\n",
    "Sub_String.append(\"^\")\n",
    "y = 0\n",
    "# print(Main_String_Length)\n",
    "# print(Sub_String_Length)\n",
    "for x in range(Main_String_Length):\n",
    "    Main_String_Conversion = str(Main_String[x])\n",
    "    Sub_String_Conversion = str(Sub_String[y])\n",
    "    Sub_String_Replacement = \"\"\n",
    "    if Sub_String_Conversion in Main_String_Conversion:\n",
    "        if \"•Open now\" in Sub_String_Conversion:\n",
    "            Sub_String_Replacement = Sub_String_Conversion.replace(\"•Open now\",\"\")\n",
    "#             print(Sub_String_Replacement)\n",
    "            Area_Final_60.append(Sub_String_Replacement)\n",
    "        else:\n",
    "#             print(Sub_String_Replacement)\n",
    "            Area_Final_60.append(Sub_String_Conversion)\n",
    "        Main_String_Replacement = Main_String_Conversion.replace(Sub_String_Conversion,\"\")\n",
    "        y = y + 1\n",
    "#         print(Main_String_Replacement)\n",
    "#         print(y)\n",
    "        Categories_Split.append(Main_String_Replacement)\n",
    "    else:\n",
    "#         print(Main_String_Conversion)\n",
    "        Categories_Split.append(Main_String_Conversion)\n",
    "        Area_Final_60.append(\"\")"
   ]
  },
  {
   "cell_type": "code",
   "execution_count": null,
   "id": "6dbd7c69",
   "metadata": {},
   "outputs": [],
   "source": [
    "# Spliting and combining the End Result\n",
    "Categories_Final_60 = []\n",
    "for x in Categories_Split:\n",
    "    Categories_to_String = str(x)\n",
    "    Replaced1 = Categories_to_String.replace(\"amp;\",\"\")\n",
    "    Categories_to_String_Replacement = Replaced1\n",
    "    if \"•\" in Categories_to_String_Replacement:\n",
    "        Categories_to_String_Split = Categories_to_String_Replacement.split(\" • \")\n",
    "        Categories_Final_60.append(Categories_to_String_Split)\n",
    "    else:\n",
    "        Categories_Final_60.append(Categories_to_String_Replacement)\n",
    "#     Replaced2 = Replaced1.replace(\"• \",\"\")\n",
    "#     Categories_to_String_Replacement = Replaced2"
   ]
  },
  {
   "cell_type": "markdown",
   "id": "25b89416",
   "metadata": {},
   "source": [
    "# Categories 90 - 120"
   ]
  },
  {
   "cell_type": "code",
   "execution_count": null,
   "id": "f3ad74f7",
   "metadata": {},
   "outputs": [],
   "source": [
    "Chennai_CT_90 = open('web_scrapped_data\\Chennai_90.txt', 'r',encoding='utf-8').read()\n",
    "soup = BeautifulSoup(Chennai_CT_90,\"html.parser\")\n",
    "categories_main_string_div = soup.find_all(\"div\",\"BKifx\")\n",
    "categories_sub_string_div = soup.find_all(\"div\",\"bRMrl _Y v K\")"
   ]
  },
  {
   "cell_type": "code",
   "execution_count": null,
   "id": "f48d1fb9",
   "metadata": {},
   "outputs": [],
   "source": [
    "def cleanhtmlmain(raw_html):\n",
    "    cleanr = re.compile('<.*?>')\n",
    "    cleantext = re.sub(cleanr, '', raw_html)\n",
    "    categories_main_list.append(cleantext)\n",
    "def cleanhtmlsub(raw_html):\n",
    "    cleanr = re.compile('<.*?>')\n",
    "    cleantext = re.sub(cleanr, '', raw_html)\n",
    "    categories_sub_list.append(cleantext)\n",
    "categories_main_list = []\n",
    "categories_sub_list = []\n",
    "for x in categories_main_string_div:\n",
    "    cleanhtmlmain(str(x))\n",
    "for x in categories_sub_string_div:\n",
    "    cleanhtmlsub(str(x))"
   ]
  },
  {
   "cell_type": "code",
   "execution_count": null,
   "id": "d167f9e8",
   "metadata": {},
   "outputs": [],
   "source": [
    "# Removing Locations from the\n",
    "Categories_Split = []\n",
    "Area_Final_90 = []\n",
    "Main_String = categories_main_list\n",
    "Sub_String = categories_sub_list\n",
    "Main_String_Length = len(Main_String)\n",
    "Sub_String_Length = len(Sub_String)\n",
    "Sub_String.append(\"^\")\n",
    "y = 0\n",
    "# print(Main_String_Length)\n",
    "# print(Sub_String_Length)\n",
    "for x in range(Main_String_Length):\n",
    "    Main_String_Conversion = str(Main_String[x])\n",
    "    Sub_String_Conversion = str(Sub_String[y])\n",
    "    Sub_String_Replacement = \"\"\n",
    "    if Sub_String_Conversion in Main_String_Conversion:\n",
    "        if \"•Open now\" in Sub_String_Conversion:\n",
    "            Sub_String_Replacement = Sub_String_Conversion.replace(\"•Open now\",\"\")\n",
    "#             print(Sub_String_Replacement)\n",
    "            Area_Final_90.append(Sub_String_Replacement)\n",
    "        else:\n",
    "#             print(Sub_String_Replacement)\n",
    "            Area_Final_90.append(Sub_String_Conversion)\n",
    "        Main_String_Replacement = Main_String_Conversion.replace(Sub_String_Conversion,\"\")\n",
    "        y = y + 1\n",
    "#         print(Main_String_Replacement)\n",
    "        Categories_Split.append(Main_String_Replacement)\n",
    "    else:\n",
    "#         print(Main_String_Conversion)\n",
    "        Categories_Split.append(Main_String_Conversion)\n",
    "        Area_Final_90.append(\"\")"
   ]
  },
  {
   "cell_type": "code",
   "execution_count": null,
   "id": "fb444531",
   "metadata": {},
   "outputs": [],
   "source": [
    "# Spliting and combining the End Result\n",
    "Categories_Final_90 = []\n",
    "for x in Categories_Split:\n",
    "    Categories_to_String = str(x)\n",
    "    Replaced1 = Categories_to_String.replace(\"amp;\",\"\")\n",
    "    Categories_to_String_Replacement = Replaced1\n",
    "    if \"•\" in Categories_to_String_Replacement:\n",
    "        Categories_to_String_Split = Categories_to_String_Replacement.split(\" • \")\n",
    "        Categories_Final_90.append(Categories_to_String_Split)\n",
    "    else:\n",
    "        Categories_Final_90.append(Categories_to_String_Replacement)\n",
    "#     Replaced2 = Replaced1.replace(\"• \",\"\")\n",
    "#     Categories_to_String_Replacement = Replaced2"
   ]
  },
  {
   "cell_type": "markdown",
   "id": "ce62e36e",
   "metadata": {},
   "source": [
    "# Combining all categories ratings into a list"
   ]
  },
  {
   "cell_type": "code",
   "execution_count": null,
   "id": "037cfe0a",
   "metadata": {},
   "outputs": [],
   "source": [
    "final_categories = Categories_Final_0\n",
    "final_categories.extend(Categories_Final_30)\n",
    "final_categories.extend(Categories_Final_60)\n",
    "final_categories.extend(Categories_Final_90)"
   ]
  },
  {
   "cell_type": "markdown",
   "id": "3fd0c298",
   "metadata": {},
   "source": [
    "# Combining all areas into a list"
   ]
  },
  {
   "cell_type": "code",
   "execution_count": null,
   "id": "a512fcaa",
   "metadata": {},
   "outputs": [],
   "source": [
    "final_areas = Area_Final_0\n",
    "final_areas.extend(Area_Final_30)\n",
    "final_areas.extend(Area_Final_60)\n",
    "final_areas.extend(Area_Final_90)"
   ]
  },
  {
   "cell_type": "markdown",
   "id": "47f6108a",
   "metadata": {},
   "source": [
    "# Making lists for City|"
   ]
  },
  {
   "cell_type": "code",
   "execution_count": null,
   "id": "6ddb3c22",
   "metadata": {},
   "outputs": [],
   "source": [
    "final_city = []\n",
    "for x in range(120):\n",
    "    final_city.append(\"Chennai\")"
   ]
  },
  {
   "cell_type": "markdown",
   "id": "26ee1bb1",
   "metadata": {},
   "source": [
    "# Converting the extracted data to a CSV file"
   ]
  },
  {
   "cell_type": "code",
   "execution_count": null,
   "id": "099d9490",
   "metadata": {},
   "outputs": [],
   "source": [
    "import csv\n",
    "from itertools import zip_longest\n",
    "tourist_rating_and_categories_spot_name = [final_tourist_spot,final_areas,final_city,final_attraction_rating,final_categories]\n",
    "tourist_rating_and_categories_spot_name_zip = zip_longest(*tourist_rating_and_categories_spot_name, fillvalue = '')\n",
    "with open('csv\\chennai.csv', 'w', encoding=\"utf-8\", newline='') as myfile:\n",
    "      wr = csv.writer(myfile)\n",
    "      wr.writerow((\"Tourist_spot\",\"Area\",\"City\",\"Rating\",\"Categories\"))\n",
    "      wr.writerows(tourist_rating_and_categories_spot_name_zip)\n",
    "myfile.close()"
   ]
  },
  {
   "cell_type": "markdown",
   "id": "a1fb1fea",
   "metadata": {},
   "source": [
    "# Getting Co-ordinates and making a map"
   ]
  },
  {
   "cell_type": "code",
   "execution_count": null,
   "id": "8b3c1a29",
   "metadata": {},
   "outputs": [],
   "source": [
    "nom=ArcGIS()\n",
    "mumbai_CSV_list_pandas = pd.read_csv('csv\\chennai.csv')\n",
    "mumbai_CSV_list_pandas['Address']=mumbai_CSV_list_pandas['Tourist_spot']+','+mumbai_CSV_list_pandas['City']\n",
    "mumbai_CSV_list_pandas['coordinates'] = mumbai_CSV_list_pandas['Address'].apply(nom.geocode)\n",
    "mumbai_CSV_list_pandas['latitude'] = mumbai_CSV_list_pandas['coordinates'].apply(lambda x:x.latitude)\n",
    "mumbai_CSV_list_pandas['longitude'] = mumbai_CSV_list_pandas['coordinates'].apply(lambda x:x.longitude)\n",
    "mumbai_CSV_list_pandas.drop(['Address','coordinates'], axis=1)\n",
    "map_new=folium.Map()\n",
    "list_coor=mumbai_CSV_list_pandas[['Tourist_spot','latitude','longitude']].values.tolist()\n",
    "for i in list_coor:\n",
    "    map_new.add_child(folium.Marker(location=[i[1],i[2]],\n",
    "                                    popup=i[0],icon=folium.Icon(color='green')))\n",
    "map_new.save('Tourist_spot_Chennai.html')\n",
    "mumbai_CSV_list_pandas.to_csv('csv\\chennai.csv')"
   ]
  },
  {
   "cell_type": "code",
   "execution_count": null,
   "id": "ad6e6c51",
   "metadata": {},
   "outputs": [],
   "source": []
  }
 ],
 "metadata": {
  "kernelspec": {
   "display_name": "Python 3 (ipykernel)",
   "language": "python",
   "name": "python3"
  },
  "language_info": {
   "codemirror_mode": {
    "name": "ipython",
    "version": 3
   },
   "file_extension": ".py",
   "mimetype": "text/x-python",
   "name": "python",
   "nbconvert_exporter": "python",
   "pygments_lexer": "ipython3",
   "version": "3.9.13"
  }
 },
 "nbformat": 4,
 "nbformat_minor": 5
}
