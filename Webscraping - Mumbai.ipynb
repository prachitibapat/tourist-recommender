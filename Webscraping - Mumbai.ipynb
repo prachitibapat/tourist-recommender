{
 "cells": [
  {
   "cell_type": "markdown",
   "id": "a95a8f4f",
   "metadata": {},
   "source": [
    "# **All the required packages**"
   ]
  },
  {
   "cell_type": "code",
   "execution_count": null,
   "id": "4c08c828",
   "metadata": {},
   "outputs": [],
   "source": [
    "pip install selenium"
   ]
  },
  {
   "cell_type": "code",
   "execution_count": null,
   "id": "c0bd4e1c",
   "metadata": {},
   "outputs": [],
   "source": [
    "pip install beautifulsoup4"
   ]
  },
  {
   "cell_type": "code",
   "execution_count": null,
   "id": "b744dcab",
   "metadata": {},
   "outputs": [],
   "source": [
    "pip install webdriver_manager"
   ]
  },
  {
   "cell_type": "code",
   "execution_count": null,
   "id": "8726a3e4",
   "metadata": {},
   "outputs": [],
   "source": [
    "pip install pandas"
   ]
  },
  {
   "cell_type": "code",
   "execution_count": null,
   "id": "4dc5cf6c",
   "metadata": {},
   "outputs": [],
   "source": [
    "pip install jupyter"
   ]
  },
  {
   "cell_type": "code",
   "execution_count": null,
   "id": "7835aad0",
   "metadata": {},
   "outputs": [],
   "source": [
    "# Run all the above only if not done before"
   ]
  },
  {
   "cell_type": "code",
   "execution_count": 1,
   "id": "72b30d22",
   "metadata": {},
   "outputs": [],
   "source": [
    "from selenium import webdriver\n",
    "from selenium.webdriver.chrome.service import Service\n",
    "from selenium.webdriver.common.by import By \n",
    "from selenium.webdriver.common.keys import Keys\n",
    "from selenium.webdriver.support.ui import WebDriverWait\n",
    "from selenium.webdriver.support import expected_conditions as EC\n",
    "import time\n",
    "from bs4 import BeautifulSoup\n",
    "import pandas as pd\n",
    "import re\n",
    "#This is supposed to be run every iteration"
   ]
  },
  {
   "cell_type": "markdown",
   "id": "9ff1cda2",
   "metadata": {},
   "source": [
    "# Tourist Attractions 0 - 30"
   ]
  },
  {
   "cell_type": "code",
   "execution_count": 2,
   "id": "5f4d814a",
   "metadata": {},
   "outputs": [],
   "source": [
    "driver = webdriver.Chrome()\n",
    "driver.get(\"https://www.tripadvisor.in/Attractions-g304554-Activities-oa0-Mumbai_Maharashtra.html\")\n",
    "html_source = driver.page_source\n",
    "Mumbai_TA_0 = open(\"web_scrapped_data\\Mumbai_TA_0.txt\", \"w\",encoding='utf-8')\n",
    "Mumbai_TA_0.write(html_source)\n",
    "Mumbai_TA_0.close()\n",
    "# Run only if txt file does not exist"
   ]
  },
  {
   "cell_type": "code",
   "execution_count": 70,
   "id": "07dc9c4b",
   "metadata": {},
   "outputs": [],
   "source": [
    "Mumbai_TA_0 = open('web_scrapped_data\\Mumbai_TA_0.txt', 'r').read()\n",
    "soup = BeautifulSoup(Mumbai_TA_0,\"html.parser\")"
   ]
  },
  {
   "cell_type": "code",
   "execution_count": 71,
   "id": "fc82f47a",
   "metadata": {},
   "outputs": [],
   "source": [
    "Location0 = soup.find_all(\"div\",\"XfVdV o AIbhI\")"
   ]
  },
  {
   "cell_type": "code",
   "execution_count": 72,
   "id": "4e83022f",
   "metadata": {},
   "outputs": [],
   "source": [
    "def cleanhtml(raw_html):\n",
    "    cleanr = re.compile('<.*?>')\n",
    "    cleantext = re.sub(cleanr, '', raw_html)\n",
    "    tourist_spot0.append(cleantext)"
   ]
  },
  {
   "cell_type": "code",
   "execution_count": 73,
   "id": "db3871f2",
   "metadata": {
    "scrolled": true
   },
   "outputs": [],
   "source": [
    "tourist_spot0 = []\n",
    "for x in Location0:\n",
    "    cleanhtml(str(x))"
   ]
  },
  {
   "cell_type": "code",
   "execution_count": 74,
   "id": "7a574dfe",
   "metadata": {},
   "outputs": [],
   "source": [
    "tourist_spot1 = []\n",
    "for s in tourist_spot0:\n",
    "    s2 = str(s)\n",
    "    s3 = s2.split('. ')\n",
    "    tourist_spot1.append(s3[1])"
   ]
  },
  {
   "cell_type": "code",
   "execution_count": 75,
   "id": "c1038340",
   "metadata": {},
   "outputs": [
    {
     "data": {
      "text/plain": [
       "['Gateway of India',\n",
       " 'Marine Drive',\n",
       " 'Bandra-Worli Sea Link',\n",
       " 'Shree Siddhivinayak',\n",
       " 'Chhatrapati Shivaji Terminus',\n",
       " 'KidZania Mumbai',\n",
       " 'Colaba',\n",
       " 'Nariman Point',\n",
       " 'Elephanta Caves',\n",
       " 'Mani Bhavan Gandhi Museum',\n",
       " 'Global Vipassana Pagoda',\n",
       " 'Essel World',\n",
       " 'Mount Mary Basilica',\n",
       " 'Kanheri Caves',\n",
       " 'Mahalakshmi Temple',\n",
       " 'Sri Sri Radha Gopinath Temple',\n",
       " 'Sanjay Gandhi National Park',\n",
       " 'Juhu Beach',\n",
       " 'Colaba Causeway',\n",
       " 'Dhobi Ghat',\n",
       " 'Haji Ali Mosque',\n",
       " 'Chhatrapati Shivaji Maharaj Vastu Sangrahalaya',\n",
       " 'Nehru Planetarium',\n",
       " 'Babulnath Temple',\n",
       " 'High Street Phoenix',\n",
       " 'R City Mall',\n",
       " 'Water Kingdom',\n",
       " 'Wankhede Stadium',\n",
       " 'Phoenix Marketcity',\n",
       " 'Worli Sea Face']"
      ]
     },
     "execution_count": 75,
     "metadata": {},
     "output_type": "execute_result"
    }
   ],
   "source": [
    "tourist_spot1"
   ]
  },
  {
   "cell_type": "markdown",
   "id": "b631373c",
   "metadata": {},
   "source": [
    "# Tourist Attractions 30 - 60"
   ]
  },
  {
   "cell_type": "code",
   "execution_count": 8,
   "id": "13bb0ffc",
   "metadata": {},
   "outputs": [],
   "source": [
    "driver = webdriver.Chrome()\n",
    "driver.get(\"https://www.tripadvisor.in/Attractions-g304554-Activities-oa30-Mumbai_Maharashtra.html\")\n",
    "html_source = driver.page_source\n",
    "Mumbai_TA_30 = open(\"web_scrapped_data\\Mumbai_TA_30.txt\", \"w\",encoding='utf-8')\n",
    "Mumbai_TA_30.write(html_source)\n",
    "Mumbai_TA_30.close()\n",
    "# Run only if txt file does not exist"
   ]
  },
  {
   "cell_type": "code",
   "execution_count": 76,
   "id": "2952743c",
   "metadata": {},
   "outputs": [],
   "source": [
    "Mumbai_TA_30 = open('web_scrapped_data\\Mumbai_TA_30.txt', 'r',encoding='utf-8').read()\n",
    "soup = BeautifulSoup(Mumbai_TA_30,\"html.parser\")"
   ]
  },
  {
   "cell_type": "code",
   "execution_count": 77,
   "id": "a064701a",
   "metadata": {},
   "outputs": [],
   "source": [
    "Location30 = soup.find_all(\"div\",\"XfVdV o AIbhI\")"
   ]
  },
  {
   "cell_type": "code",
   "execution_count": 78,
   "id": "e2b5e16c",
   "metadata": {},
   "outputs": [],
   "source": [
    "def cleanhtml(raw_html):\n",
    "    cleanr = re.compile('<.*?>')\n",
    "    cleantext = re.sub(cleanr, '', raw_html)\n",
    "    tourist_spot30.append(cleantext)"
   ]
  },
  {
   "cell_type": "code",
   "execution_count": 79,
   "id": "38866d80",
   "metadata": {},
   "outputs": [],
   "source": [
    "tourist_spot30 = []\n",
    "for x in Location30:\n",
    "    cleanhtml(str(x))"
   ]
  },
  {
   "cell_type": "code",
   "execution_count": 80,
   "id": "ceb82dbf",
   "metadata": {},
   "outputs": [],
   "source": [
    "tourist_spot31 = []\n",
    "for s in tourist_spot30:\n",
    "    s32 = str(s)\n",
    "    s33 = s32.split('. ')\n",
    "    tourist_spot31.append(s33[1])"
   ]
  },
  {
   "cell_type": "code",
   "execution_count": 81,
   "id": "ebb7adb0",
   "metadata": {},
   "outputs": [],
   "source": [
    "correction = tourist_spot30[25][4:24]\n",
    "# St. Thomas Cathedral"
   ]
  },
  {
   "cell_type": "code",
   "execution_count": 82,
   "id": "c2d43e1c",
   "metadata": {},
   "outputs": [
    {
     "data": {
      "text/plain": [
       "['Infiniti Mall',\n",
       " 'Jehangir Art Gallery',\n",
       " 'Bombay High Court',\n",
       " 'Churchgate Railway Station',\n",
       " 'Jain Temple - Mumbai',\n",
       " 'Dharavi',\n",
       " 'Viviana Mall',\n",
       " 'Shivaji Park',\n",
       " 'Malabar Hill',\n",
       " 'Mumba Devi Temple',\n",
       " 'Oberoi Mall',\n",
       " 'Crawford Market',\n",
       " 'Prithvi Theatre',\n",
       " 'Snow Kingdom',\n",
       " 'Priyadarshini Park',\n",
       " 'Sri Sri Radha Rasabihari Ji Temple',\n",
       " 'Willingdon Sports Club',\n",
       " 'Chowpatty Beach',\n",
       " 'Rajabai Clock Tower',\n",
       " 'Linking Road',\n",
       " 'Bhau Daji Lad Museum',\n",
       " 'Lokhandwala Complex Market',\n",
       " 'Aksa Beach',\n",
       " 'Chor Bazaar',\n",
       " 'Powai Lake',\n",
       " 'St. Thomas Cathedral',\n",
       " 'Kamala Nehru Park',\n",
       " 'Mahalakshmi Race Course',\n",
       " 'Nehru Science Center',\n",
       " 'Hedavde Mahalaxmi Temple']"
      ]
     },
     "execution_count": 82,
     "metadata": {},
     "output_type": "execute_result"
    }
   ],
   "source": [
    "tourist_spot31[25] = correction\n",
    "tourist_spot31"
   ]
  },
  {
   "cell_type": "markdown",
   "id": "e2b7d16b",
   "metadata": {},
   "source": [
    "# Tourist Spots 60 - 90"
   ]
  },
  {
   "cell_type": "code",
   "execution_count": 17,
   "id": "b312c653",
   "metadata": {},
   "outputs": [],
   "source": [
    "driver = webdriver.Chrome()\n",
    "driver.get(\"https://www.tripadvisor.in/Attractions-g304554-Activities-oa60-Mumbai_Maharashtra.html\")\n",
    "html_source = driver.page_source\n",
    "Mumbai_TA_60 = open(\"web_scrapped_data\\Mumbai_TA_60.txt\", \"w\",encoding='utf-8')\n",
    "Mumbai_TA_60.write(html_source)\n",
    "Mumbai_TA_60.close()\n",
    "# Run only if txt file does not exist"
   ]
  },
  {
   "cell_type": "code",
   "execution_count": 95,
   "id": "973ce06b",
   "metadata": {},
   "outputs": [],
   "source": [
    "Mumbai_TA_60 = open('web_scrapped_data\\Mumbai_TA_60.txt', 'r',encoding='utf-8').read()\n",
    "soup = BeautifulSoup(Mumbai_TA_60,\"html.parser\")"
   ]
  },
  {
   "cell_type": "code",
   "execution_count": 96,
   "id": "7aec24f7",
   "metadata": {},
   "outputs": [],
   "source": [
    "Location60 = soup.find_all(\"div\",\"XfVdV o AIbhI\")"
   ]
  },
  {
   "cell_type": "code",
   "execution_count": 97,
   "id": "adac98a8",
   "metadata": {},
   "outputs": [],
   "source": [
    "def cleanhtml(raw_html):\n",
    "    cleanr = re.compile('<.*?>')\n",
    "    cleantext = re.sub(cleanr, '', raw_html)\n",
    "    tourist_spot60.append(cleantext)"
   ]
  },
  {
   "cell_type": "code",
   "execution_count": 98,
   "id": "9e22301c",
   "metadata": {},
   "outputs": [],
   "source": [
    "tourist_spot60 = []\n",
    "for x in Location60:\n",
    "    cleanhtml(str(x))"
   ]
  },
  {
   "cell_type": "code",
   "execution_count": 99,
   "id": "d0691350",
   "metadata": {},
   "outputs": [],
   "source": [
    "tourist_spot61 = []\n",
    "for s in tourist_spot60:\n",
    "    s62 = str(s)\n",
    "    s63 = s62.split('. ')\n",
    "    tourist_spot61.append(s63[1])"
   ]
  },
  {
   "cell_type": "code",
   "execution_count": 100,
   "id": "f16fbb36",
   "metadata": {},
   "outputs": [
    {
     "data": {
      "text/plain": [
       "\"St. Michael's Church\""
      ]
     },
     "execution_count": 100,
     "metadata": {},
     "output_type": "execute_result"
    }
   ],
   "source": [
    "correction1 = tourist_spot60[25][4:24]\n",
    "correction1"
   ]
  },
  {
   "cell_type": "code",
   "execution_count": 101,
   "id": "ce3f61ad",
   "metadata": {},
   "outputs": [
    {
     "data": {
      "text/plain": [
       "['Hanging Gardens',\n",
       " 'Palladium Mall',\n",
       " 'National Centre for the Performing Arts',\n",
       " 'Gorai Beach',\n",
       " 'Ferry to Alibaug',\n",
       " \"Jogger's Park\",\n",
       " 'Muktaa The Wellness Clinic &amp; Luxury Spa Marine Drive',\n",
       " 'Bandra Fort',\n",
       " 'Bandstand Promenade',\n",
       " 'Town Hall (Asiatic Society Library)',\n",
       " \"Growel's 101 Mall\",\n",
       " 'Mangaldas Market',\n",
       " 'Snow World Mumbai',\n",
       " 'Flora Fountain',\n",
       " 'PVR Icon',\n",
       " 'Nehru Centre',\n",
       " 'Brihanmumbai Municipal Corporation building',\n",
       " 'Aarey Colony',\n",
       " 'Lal Baug Cha Raja',\n",
       " 'Madh Island',\n",
       " 'Girgaum Chowpatty',\n",
       " 'Indian Museum Ship (Vikrant)',\n",
       " 'Maharashtra Nature Park',\n",
       " 'Inorbit Mall',\n",
       " 'Sassoon Dock',\n",
       " \"St. Michael's Church\",\n",
       " 'Ambreshwar Shiva Temple',\n",
       " 'Manori Beach',\n",
       " 'Banganga',\n",
       " 'Spa by JW']"
      ]
     },
     "execution_count": 101,
     "metadata": {},
     "output_type": "execute_result"
    }
   ],
   "source": [
    "tourist_spot61[25] = correction1\n",
    "tourist_spot61"
   ]
  },
  {
   "cell_type": "markdown",
   "id": "30b3c0ab",
   "metadata": {},
   "source": [
    "# Tourist Spots 90 - 120"
   ]
  },
  {
   "cell_type": "code",
   "execution_count": 25,
   "id": "639e6e9c",
   "metadata": {},
   "outputs": [],
   "source": [
    "driver = webdriver.Chrome()\n",
    "driver.get(\"https://www.tripadvisor.in/Attractions-g304554-Activities-oa90-Mumbai_Maharashtra.html\")\n",
    "html_source = driver.page_source\n",
    "Mumbai_TA_90 = open(\"web_scrapped_data\\Mumbai_TA_90.txt\", \"w\",encoding='utf-8')\n",
    "Mumbai_TA_90.write(html_source)\n",
    "Mumbai_TA_90.close()\n",
    "# Run only if txt file does not exist"
   ]
  },
  {
   "cell_type": "code",
   "execution_count": 102,
   "id": "67eaf462",
   "metadata": {},
   "outputs": [],
   "source": [
    "Mumbai_TA_90 = open('web_scrapped_data\\Mumbai_TA_90.txt', 'r',encoding='utf-8').read()\n",
    "soup = BeautifulSoup(Mumbai_TA_90,\"html.parser\")"
   ]
  },
  {
   "cell_type": "code",
   "execution_count": 103,
   "id": "b4d954ee",
   "metadata": {},
   "outputs": [],
   "source": [
    "Location90 = soup.find_all(\"div\",\"XfVdV o AIbhI\")"
   ]
  },
  {
   "cell_type": "code",
   "execution_count": 104,
   "id": "664447eb",
   "metadata": {},
   "outputs": [],
   "source": [
    "def cleanhtml(raw_html):\n",
    "    cleanr = re.compile('<.*?>')\n",
    "    cleantext = re.sub(cleanr, '', raw_html)\n",
    "    tourist_spot90.append(cleantext)"
   ]
  },
  {
   "cell_type": "code",
   "execution_count": 105,
   "id": "16d7a699",
   "metadata": {},
   "outputs": [],
   "source": [
    "tourist_spot90 = []\n",
    "for x in Location90:\n",
    "    cleanhtml(str(x))"
   ]
  },
  {
   "cell_type": "code",
   "execution_count": 106,
   "id": "c2ca989c",
   "metadata": {},
   "outputs": [],
   "source": [
    "tourist_spot91 = []\n",
    "for s in tourist_spot90:\n",
    "    s92 = str(s)\n",
    "    s93 = s92.split('. ')\n",
    "    tourist_spot91.append(s93[1])"
   ]
  },
  {
   "cell_type": "code",
   "execution_count": 108,
   "id": "8cd87ae2",
   "metadata": {},
   "outputs": [
    {
     "data": {
      "text/plain": [
       "30"
      ]
     },
     "execution_count": 108,
     "metadata": {},
     "output_type": "execute_result"
    }
   ],
   "source": [
    "tourist_spot91"
   ]
  },
  {
   "cell_type": "markdown",
   "id": "ba6f8f2b",
   "metadata": {},
   "source": [
    "# Combining all tourist spots into one list"
   ]
  },
  {
   "cell_type": "code",
   "execution_count": 109,
   "id": "251e4481",
   "metadata": {},
   "outputs": [
    {
     "data": {
      "text/plain": [
       "30"
      ]
     },
     "execution_count": 109,
     "metadata": {},
     "output_type": "execute_result"
    }
   ],
   "source": [
    "final_tourist_spot = tourist_spot1\n",
    "final_tourist_spot.extend(tourist_spot31)\n",
    "final_tourist_spot.extend(tourist_spot61)\n",
    "final_tourist_spot.extend(tourist_spot91)"
   ]
  },
  {
   "cell_type": "markdown",
   "id": "f8d188df",
   "metadata": {},
   "source": [
    "# Attraction Ratings 0 - 30"
   ]
  },
  {
   "cell_type": "code",
   "execution_count": 33,
   "id": "471b95f5",
   "metadata": {},
   "outputs": [],
   "source": [
    "driver = webdriver.Chrome()\n",
    "driver.get(\"https://www.tripadvisor.in/Attractions-g304554-Activities-oa0-Mumbai_Maharashtra.html\")\n",
    "html_source = driver.page_source\n",
    "Mumbai_AR_0 = open(\"web_scrapped_data\\Mumbai_AR_0.txt\", \"w\",encoding='utf-8')\n",
    "Mumbai_AR_0.write(html_source)\n",
    "Mumbai_AR_0.close()\n",
    "# Run only if txt file does not exist"
   ]
  },
  {
   "cell_type": "code",
   "execution_count": 34,
   "id": "52723e6c",
   "metadata": {},
   "outputs": [],
   "source": [
    "Mumbai_AR_0 = open('web_scrapped_data\\Mumbai_AR_0.txt', 'r',encoding='utf-8').read()\n",
    "soup = BeautifulSoup(Mumbai_AR_0,\"html.parser\")"
   ]
  },
  {
   "cell_type": "code",
   "execution_count": 35,
   "id": "ae2f17e6",
   "metadata": {},
   "outputs": [],
   "source": [
    "Rating = soup.find_all(\"svg\",\"UctUV d H0 hzzSG\")\n",
    "Rating1 = str(Rating)\n",
    "Rating2 = Rating1.replace('[','')\n",
    "Rating3 = Rating2.split(', ')"
   ]
  },
  {
   "cell_type": "code",
   "execution_count": 36,
   "id": "38f1140d",
   "metadata": {},
   "outputs": [],
   "source": [
    "bubble1 = []\n",
    "for c in Rating3:\n",
    "    c1 = str(c)\n",
    "    c2 = c1[17:20]\n",
    "    bubble1.append(c2)"
   ]
  },
  {
   "cell_type": "code",
   "execution_count": 37,
   "id": "25cf36fa",
   "metadata": {},
   "outputs": [],
   "source": [
    "bubble2 = bubble1[3:]"
   ]
  },
  {
   "cell_type": "markdown",
   "id": "cbe91f90",
   "metadata": {},
   "source": [
    "# Attraction Rating 30 - 60"
   ]
  },
  {
   "cell_type": "code",
   "execution_count": 38,
   "id": "57fe70d7",
   "metadata": {},
   "outputs": [],
   "source": [
    "driver = webdriver.Chrome()\n",
    "driver.get(\"https://www.tripadvisor.in/Attractions-g304554-Activities-oa30-Mumbai_Maharashtra.html\")\n",
    "html_source = driver.page_source\n",
    "Mumbai_AR_30 = open(\"web_scrapped_data\\Mumbai_AR_30.txt\", \"w\",encoding='utf-8')\n",
    "Mumbai_AR_30.write(html_source)\n",
    "Mumbai_AR_30.close()\n",
    "# Run only if txt file does not exist"
   ]
  },
  {
   "cell_type": "code",
   "execution_count": 39,
   "id": "3df13ca6",
   "metadata": {},
   "outputs": [],
   "source": [
    "Mumbai_AR_30 = open('web_scrapped_data\\Mumbai_AR_30.txt', 'r',encoding='utf-8').read()\n",
    "soup = BeautifulSoup(Mumbai_AR_30,\"html.parser\")"
   ]
  },
  {
   "cell_type": "code",
   "execution_count": 40,
   "id": "c653faf8",
   "metadata": {},
   "outputs": [],
   "source": [
    "Rating30 = soup.find_all(\"svg\",\"UctUV d H0 hzzSG\")\n",
    "Rating31 = str(Rating30)\n",
    "Rating32 = Rating31.replace('[','')\n",
    "Rating33 = Rating32.split(', ')"
   ]
  },
  {
   "cell_type": "code",
   "execution_count": 41,
   "id": "9ee41401",
   "metadata": {},
   "outputs": [],
   "source": [
    "bubble31 = []\n",
    "for c in Rating33:\n",
    "    c1 = str(c)\n",
    "    c2 = c1[17:20]\n",
    "    bubble31.append(c2)"
   ]
  },
  {
   "cell_type": "code",
   "execution_count": 42,
   "id": "6cd17193",
   "metadata": {},
   "outputs": [],
   "source": [
    "bubble32 = bubble31[3:]"
   ]
  },
  {
   "cell_type": "markdown",
   "id": "dc67334a",
   "metadata": {},
   "source": [
    "# Attraction Rating 60 - 90"
   ]
  },
  {
   "cell_type": "code",
   "execution_count": 43,
   "id": "c5f829a6",
   "metadata": {},
   "outputs": [],
   "source": [
    "driver = webdriver.Chrome()\n",
    "driver.get(\"https://www.tripadvisor.in/Attractions-g304554-Activities-oa60-Mumbai_Maharashtra.html\")\n",
    "html_source = driver.page_source\n",
    "Mumbai_AR_60 = open(\"web_scrapped_data\\Mumbai_AR_60.txt\", \"w\",encoding='utf-8')\n",
    "Mumbai_AR_60.write(html_source)\n",
    "Mumbai_AR_60.close()\n",
    "# Run only if txt file does not exist"
   ]
  },
  {
   "cell_type": "code",
   "execution_count": 44,
   "id": "e0a012fd",
   "metadata": {},
   "outputs": [],
   "source": [
    "Mumbai_AR_60 = open('web_scrapped_data\\Mumbai_AR_60.txt', 'r',encoding='utf-8').read()\n",
    "soup = BeautifulSoup(Mumbai_AR_60,\"html.parser\")"
   ]
  },
  {
   "cell_type": "code",
   "execution_count": 45,
   "id": "5e710b55",
   "metadata": {},
   "outputs": [],
   "source": [
    "Rating60 = soup.find_all(\"svg\",\"UctUV d H0 hzzSG\")\n",
    "Rating61 = str(Rating60)\n",
    "Rating62 = Rating61.replace('[','')\n",
    "Rating63 = Rating62.split(', ')"
   ]
  },
  {
   "cell_type": "code",
   "execution_count": 46,
   "id": "f5ea7acd",
   "metadata": {},
   "outputs": [],
   "source": [
    "bubble61 = []\n",
    "for c in Rating63:\n",
    "    c1 = str(c)\n",
    "    c2 = c1[17:20]\n",
    "    bubble61.append(c2)"
   ]
  },
  {
   "cell_type": "code",
   "execution_count": 47,
   "id": "75785eb6",
   "metadata": {},
   "outputs": [],
   "source": [
    "bubble62 = bubble61[3:]"
   ]
  },
  {
   "cell_type": "markdown",
   "id": "2250e8e4",
   "metadata": {},
   "source": [
    "# Attraction Rating 90 - 120"
   ]
  },
  {
   "cell_type": "code",
   "execution_count": 48,
   "id": "4e1a1c59",
   "metadata": {},
   "outputs": [],
   "source": [
    "driver = webdriver.Chrome()\n",
    "driver.get(\"https://www.tripadvisor.in/Attractions-g304554-Activities-oa90-Mumbai_Maharashtra.html\")\n",
    "html_source = driver.page_source\n",
    "Mumbai_AR_90 = open(\"web_scrapped_data\\Mumbai_AR_90.txt\", \"w\",encoding='utf-8')\n",
    "Mumbai_AR_90.write(html_source)\n",
    "Mumbai_AR_90.close()\n",
    "# Run only if txt file does not exist"
   ]
  },
  {
   "cell_type": "code",
   "execution_count": 49,
   "id": "0fe159fa",
   "metadata": {},
   "outputs": [],
   "source": [
    "Mumbai_AR_90 = open('web_scrapped_data\\Mumbai_AR_90.txt', 'r',encoding='utf-8').read()\n",
    "soup = BeautifulSoup(Mumbai_AR_90,\"html.parser\")"
   ]
  },
  {
   "cell_type": "code",
   "execution_count": 50,
   "id": "eac4ad2b",
   "metadata": {},
   "outputs": [],
   "source": [
    "Rating90 = soup.find_all(\"svg\",\"UctUV d H0 hzzSG\")\n",
    "Rating91 = str(Rating90)\n",
    "Rating92 = Rating91.replace('[','')\n",
    "Rating93 = Rating92.split(', ')"
   ]
  },
  {
   "cell_type": "code",
   "execution_count": 51,
   "id": "fc39b8e0",
   "metadata": {},
   "outputs": [],
   "source": [
    "bubble91 = []\n",
    "for c in Rating93:\n",
    "    c91 = str(c)\n",
    "    c92 = c91[17:20]\n",
    "    bubble91.append(c92)"
   ]
  },
  {
   "cell_type": "code",
   "execution_count": 52,
   "id": "f2afa49f",
   "metadata": {},
   "outputs": [],
   "source": [
    "bubble92 = bubble91[3:]"
   ]
  },
  {
   "cell_type": "markdown",
   "id": "81f54bd9",
   "metadata": {},
   "source": [
    "# Combining all attraction ratings into a list"
   ]
  },
  {
   "cell_type": "code",
   "execution_count": 53,
   "id": "b87d5c1b",
   "metadata": {
    "scrolled": false
   },
   "outputs": [],
   "source": [
    "final_attraction_rating = bubble2\n",
    "final_attraction_rating.extend(bubble32)\n",
    "final_attraction_rating.extend(bubble62)\n",
    "final_attraction_rating.extend(bubble92)"
   ]
  },
  {
   "cell_type": "markdown",
   "id": "26ee1bb1",
   "metadata": {},
   "source": [
    "# Converting the extracted data to a CSV file"
   ]
  },
  {
   "cell_type": "code",
   "execution_count": 113,
   "id": "099d9490",
   "metadata": {},
   "outputs": [],
   "source": [
    "import csv\n",
    "from itertools import zip_longest\n",
    "d = [final_tourist_spot,final_attraction_rating]\n",
    "export_data = zip_longest(*d, fillvalue = '')\n",
    "with open('csv\\mumbai.csv', 'w', encoding=\"ISO-8859-1\", newline='') as myfile:\n",
    "      wr = csv.writer(myfile)\n",
    "      wr.writerow((\"tourist_spot\", \"rating\"))\n",
    "      wr.writerows(export_data)\n",
    "myfile.close()"
   ]
  }
 ],
 "metadata": {
  "kernelspec": {
   "display_name": "Python 3 (ipykernel)",
   "language": "python",
   "name": "python3"
  },
  "language_info": {
   "codemirror_mode": {
    "name": "ipython",
    "version": 3
   },
   "file_extension": ".py",
   "mimetype": "text/x-python",
   "name": "python",
   "nbconvert_exporter": "python",
   "pygments_lexer": "ipython3",
   "version": "3.9.13"
  }
 },
 "nbformat": 4,
 "nbformat_minor": 5
}
