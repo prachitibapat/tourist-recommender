{
 "cells": [
  {
   "cell_type": "markdown",
   "id": "a95a8f4f",
   "metadata": {},
   "source": [
    "# **All the required packages**"
   ]
  },
  {
   "cell_type": "code",
   "execution_count": 2,
   "id": "4c08c828",
   "metadata": {},
   "outputs": [
    {
     "name": "stdout",
     "output_type": "stream",
     "text": [
      "Requirement already satisfied: selenium in c:\\python310\\lib\\site-packages (4.7.2)Note: you may need to restart the kernel to use updated packages.\n",
      "\n",
      "Requirement already satisfied: certifi>=2021.10.8 in c:\\python310\\lib\\site-packages (from selenium) (2022.12.7)\n",
      "Requirement already satisfied: urllib3[socks]~=1.26 in c:\\python310\\lib\\site-packages (from selenium) (1.26.14)\n",
      "Requirement already satisfied: trio-websocket~=0.9 in c:\\python310\\lib\\site-packages (from selenium) (0.9.2)\n",
      "Requirement already satisfied: trio~=0.17 in c:\\python310\\lib\\site-packages (from selenium) (0.22.0)\n",
      "Requirement already satisfied: async-generator>=1.9 in c:\\python310\\lib\\site-packages (from trio~=0.17->selenium) (1.10)\n",
      "Requirement already satisfied: idna in c:\\python310\\lib\\site-packages (from trio~=0.17->selenium) (3.4)\n",
      "Requirement already satisfied: exceptiongroup>=1.0.0rc9 in c:\\python310\\lib\\site-packages (from trio~=0.17->selenium) (1.1.0)\n",
      "Requirement already satisfied: sniffio in c:\\python310\\lib\\site-packages (from trio~=0.17->selenium) (1.3.0)\n",
      "Requirement already satisfied: cffi>=1.14 in c:\\python310\\lib\\site-packages (from trio~=0.17->selenium) (1.15.1)\n",
      "Requirement already satisfied: attrs>=19.2.0 in c:\\python310\\lib\\site-packages (from trio~=0.17->selenium) (22.2.0)\n",
      "Requirement already satisfied: sortedcontainers in c:\\python310\\lib\\site-packages (from trio~=0.17->selenium) (2.4.0)\n",
      "Requirement already satisfied: outcome in c:\\python310\\lib\\site-packages (from trio~=0.17->selenium) (1.2.0)\n",
      "Requirement already satisfied: wsproto>=0.14 in c:\\python310\\lib\\site-packages (from trio-websocket~=0.9->selenium) (1.2.0)\n",
      "Requirement already satisfied: PySocks!=1.5.7,<2.0,>=1.5.6 in c:\\python310\\lib\\site-packages (from urllib3[socks]~=1.26->selenium) (1.7.1)\n",
      "Requirement already satisfied: pycparser in c:\\python310\\lib\\site-packages (from cffi>=1.14->trio~=0.17->selenium) (2.21)\n",
      "Requirement already satisfied: h11<1,>=0.9.0 in c:\\python310\\lib\\site-packages (from wsproto>=0.14->trio-websocket~=0.9->selenium) (0.14.0)\n"
     ]
    },
    {
     "name": "stderr",
     "output_type": "stream",
     "text": [
      "WARNING: Ignoring invalid distribution -ip (c:\\python310\\lib\\site-packages)\n",
      "WARNING: Ignoring invalid distribution - (c:\\python310\\lib\\site-packages)\n",
      "WARNING: Ignoring invalid distribution -ip (c:\\python310\\lib\\site-packages)\n",
      "WARNING: Ignoring invalid distribution - (c:\\python310\\lib\\site-packages)\n",
      "WARNING: Ignoring invalid distribution -ip (c:\\python310\\lib\\site-packages)\n",
      "WARNING: Ignoring invalid distribution - (c:\\python310\\lib\\site-packages)\n",
      "WARNING: Ignoring invalid distribution -ip (c:\\python310\\lib\\site-packages)\n",
      "WARNING: Ignoring invalid distribution - (c:\\python310\\lib\\site-packages)\n",
      "WARNING: Ignoring invalid distribution -ip (c:\\python310\\lib\\site-packages)\n",
      "WARNING: Ignoring invalid distribution - (c:\\python310\\lib\\site-packages)\n",
      "WARNING: Ignoring invalid distribution -ip (c:\\python310\\lib\\site-packages)\n",
      "WARNING: Ignoring invalid distribution - (c:\\python310\\lib\\site-packages)\n"
     ]
    }
   ],
   "source": [
    "pip install selenium"
   ]
  },
  {
   "cell_type": "code",
   "execution_count": 3,
   "id": "c0bd4e1c",
   "metadata": {},
   "outputs": [
    {
     "name": "stdout",
     "output_type": "stream",
     "text": [
      "Requirement already satisfied: beautifulsoup4 in c:\\python310\\lib\\site-packages (4.11.1)Note: you may need to restart the kernel to use updated packages.\n",
      "\n",
      "Requirement already satisfied: soupsieve>1.2 in c:\\python310\\lib\\site-packages (from beautifulsoup4) (2.3.2.post1)\n"
     ]
    },
    {
     "name": "stderr",
     "output_type": "stream",
     "text": [
      "WARNING: Ignoring invalid distribution -ip (c:\\python310\\lib\\site-packages)\n",
      "WARNING: Ignoring invalid distribution - (c:\\python310\\lib\\site-packages)\n",
      "WARNING: Ignoring invalid distribution -ip (c:\\python310\\lib\\site-packages)\n",
      "WARNING: Ignoring invalid distribution - (c:\\python310\\lib\\site-packages)\n",
      "WARNING: Ignoring invalid distribution -ip (c:\\python310\\lib\\site-packages)\n",
      "WARNING: Ignoring invalid distribution - (c:\\python310\\lib\\site-packages)\n",
      "WARNING: Ignoring invalid distribution -ip (c:\\python310\\lib\\site-packages)\n",
      "WARNING: Ignoring invalid distribution - (c:\\python310\\lib\\site-packages)\n",
      "WARNING: Ignoring invalid distribution -ip (c:\\python310\\lib\\site-packages)\n",
      "WARNING: Ignoring invalid distribution - (c:\\python310\\lib\\site-packages)\n",
      "WARNING: Ignoring invalid distribution -ip (c:\\python310\\lib\\site-packages)\n",
      "WARNING: Ignoring invalid distribution - (c:\\python310\\lib\\site-packages)\n"
     ]
    }
   ],
   "source": [
    "pip install beautifulsoup4"
   ]
  },
  {
   "cell_type": "code",
   "execution_count": 4,
   "id": "b744dcab",
   "metadata": {},
   "outputs": [
    {
     "name": "stdout",
     "output_type": "stream",
     "text": [
      "Requirement already satisfied: webdriver_manager in c:\\python310\\lib\\site-packages (3.8.5)\n",
      "Requirement already satisfied: python-dotenv in c:\\python310\\lib\\site-packages (from webdriver_manager) (0.21.0)\n",
      "Requirement already satisfied: packaging in c:\\python310\\lib\\site-packages (from webdriver_manager) (23.0)\n",
      "Requirement already satisfied: tqdm in c:\\python310\\lib\\site-packages (from webdriver_manager) (4.64.1)\n",
      "Requirement already satisfied: requests in c:\\python310\\lib\\site-packages (from webdriver_manager) (2.28.2)\n",
      "Requirement already satisfied: idna<4,>=2.5 in c:\\python310\\lib\\site-packages (from requests->webdriver_manager) (3.4)\n",
      "Requirement already satisfied: urllib3<1.27,>=1.21.1 in c:\\python310\\lib\\site-packages (from requests->webdriver_manager) (1.26.14)\n",
      "Requirement already satisfied: charset-normalizer<4,>=2 in c:\\python310\\lib\\site-packages (from requests->webdriver_manager) (3.0.1)\n",
      "Requirement already satisfied: certifi>=2017.4.17 in c:\\python310\\lib\\site-packages (from requests->webdriver_manager) (2022.12.7)\n",
      "Requirement already satisfied: colorama in c:\\python310\\lib\\site-packages (from tqdm->webdriver_manager) (0.4.6)\n",
      "Note: you may need to restart the kernel to use updated packages.\n"
     ]
    },
    {
     "name": "stderr",
     "output_type": "stream",
     "text": [
      "WARNING: Ignoring invalid distribution -ip (c:\\python310\\lib\\site-packages)\n",
      "WARNING: Ignoring invalid distribution - (c:\\python310\\lib\\site-packages)\n",
      "WARNING: Ignoring invalid distribution -ip (c:\\python310\\lib\\site-packages)\n",
      "WARNING: Ignoring invalid distribution - (c:\\python310\\lib\\site-packages)\n",
      "WARNING: Ignoring invalid distribution -ip (c:\\python310\\lib\\site-packages)\n",
      "WARNING: Ignoring invalid distribution - (c:\\python310\\lib\\site-packages)\n",
      "WARNING: Ignoring invalid distribution -ip (c:\\python310\\lib\\site-packages)\n",
      "WARNING: Ignoring invalid distribution - (c:\\python310\\lib\\site-packages)\n",
      "WARNING: Ignoring invalid distribution -ip (c:\\python310\\lib\\site-packages)\n",
      "WARNING: Ignoring invalid distribution - (c:\\python310\\lib\\site-packages)\n",
      "WARNING: Ignoring invalid distribution -ip (c:\\python310\\lib\\site-packages)\n",
      "WARNING: Ignoring invalid distribution - (c:\\python310\\lib\\site-packages)\n"
     ]
    }
   ],
   "source": [
    "pip install webdriver_manager"
   ]
  },
  {
   "cell_type": "code",
   "execution_count": 5,
   "id": "8726a3e4",
   "metadata": {},
   "outputs": [
    {
     "name": "stdout",
     "output_type": "stream",
     "text": [
      "Requirement already satisfied: pandas in c:\\python310\\lib\\site-packages (1.5.0)\n",
      "Requirement already satisfied: pytz>=2020.1 in c:\\python310\\lib\\site-packages (from pandas) (2022.4)\n",
      "Requirement already satisfied: numpy>=1.21.0 in c:\\python310\\lib\\site-packages (from pandas) (1.23.4)\n",
      "Requirement already satisfied: python-dateutil>=2.8.1 in c:\\python310\\lib\\site-packages (from pandas) (2.8.2)\n",
      "Requirement already satisfied: six>=1.5 in c:\\python310\\lib\\site-packages (from python-dateutil>=2.8.1->pandas) (1.16.0)\n",
      "Note: you may need to restart the kernel to use updated packages.\n"
     ]
    },
    {
     "name": "stderr",
     "output_type": "stream",
     "text": [
      "WARNING: Ignoring invalid distribution -ip (c:\\python310\\lib\\site-packages)\n",
      "WARNING: Ignoring invalid distribution - (c:\\python310\\lib\\site-packages)\n",
      "WARNING: Ignoring invalid distribution -ip (c:\\python310\\lib\\site-packages)\n",
      "WARNING: Ignoring invalid distribution - (c:\\python310\\lib\\site-packages)\n",
      "WARNING: Ignoring invalid distribution -ip (c:\\python310\\lib\\site-packages)\n",
      "WARNING: Ignoring invalid distribution - (c:\\python310\\lib\\site-packages)\n",
      "WARNING: Ignoring invalid distribution -ip (c:\\python310\\lib\\site-packages)\n",
      "WARNING: Ignoring invalid distribution - (c:\\python310\\lib\\site-packages)\n",
      "WARNING: Ignoring invalid distribution -ip (c:\\python310\\lib\\site-packages)\n",
      "WARNING: Ignoring invalid distribution - (c:\\python310\\lib\\site-packages)\n",
      "WARNING: Ignoring invalid distribution -ip (c:\\python310\\lib\\site-packages)\n",
      "WARNING: Ignoring invalid distribution - (c:\\python310\\lib\\site-packages)\n"
     ]
    }
   ],
   "source": [
    "pip install pandas"
   ]
  },
  {
   "cell_type": "code",
   "execution_count": 6,
   "id": "72b30d22",
   "metadata": {},
   "outputs": [],
   "source": [
    "from selenium import webdriver\n",
    "from selenium.webdriver.chrome.service import Service\n",
    "from selenium.webdriver.common.by import By \n",
    "from selenium.webdriver.common.keys import Keys\n",
    "from selenium.webdriver.support.ui import WebDriverWait\n",
    "from selenium.webdriver.support import expected_conditions as EC\n",
    "import time\n",
    "from bs4 import BeautifulSoup\n",
    "import pandas as pd\n",
    "import re"
   ]
  },
  {
   "cell_type": "markdown",
   "id": "9ff1cda2",
   "metadata": {},
   "source": [
    "# Tourist Attractions 0 - 30"
   ]
  },
  {
   "cell_type": "code",
   "execution_count": 7,
   "id": "5f4d814a",
   "metadata": {},
   "outputs": [],
   "source": [
    "driver = webdriver.Chrome()\n",
    "driver.get(\"https://www.tripadvisor.in/Attractions-g304558-Activities-oa0-Kolkata_Calcutta_Kolkata_District_West_Bengal.html\")\n",
    "html_source = driver.page_source\n",
    "Kolkata_TA_0 = open(\"web_scrapped_data\\Kolkata_TA_0.txt\", \"w\",encoding='utf-8')\n",
    "Kolkata_TA_0.write(html_source)\n",
    "Kolkata_TA_0.close()\n",
    "# Run only if txt file does not exist"
   ]
  },
  {
   "cell_type": "code",
   "execution_count": 130,
   "id": "0797117b",
   "metadata": {},
   "outputs": [],
   "source": [
    "Kolkata_TA_0 = open('web_scrapped_data\\Kolkata_TA_0.txt', 'r').read()\n",
    "soup = BeautifulSoup(Kolkata_TA_0,\"html.parser\")"
   ]
  },
  {
   "cell_type": "code",
   "execution_count": 131,
   "id": "fc82f47a",
   "metadata": {},
   "outputs": [],
   "source": [
    "Location = soup.find_all(\"div\",\"XfVdV o AIbhI\")"
   ]
  },
  {
   "cell_type": "code",
   "execution_count": 132,
   "id": "4e83022f",
   "metadata": {},
   "outputs": [],
   "source": [
    "def cleanhtml(raw_html):\n",
    "    cleanr = re.compile('<.*?>')\n",
    "    cleantext = re.sub(cleanr, '', raw_html)\n",
    "    tourist_spot0.append(cleantext)"
   ]
  },
  {
   "cell_type": "code",
   "execution_count": 133,
   "id": "db3871f2",
   "metadata": {
    "scrolled": true
   },
   "outputs": [],
   "source": [
    "tourist_spot0 = []\n",
    "for x in Location:\n",
    "    cleanhtml(str(x))"
   ]
  },
  {
   "cell_type": "code",
   "execution_count": 134,
   "id": "7a574dfe",
   "metadata": {},
   "outputs": [],
   "source": [
    "tourist_spot1 = []\n",
    "for s in tourist_spot0:\n",
    "    s2 = str(s)\n",
    "    s3 = s2.split('. ')\n",
    "    tourist_spot1.append(s3[1])"
   ]
  },
  {
   "cell_type": "code",
   "execution_count": 135,
   "id": "979b4dbf",
   "metadata": {
    "scrolled": true
   },
   "outputs": [
    {
     "data": {
      "text/plain": [
       "['Victoria Memorial Hall',\n",
       " 'Dakshineswar Kali Temple',\n",
       " 'Howrah Bridge',\n",
       " 'Mother House',\n",
       " 'Park Street',\n",
       " 'Eden Gardens',\n",
       " 'Eco Tourism Park',\n",
       " 'College Street (Boi Para)',\n",
       " 'Indian Museum (Jadu Ghar)',\n",
       " 'South Park Street Cemetery',\n",
       " 'Science City',\n",
       " 'St',\n",
       " 'Metro Railway',\n",
       " 'New Market',\n",
       " 'Prinsep Ghat',\n",
       " 'Birla Temple',\n",
       " 'Jorasanko Thakur Bari',\n",
       " 'Jain Swetamber Dadajika Temple',\n",
       " 'Birla Planetarium',\n",
       " 'Maidan',\n",
       " 'Gariahat Market',\n",
       " 'Quest Mall',\n",
       " 'Netaji Bhawan',\n",
       " 'Rabindra Sarovar',\n",
       " 'Tagore House',\n",
       " 'Kolkata Zoo &amp; Zoological Garden',\n",
       " 'Nicco Parks &amp; Resorts Limited',\n",
       " 'Birla Industrial &amp; Technological Museum',\n",
       " 'ISKCON Kolkata, Sri Sri Radha Govind Temple',\n",
       " \"Ramakrishna Mission Swami Vivekananda's Ancestral House and Cultural Centre\"]"
      ]
     },
     "execution_count": 135,
     "metadata": {},
     "output_type": "execute_result"
    }
   ],
   "source": [
    "tourist_spot1"
   ]
  },
  {
   "cell_type": "code",
   "execution_count": 136,
   "id": "679c9079",
   "metadata": {},
   "outputs": [],
   "source": [
    "correction = tourist_spot0[11][4:24]\n",
    "# St. Thomas Cathedral"
   ]
  },
  {
   "cell_type": "code",
   "execution_count": 137,
   "id": "fdad4d81",
   "metadata": {},
   "outputs": [
    {
     "data": {
      "text/plain": [
       "['Victoria Memorial Hall',\n",
       " 'Dakshineswar Kali Temple',\n",
       " 'Howrah Bridge',\n",
       " 'Mother House',\n",
       " 'Park Street',\n",
       " 'Eden Gardens',\n",
       " 'Eco Tourism Park',\n",
       " 'College Street (Boi Para)',\n",
       " 'Indian Museum (Jadu Ghar)',\n",
       " 'South Park Street Cemetery',\n",
       " 'Science City',\n",
       " \"St. Paul's Cathedral\",\n",
       " 'Metro Railway',\n",
       " 'New Market',\n",
       " 'Prinsep Ghat',\n",
       " 'Birla Temple',\n",
       " 'Jorasanko Thakur Bari',\n",
       " 'Jain Swetamber Dadajika Temple',\n",
       " 'Birla Planetarium',\n",
       " 'Maidan',\n",
       " 'Gariahat Market',\n",
       " 'Quest Mall',\n",
       " 'Netaji Bhawan',\n",
       " 'Rabindra Sarovar',\n",
       " 'Tagore House',\n",
       " 'Kolkata Zoo &amp; Zoological Garden',\n",
       " 'Nicco Parks &amp; Resorts Limited',\n",
       " 'Birla Industrial &amp; Technological Museum',\n",
       " 'ISKCON Kolkata, Sri Sri Radha Govind Temple',\n",
       " \"Ramakrishna Mission Swami Vivekananda's Ancestral House and Cultural Centre\"]"
      ]
     },
     "execution_count": 137,
     "metadata": {},
     "output_type": "execute_result"
    }
   ],
   "source": [
    "tourist_spot1[11] = correction\n",
    "len(tourist_spot1)\n",
    "tourist_spot1"
   ]
  },
  {
   "cell_type": "markdown",
   "id": "b631373c",
   "metadata": {},
   "source": [
    "# Tourist Attractions 30 - 60"
   ]
  },
  {
   "cell_type": "code",
   "execution_count": 34,
   "id": "53da10f7",
   "metadata": {},
   "outputs": [],
   "source": [
    "driver = webdriver.Chrome()\n",
    "driver.get(\"https://www.tripadvisor.in/Attractions-g304558-Activities-oa30-Kolkata_Calcutta_Kolkata_District_West_Bengal.html\")\n",
    "html_source = driver.page_source\n",
    "Kolkata_TA_30 = open(\"web_scrapped_data\\Kolkata_TA_30.txt\", \"w\",encoding='utf-8')\n",
    "Kolkata_TA_30.write(html_source)\n",
    "Kolkata_TA_30.close()\n",
    "# Run only if txt file does not exist"
   ]
  },
  {
   "cell_type": "code",
   "execution_count": 138,
   "id": "ba50a66c",
   "metadata": {},
   "outputs": [],
   "source": [
    "Kolkata_TA_30 = open('web_scrapped_data\\Kolkata_TA_30.txt', 'r',encoding='utf-8').read()\n",
    "soup = BeautifulSoup(Kolkata_TA_30,\"html.parser\")"
   ]
  },
  {
   "cell_type": "code",
   "execution_count": 139,
   "id": "a064701a",
   "metadata": {},
   "outputs": [],
   "source": [
    "Location30 = soup.find_all(\"div\",\"XfVdV o AIbhI\")"
   ]
  },
  {
   "cell_type": "code",
   "execution_count": 140,
   "id": "e2b5e16c",
   "metadata": {},
   "outputs": [],
   "source": [
    "def cleanhtml(raw_html):\n",
    "    cleanr = re.compile('<.*?>')\n",
    "    cleantext = re.sub(cleanr, '', raw_html)\n",
    "    tourist_spot30.append(cleantext)"
   ]
  },
  {
   "cell_type": "code",
   "execution_count": 141,
   "id": "38866d80",
   "metadata": {},
   "outputs": [],
   "source": [
    "tourist_spot30 = []\n",
    "for x in Location30:\n",
    "    cleanhtml(str(x))"
   ]
  },
  {
   "cell_type": "code",
   "execution_count": 142,
   "id": "1e6d922a",
   "metadata": {},
   "outputs": [],
   "source": [
    "tourist_spot30 = []\n",
    "for x in Location30:\n",
    "    cleanhtml(str(x))"
   ]
  },
  {
   "cell_type": "code",
   "execution_count": 143,
   "id": "ceb82dbf",
   "metadata": {},
   "outputs": [
    {
     "name": "stdout",
     "output_type": "stream",
     "text": [
      "['31', 'Parashnath Jain Temple']\n",
      "['32', 'Dakshineswar Ramkrishna Sangha Adyapeath']\n",
      "['33', 'Malik Ghat Flower Market']\n",
      "['34', 'South City Mall']\n",
      "['35', 'Marble Palace Kolkata']\n",
      "['36', 'Salt Lake Stadium']\n",
      "['37', 'St', \"John's Church\"]\n",
      "['38', 'Baps Shri Swaminarayan Mandir, Kolkata']\n",
      "['39', 'National Library']\n",
      "['40', 'Fort William']\n",
      "['41', 'City Centre, New Town']\n",
      "['42', 'City Centre  Mall']\n",
      "['43', 'Chowringhee']\n",
      "['44', 'Millenium Park']\n",
      "['45', \"Mother's Wax Museum\"]\n",
      "['46', 'Kalighat Kali Temple']\n",
      "['47', 'Nakhoda Mosque']\n",
      "['48', 'BBD Bagh']\n",
      "['49', 'The Agri-Horticultural Society of India']\n",
      "['50', 'Dakshinapan Shopping Complex']\n",
      "['51', 'Academy of Fine Arts']\n",
      "['52', 'Mani Square mall']\n",
      "['53', 'Shaheed Minar']\n",
      "['54', 'Acropolis Mall']\n",
      "['55', 'Tangra Chinatown']\n",
      "['56', 'Royal Calcutta Turf Club']\n",
      "['57', 'Rabindra Bharati University Museum']\n",
      "['58', 'Swabhumi - The Heritage Plaza']\n",
      "['59', 'Nirmal Hirday (Pure Heart)']\n",
      "['60', \"Nehru Children's Museum\"]\n"
     ]
    }
   ],
   "source": [
    "tourist_spot31 = []\n",
    "for s in tourist_spot30:\n",
    "    s32 = str(s)\n",
    "    s33 = s32.split('. ')\n",
    "    print(s33)\n",
    "    tourist_spot31.append(s33[1])"
   ]
  },
  {
   "cell_type": "code",
   "execution_count": 144,
   "id": "7973725a",
   "metadata": {
    "scrolled": true
   },
   "outputs": [
    {
     "data": {
      "text/plain": [
       "['Parashnath Jain Temple',\n",
       " 'Dakshineswar Ramkrishna Sangha Adyapeath',\n",
       " 'Malik Ghat Flower Market',\n",
       " 'South City Mall',\n",
       " 'Marble Palace Kolkata',\n",
       " 'Salt Lake Stadium',\n",
       " 'St',\n",
       " 'Baps Shri Swaminarayan Mandir, Kolkata',\n",
       " 'National Library',\n",
       " 'Fort William',\n",
       " 'City Centre, New Town',\n",
       " 'City Centre  Mall',\n",
       " 'Chowringhee',\n",
       " 'Millenium Park',\n",
       " \"Mother's Wax Museum\",\n",
       " 'Kalighat Kali Temple',\n",
       " 'Nakhoda Mosque',\n",
       " 'BBD Bagh',\n",
       " 'The Agri-Horticultural Society of India',\n",
       " 'Dakshinapan Shopping Complex',\n",
       " 'Academy of Fine Arts',\n",
       " 'Mani Square mall',\n",
       " 'Shaheed Minar',\n",
       " 'Acropolis Mall',\n",
       " 'Tangra Chinatown',\n",
       " 'Royal Calcutta Turf Club',\n",
       " 'Rabindra Bharati University Museum',\n",
       " 'Swabhumi - The Heritage Plaza',\n",
       " 'Nirmal Hirday (Pure Heart)',\n",
       " \"Nehru Children's Museum\"]"
      ]
     },
     "execution_count": 144,
     "metadata": {},
     "output_type": "execute_result"
    }
   ],
   "source": [
    "tourist_spot31"
   ]
  },
  {
   "cell_type": "code",
   "execution_count": 145,
   "id": "333ceffb",
   "metadata": {},
   "outputs": [],
   "source": [
    "correction = tourist_spot30[6][4:24]\n",
    "# St. Thomas Cathedral"
   ]
  },
  {
   "cell_type": "code",
   "execution_count": 146,
   "id": "cd75be4e",
   "metadata": {},
   "outputs": [
    {
     "data": {
      "text/plain": [
       "30"
      ]
     },
     "execution_count": 146,
     "metadata": {},
     "output_type": "execute_result"
    }
   ],
   "source": [
    "tourist_spot31[6] = correction\n",
    "tourist_spot31\n",
    "len(tourist_spot31)"
   ]
  },
  {
   "cell_type": "markdown",
   "id": "e2b7d16b",
   "metadata": {},
   "source": [
    "# Tourist Spots 60 - 90"
   ]
  },
  {
   "cell_type": "code",
   "execution_count": 47,
   "id": "224d9772",
   "metadata": {},
   "outputs": [],
   "source": [
    "driver = webdriver.Chrome()\n",
    "driver.get(\"https://www.tripadvisor.in/Attractions-g304558-Activities-oa60-Kolkata_Calcutta_Kolkata_District_West_Bengal.html\")\n",
    "html_source = driver.page_source\n",
    "Kolkata_TA_60 = open(\"web_scrapped_data\\Kolkata_TA_60.txt\", \"w\",encoding='utf-8')\n",
    "Kolkata_TA_60.write(html_source)\n",
    "Kolkata_TA_60.close()\n",
    "# Run only if txt file does not exist"
   ]
  },
  {
   "cell_type": "code",
   "execution_count": 147,
   "id": "57a68b52",
   "metadata": {},
   "outputs": [],
   "source": [
    "Kolkata_TA_60 = open('web_scrapped_data\\Kolkata_TA_60.txt', 'r',encoding='utf-8').read()\n",
    "soup = BeautifulSoup(Kolkata_TA_60,\"html.parser\")"
   ]
  },
  {
   "cell_type": "code",
   "execution_count": 148,
   "id": "7aec24f7",
   "metadata": {},
   "outputs": [],
   "source": [
    "Location60 = soup.find_all(\"div\",\"XfVdV o AIbhI\")"
   ]
  },
  {
   "cell_type": "code",
   "execution_count": 149,
   "id": "adac98a8",
   "metadata": {},
   "outputs": [],
   "source": [
    "def cleanhtml(raw_html):\n",
    "    cleanr = re.compile('<.*?>')\n",
    "    cleantext = re.sub(cleanr, '', raw_html)\n",
    "    tourist_spot60.append(cleantext)"
   ]
  },
  {
   "cell_type": "code",
   "execution_count": 150,
   "id": "9e22301c",
   "metadata": {},
   "outputs": [],
   "source": [
    "tourist_spot60 = []\n",
    "for x in Location60:\n",
    "    cleanhtml(str(x))"
   ]
  },
  {
   "cell_type": "code",
   "execution_count": 151,
   "id": "0ce1a5c1",
   "metadata": {},
   "outputs": [],
   "source": [
    "tourist_spot60 = []\n",
    "for x in Location60:\n",
    "    cleanhtml(str(x))"
   ]
  },
  {
   "cell_type": "code",
   "execution_count": 152,
   "id": "d0691350",
   "metadata": {},
   "outputs": [
    {
     "name": "stdout",
     "output_type": "stream",
     "text": [
      "['61', 'Chintamoni Kar Bird Sanctuary']\n",
      "['62', 'General Post Office']\n",
      "['63', 'Ramakrishna Math']\n",
      "['64', \"Writers' Building\"]\n",
      "['65', 'Diamond Plaza']\n",
      "['66', 'Bhawanipore Cemetery']\n",
      "['67', 'Central Park']\n",
      "['68', 'Netaji Indoor Stadium']\n",
      "['69', 'Shobhabajar Rajbari']\n",
      "['70', 'Forum Courtyard']\n",
      "['71', 'Kolkata Tram Museum Smaranika']\n",
      "['72', 'Hatibagan Market']\n",
      "['73', 'Raj Bhavan']\n",
      "['74', 'Shree Aadi Bhootnath Mandir']\n",
      "['75', 'Mousuni Island']\n",
      "['76', 'Town Hall']\n",
      "['77', 'Lake Mall']\n",
      "['78', 'Babughat']\n",
      "['79', 'Sishu Bhavan']\n",
      "['80', 'Marble Palace']\n",
      "['81', 'Elliot Park']\n",
      "['82', 'Axis Mall']\n",
      "['83', 'Najrul Tirtha']\n",
      "['84', 'Metcalfe Hall']\n",
      "['85', 'E-Mall']\n",
      "['86', 'Dacca Kali Bari']\n",
      "['87', 'Sri Sarada Devi Temple']\n",
      "['88', 'Sri Aurobindo Bhawan']\n",
      "['89', \"Tippu Sultan's Mosque\"]\n",
      "['90', 'Konark Collectables']\n"
     ]
    }
   ],
   "source": [
    "tourist_spot61 = []\n",
    "for s in tourist_spot60:\n",
    "    s62 = str(s)\n",
    "    s63 = s62.split('. ')\n",
    "    print(s63)\n",
    "    tourist_spot61.append(s63[1])"
   ]
  },
  {
   "cell_type": "code",
   "execution_count": 153,
   "id": "5447cb80",
   "metadata": {},
   "outputs": [
    {
     "data": {
      "text/plain": [
       "['Chintamoni Kar Bird Sanctuary',\n",
       " 'General Post Office',\n",
       " 'Ramakrishna Math',\n",
       " \"Writers' Building\",\n",
       " 'Diamond Plaza',\n",
       " 'Bhawanipore Cemetery',\n",
       " 'Central Park',\n",
       " 'Netaji Indoor Stadium',\n",
       " 'Shobhabajar Rajbari',\n",
       " 'Forum Courtyard',\n",
       " 'Kolkata Tram Museum Smaranika',\n",
       " 'Hatibagan Market',\n",
       " 'Raj Bhavan',\n",
       " 'Shree Aadi Bhootnath Mandir',\n",
       " 'Mousuni Island',\n",
       " 'Town Hall',\n",
       " 'Lake Mall',\n",
       " 'Babughat',\n",
       " 'Sishu Bhavan',\n",
       " 'Marble Palace',\n",
       " 'Elliot Park',\n",
       " 'Axis Mall',\n",
       " 'Najrul Tirtha',\n",
       " 'Metcalfe Hall',\n",
       " 'E-Mall',\n",
       " 'Dacca Kali Bari',\n",
       " 'Sri Sarada Devi Temple',\n",
       " 'Sri Aurobindo Bhawan',\n",
       " \"Tippu Sultan's Mosque\",\n",
       " 'Konark Collectables']"
      ]
     },
     "execution_count": 153,
     "metadata": {},
     "output_type": "execute_result"
    }
   ],
   "source": [
    "tourist_spot61"
   ]
  },
  {
   "cell_type": "markdown",
   "id": "30b3c0ab",
   "metadata": {},
   "source": [
    "# Tourist Spots 90 - 120"
   ]
  },
  {
   "cell_type": "code",
   "execution_count": 55,
   "id": "1a47677e",
   "metadata": {},
   "outputs": [],
   "source": [
    "driver = webdriver.Chrome()\n",
    "driver.get(\"https://www.tripadvisor.in/Attractions-g304558-Activities-oa90-Kolkata_Calcutta_Kolkata_District_West_Bengal.html\")\n",
    "html_source = driver.page_source\n",
    "Kolkata_TA_90 = open(\"web_scrapped_data\\Kolkata_TA_90.txt\", \"w\",encoding='utf-8')\n",
    "Kolkata_TA_90.write(html_source)\n",
    "Kolkata_TA_90.close()\n",
    "# Run only if txt file does not exist"
   ]
  },
  {
   "cell_type": "code",
   "execution_count": 154,
   "id": "639e6e9c",
   "metadata": {},
   "outputs": [],
   "source": [
    "Kolkata_TA_90 = open('web_scrapped_data\\Kolkata_TA_90.txt', 'r',encoding='utf-8').read()\n",
    "soup = BeautifulSoup(Kolkata_TA_90,\"html.parser\")"
   ]
  },
  {
   "cell_type": "code",
   "execution_count": 155,
   "id": "b4d954ee",
   "metadata": {},
   "outputs": [],
   "source": [
    "Location90 = soup.find_all(\"div\",\"XfVdV o AIbhI\")"
   ]
  },
  {
   "cell_type": "code",
   "execution_count": 156,
   "id": "664447eb",
   "metadata": {},
   "outputs": [],
   "source": [
    "def cleanhtml(raw_html):\n",
    "    cleanr = re.compile('<.*?>')\n",
    "    cleantext = re.sub(cleanr, '', raw_html)\n",
    "    tourist_spot90.append(cleantext)"
   ]
  },
  {
   "cell_type": "code",
   "execution_count": 157,
   "id": "16d7a699",
   "metadata": {},
   "outputs": [],
   "source": [
    "tourist_spot90 = []\n",
    "for x in Location90:\n",
    "    cleanhtml(str(x))"
   ]
  },
  {
   "cell_type": "code",
   "execution_count": 158,
   "id": "807e5bc6",
   "metadata": {},
   "outputs": [],
   "source": [
    "tourist_spot90 = []\n",
    "for x in Location90:\n",
    "    cleanhtml(str(x))"
   ]
  },
  {
   "cell_type": "code",
   "execution_count": 159,
   "id": "c2ca989c",
   "metadata": {},
   "outputs": [
    {
     "name": "stdout",
     "output_type": "stream",
     "text": [
      "['91', 'Lower Circular Road Cemetery']\n",
      "['92', 'Aquatica']\n",
      "['93', 'Sudder Street']\n",
      "['94', 'CIMA Gallery']\n",
      "['95', 'Maidan Central East']\n",
      "['96', 'Thanthania Kalibari']\n",
      "['97', 'Nature Park']\n",
      "['98', 'Lake Town Clock Tower']\n",
      "['99', 'Beth El Synagogue']\n",
      "['100', 'Sunshine']\n",
      "['101', 'Ashutosh Museum of Indian Art']\n",
      "['102', 'Nalban Boating Complex']\n",
      "['103', 'Aakriti Art Gallery']\n",
      "['104', 'Biswa Bangla Gate']\n",
      "['105', 'Rabindra Tirtha']\n",
      "['106', 'Wet O Wild']\n",
      "['107', 'Sabarna Sangrahashala']\n",
      "['108', 'The RBI Museum']\n",
      "['109', 'Star Mall']\n",
      "['110', 'Spa by JW']\n",
      "['111', 'M P Birla Planetarium']\n",
      "['112', 'Maghen David synagogue']\n",
      "['113', 'Aranghata']\n",
      "['114', 'Artsacre Museum of Bengal Modern Art']\n",
      "['115', 'Kolkata Police Museum']\n",
      "['116', 'Merlin Homeland Mall']\n",
      "['117', 'Mahanirban Math']\n",
      "['118', 'East Bengal Ground']\n",
      "['119', 'Eco Urban Village']\n",
      "['120', 'The Harrington Street Arts Centre']\n"
     ]
    }
   ],
   "source": [
    "tourist_spot91 = []\n",
    "for s in tourist_spot90:\n",
    "    s92 = str(s)\n",
    "    s93 = s92.split('. ')\n",
    "    print(s93)\n",
    "    tourist_spot91.append(s93[1])"
   ]
  },
  {
   "cell_type": "code",
   "execution_count": 160,
   "id": "2cd3ddf6",
   "metadata": {},
   "outputs": [
    {
     "data": {
      "text/plain": [
       "['Lower Circular Road Cemetery',\n",
       " 'Aquatica',\n",
       " 'Sudder Street',\n",
       " 'CIMA Gallery',\n",
       " 'Maidan Central East',\n",
       " 'Thanthania Kalibari',\n",
       " 'Nature Park',\n",
       " 'Lake Town Clock Tower',\n",
       " 'Beth El Synagogue',\n",
       " 'Sunshine',\n",
       " 'Ashutosh Museum of Indian Art',\n",
       " 'Nalban Boating Complex',\n",
       " 'Aakriti Art Gallery',\n",
       " 'Biswa Bangla Gate',\n",
       " 'Rabindra Tirtha',\n",
       " 'Wet O Wild',\n",
       " 'Sabarna Sangrahashala',\n",
       " 'The RBI Museum',\n",
       " 'Star Mall',\n",
       " 'Spa by JW',\n",
       " 'M P Birla Planetarium',\n",
       " 'Maghen David synagogue',\n",
       " 'Aranghata',\n",
       " 'Artsacre Museum of Bengal Modern Art',\n",
       " 'Kolkata Police Museum',\n",
       " 'Merlin Homeland Mall',\n",
       " 'Mahanirban Math',\n",
       " 'East Bengal Ground',\n",
       " 'Eco Urban Village',\n",
       " 'The Harrington Street Arts Centre']"
      ]
     },
     "execution_count": 160,
     "metadata": {},
     "output_type": "execute_result"
    }
   ],
   "source": [
    "tourist_spot91"
   ]
  },
  {
   "cell_type": "markdown",
   "id": "ba6f8f2b",
   "metadata": {},
   "source": [
    "# Combining all tourist spots into one list"
   ]
  },
  {
   "cell_type": "code",
   "execution_count": 161,
   "id": "251e4481",
   "metadata": {},
   "outputs": [
    {
     "data": {
      "text/plain": [
       "['Victoria Memorial Hall',\n",
       " 'Dakshineswar Kali Temple',\n",
       " 'Howrah Bridge',\n",
       " 'Mother House',\n",
       " 'Park Street',\n",
       " 'Eden Gardens',\n",
       " 'Eco Tourism Park',\n",
       " 'College Street (Boi Para)',\n",
       " 'Indian Museum (Jadu Ghar)',\n",
       " 'South Park Street Cemetery',\n",
       " 'Science City',\n",
       " \"St. Paul's Cathedral\",\n",
       " 'Metro Railway',\n",
       " 'New Market',\n",
       " 'Prinsep Ghat',\n",
       " 'Birla Temple',\n",
       " 'Jorasanko Thakur Bari',\n",
       " 'Jain Swetamber Dadajika Temple',\n",
       " 'Birla Planetarium',\n",
       " 'Maidan',\n",
       " 'Gariahat Market',\n",
       " 'Quest Mall',\n",
       " 'Netaji Bhawan',\n",
       " 'Rabindra Sarovar',\n",
       " 'Tagore House',\n",
       " 'Kolkata Zoo &amp; Zoological Garden',\n",
       " 'Nicco Parks &amp; Resorts Limited',\n",
       " 'Birla Industrial &amp; Technological Museum',\n",
       " 'ISKCON Kolkata, Sri Sri Radha Govind Temple',\n",
       " \"Ramakrishna Mission Swami Vivekananda's Ancestral House and Cultural Centre\",\n",
       " 'Parashnath Jain Temple',\n",
       " 'Dakshineswar Ramkrishna Sangha Adyapeath',\n",
       " 'Malik Ghat Flower Market',\n",
       " 'South City Mall',\n",
       " 'Marble Palace Kolkata',\n",
       " 'Salt Lake Stadium',\n",
       " \"St. John's Church\",\n",
       " 'Baps Shri Swaminarayan Mandir, Kolkata',\n",
       " 'National Library',\n",
       " 'Fort William',\n",
       " 'City Centre, New Town',\n",
       " 'City Centre  Mall',\n",
       " 'Chowringhee',\n",
       " 'Millenium Park',\n",
       " \"Mother's Wax Museum\",\n",
       " 'Kalighat Kali Temple',\n",
       " 'Nakhoda Mosque',\n",
       " 'BBD Bagh',\n",
       " 'The Agri-Horticultural Society of India',\n",
       " 'Dakshinapan Shopping Complex',\n",
       " 'Academy of Fine Arts',\n",
       " 'Mani Square mall',\n",
       " 'Shaheed Minar',\n",
       " 'Acropolis Mall',\n",
       " 'Tangra Chinatown',\n",
       " 'Royal Calcutta Turf Club',\n",
       " 'Rabindra Bharati University Museum',\n",
       " 'Swabhumi - The Heritage Plaza',\n",
       " 'Nirmal Hirday (Pure Heart)',\n",
       " \"Nehru Children's Museum\",\n",
       " 'Chintamoni Kar Bird Sanctuary',\n",
       " 'General Post Office',\n",
       " 'Ramakrishna Math',\n",
       " \"Writers' Building\",\n",
       " 'Diamond Plaza',\n",
       " 'Bhawanipore Cemetery',\n",
       " 'Central Park',\n",
       " 'Netaji Indoor Stadium',\n",
       " 'Shobhabajar Rajbari',\n",
       " 'Forum Courtyard',\n",
       " 'Kolkata Tram Museum Smaranika',\n",
       " 'Hatibagan Market',\n",
       " 'Raj Bhavan',\n",
       " 'Shree Aadi Bhootnath Mandir',\n",
       " 'Mousuni Island',\n",
       " 'Town Hall',\n",
       " 'Lake Mall',\n",
       " 'Babughat',\n",
       " 'Sishu Bhavan',\n",
       " 'Marble Palace',\n",
       " 'Elliot Park',\n",
       " 'Axis Mall',\n",
       " 'Najrul Tirtha',\n",
       " 'Metcalfe Hall',\n",
       " 'E-Mall',\n",
       " 'Dacca Kali Bari',\n",
       " 'Sri Sarada Devi Temple',\n",
       " 'Sri Aurobindo Bhawan',\n",
       " \"Tippu Sultan's Mosque\",\n",
       " 'Konark Collectables',\n",
       " 'Lower Circular Road Cemetery',\n",
       " 'Aquatica',\n",
       " 'Sudder Street',\n",
       " 'CIMA Gallery',\n",
       " 'Maidan Central East',\n",
       " 'Thanthania Kalibari',\n",
       " 'Nature Park',\n",
       " 'Lake Town Clock Tower',\n",
       " 'Beth El Synagogue',\n",
       " 'Sunshine',\n",
       " 'Ashutosh Museum of Indian Art',\n",
       " 'Nalban Boating Complex',\n",
       " 'Aakriti Art Gallery',\n",
       " 'Biswa Bangla Gate',\n",
       " 'Rabindra Tirtha',\n",
       " 'Wet O Wild',\n",
       " 'Sabarna Sangrahashala',\n",
       " 'The RBI Museum',\n",
       " 'Star Mall',\n",
       " 'Spa by JW',\n",
       " 'M P Birla Planetarium',\n",
       " 'Maghen David synagogue',\n",
       " 'Aranghata',\n",
       " 'Artsacre Museum of Bengal Modern Art',\n",
       " 'Kolkata Police Museum',\n",
       " 'Merlin Homeland Mall',\n",
       " 'Mahanirban Math',\n",
       " 'East Bengal Ground',\n",
       " 'Eco Urban Village',\n",
       " 'The Harrington Street Arts Centre']"
      ]
     },
     "execution_count": 161,
     "metadata": {},
     "output_type": "execute_result"
    }
   ],
   "source": [
    "final_tourist_spot = tourist_spot1\n",
    "final_tourist_spot.extend(tourist_spot31)\n",
    "final_tourist_spot.extend(tourist_spot61)\n",
    "final_tourist_spot.extend(tourist_spot91)\n",
    "final_tourist_spot"
   ]
  },
  {
   "cell_type": "code",
   "execution_count": 162,
   "id": "32d5a054",
   "metadata": {},
   "outputs": [
    {
     "data": {
      "text/plain": [
       "120"
      ]
     },
     "execution_count": 162,
     "metadata": {},
     "output_type": "execute_result"
    }
   ],
   "source": [
    "len(final_tourist_spot)"
   ]
  },
  {
   "cell_type": "markdown",
   "id": "f8d188df",
   "metadata": {},
   "source": [
    "# Attraction Ratings 0 - 30"
   ]
  },
  {
   "cell_type": "code",
   "execution_count": 101,
   "id": "b9bb6f3f",
   "metadata": {},
   "outputs": [],
   "source": [
    "driver = webdriver.Chrome()\n",
    "driver.get(\"https://www.tripadvisor.in/Attractions-g304558-Activities-oa0-Kolkata_Calcutta_Kolkata_District_West_Bengal.html\")\n",
    "html_source = driver.page_source\n",
    "Kolkata_TA_0 = open(\"web_scrapped_data\\Kolkata_TA_0.txt\", \"w\",encoding='utf-8')\n",
    "Kolkata_TA_0.write(html_source)\n",
    "Kolkata_TA_0.close()\n",
    "# Run only if txt file does not exist"
   ]
  },
  {
   "cell_type": "code",
   "execution_count": 103,
   "id": "471b95f5",
   "metadata": {},
   "outputs": [],
   "source": [
    "Kolkata_TA_0 = open('web_scrapped_data\\Kolkata_TA_0.txt', 'r',encoding='utf-8').read()\n",
    "soup = BeautifulSoup(Kolkata_TA_0,\"html.parser\")"
   ]
  },
  {
   "cell_type": "code",
   "execution_count": 104,
   "id": "fe67e1e8",
   "metadata": {},
   "outputs": [],
   "source": [
    "Rating = soup.find_all(\"svg\",\"UctUV d H0 hzzSG\")\n",
    "Rating1 = str(Rating)\n",
    "Rating2 = Rating1.replace('[','')\n",
    "Rating3 = Rating2.split(', ')"
   ]
  },
  {
   "cell_type": "code",
   "execution_count": 105,
   "id": "5a33da50",
   "metadata": {},
   "outputs": [],
   "source": [
    "bubble1 = []\n",
    "for c in Rating3:\n",
    "    c1 = str(c)\n",
    "    c2 = c1[17:20]\n",
    "    bubble1.append(c2)"
   ]
  },
  {
   "cell_type": "code",
   "execution_count": 106,
   "id": "e7272e31",
   "metadata": {},
   "outputs": [],
   "source": [
    "bubble2 = bubble1[3:]"
   ]
  },
  {
   "cell_type": "markdown",
   "id": "cbe91f90",
   "metadata": {},
   "source": [
    "# Attraction Rating 30 - 60"
   ]
  },
  {
   "cell_type": "code",
   "execution_count": 107,
   "id": "9cc74386",
   "metadata": {},
   "outputs": [],
   "source": [
    "driver = webdriver.Chrome()\n",
    "driver.get(\"https://www.tripadvisor.in/Attractions-g304558-Activities-oa30-Kolkata_Calcutta_Kolkata_District_West_Bengal.html\")\n",
    "html_source = driver.page_source\n",
    "Kolkata_TA_30 = open(\"web_scrapped_data\\Kolkata_TA_30.txt\", \"w\",encoding='utf-8')\n",
    "Kolkata_TA_30.write(html_source)\n",
    "Kolkata_TA_30.close()\n",
    "# Run only if txt file does not exist"
   ]
  },
  {
   "cell_type": "code",
   "execution_count": 109,
   "id": "57fe70d7",
   "metadata": {},
   "outputs": [],
   "source": [
    "Kolkata_TA_30 = open('web_scrapped_data\\Kolkata_TA_30.txt', 'r',encoding='utf-8').read()\n",
    "soup = BeautifulSoup(Kolkata_TA_30,\"html.parser\")"
   ]
  },
  {
   "cell_type": "code",
   "execution_count": 110,
   "id": "e7f120a4",
   "metadata": {},
   "outputs": [],
   "source": [
    "Rating30 = soup.find_all(\"svg\",\"UctUV d H0 hzzSG\")\n",
    "Rating31 = str(Rating30)\n",
    "Rating32 = Rating31.replace('[','')\n",
    "Rating33 = Rating32.split(', ')"
   ]
  },
  {
   "cell_type": "code",
   "execution_count": 111,
   "id": "e8981883",
   "metadata": {},
   "outputs": [],
   "source": [
    "bubble31 = []\n",
    "for c in Rating33:\n",
    "    c1 = str(c)\n",
    "    c2 = c1[17:20]\n",
    "    bubble31.append(c2)"
   ]
  },
  {
   "cell_type": "code",
   "execution_count": 112,
   "id": "5ecfda15",
   "metadata": {},
   "outputs": [],
   "source": [
    "bubble32 = bubble31[3:]"
   ]
  },
  {
   "cell_type": "markdown",
   "id": "02336a5e",
   "metadata": {},
   "source": [
    "# Attraction Rating 60 - 90"
   ]
  },
  {
   "cell_type": "code",
   "execution_count": 113,
   "id": "4ff5192b",
   "metadata": {},
   "outputs": [],
   "source": [
    "driver = webdriver.Chrome()\n",
    "driver.get(\"https://www.tripadvisor.in/Attractions-g304558-Activities-oa60-Kolkata_Calcutta_Kolkata_District_West_Bengal.html\")\n",
    "html_source = driver.page_source\n",
    "Kolkata_TA_60 = open(\"web_scrapped_data\\Kolkata_TA_60.txt\", \"w\",encoding='utf-8')\n",
    "Kolkata_TA_60.write(html_source)\n",
    "Kolkata_TA_60.close()\n",
    "# Run only if txt file does not exist"
   ]
  },
  {
   "cell_type": "code",
   "execution_count": 114,
   "id": "c5f829a6",
   "metadata": {},
   "outputs": [],
   "source": [
    "Kolkata_TA_60 = open('web_scrapped_data\\Kolkata_TA_60.txt', 'r',encoding='utf-8').read()\n",
    "soup = BeautifulSoup(Kolkata_TA_60,\"html.parser\")"
   ]
  },
  {
   "cell_type": "code",
   "execution_count": 115,
   "id": "e0a012fd",
   "metadata": {},
   "outputs": [],
   "source": [
    "Rating60 = soup.find_all(\"svg\",\"UctUV d H0 hzzSG\")\n",
    "Rating61 = str(Rating60)\n",
    "Rating62 = Rating61.replace('[','')\n",
    "Rating63 = Rating62.split(', ')"
   ]
  },
  {
   "cell_type": "code",
   "execution_count": 116,
   "id": "5e710b55",
   "metadata": {},
   "outputs": [],
   "source": [
    "bubble61 = []\n",
    "for c in Rating63:\n",
    "    c1 = str(c)\n",
    "    c2 = c1[17:20]\n",
    "    bubble61.append(c2)"
   ]
  },
  {
   "cell_type": "code",
   "execution_count": 117,
   "id": "f5ea7acd",
   "metadata": {},
   "outputs": [],
   "source": [
    "bubble62 = bubble61[3:]"
   ]
  },
  {
   "cell_type": "markdown",
   "id": "2250e8e4",
   "metadata": {},
   "source": [
    "# Attraction Rating 90 - 120"
   ]
  },
  {
   "cell_type": "code",
   "execution_count": 118,
   "id": "6029cf0f",
   "metadata": {},
   "outputs": [],
   "source": [
    "driver = webdriver.Chrome()\n",
    "driver.get(\"https://www.tripadvisor.in/Attractions-g304558-Activities-oa90-Kolkata_Calcutta_Kolkata_District_West_Bengal.html\")\n",
    "html_source = driver.page_source\n",
    "Kolkata_TA_90 = open(\"web_scrapped_data\\Kolkata_TA_90.txt\", \"w\",encoding='utf-8')\n",
    "Kolkata_TA_90.write(html_source)\n",
    "Kolkata_TA_90.close()\n",
    "# Run only if txt file does not exist"
   ]
  },
  {
   "cell_type": "code",
   "execution_count": 119,
   "id": "5d2736b5",
   "metadata": {},
   "outputs": [],
   "source": [
    "Kolkata_TA_90 = open('web_scrapped_data\\Kolkata_TA_90.txt', 'r',encoding='utf-8').read()\n",
    "soup = BeautifulSoup(Kolkata_TA_90,\"html.parser\")"
   ]
  },
  {
   "cell_type": "code",
   "execution_count": 120,
   "id": "0b2f649b",
   "metadata": {},
   "outputs": [],
   "source": [
    "Rating90 = soup.find_all(\"svg\",\"UctUV d H0 hzzSG\")\n",
    "Rating91 = str(Rating90)\n",
    "Rating92 = Rating91.replace('[','')\n",
    "Rating93 = Rating92.split(', ')"
   ]
  },
  {
   "cell_type": "code",
   "execution_count": 121,
   "id": "9a4f223b",
   "metadata": {},
   "outputs": [],
   "source": [
    "bubble91 = []\n",
    "for c in Rating93:\n",
    "    c91 = str(c)\n",
    "    c92 = c91[17:20]\n",
    "    bubble91.append(c92)"
   ]
  },
  {
   "cell_type": "code",
   "execution_count": 122,
   "id": "22597bee",
   "metadata": {},
   "outputs": [],
   "source": [
    "bubble92 = bubble91[3:]"
   ]
  },
  {
   "cell_type": "markdown",
   "id": "81f54bd9",
   "metadata": {},
   "source": [
    "# Combining all attraction ratings into a list"
   ]
  },
  {
   "cell_type": "code",
   "execution_count": 123,
   "id": "b87d5c1b",
   "metadata": {
    "scrolled": true
   },
   "outputs": [],
   "source": [
    "final_attraction_rating = bubble2\n",
    "final_attraction_rating.extend(bubble32)\n",
    "final_attraction_rating.extend(bubble62)\n",
    "final_attraction_rating.extend(bubble92)"
   ]
  },
  {
   "cell_type": "code",
   "execution_count": 124,
   "id": "e8475e7d",
   "metadata": {},
   "outputs": [
    {
     "data": {
      "text/plain": [
       "120"
      ]
     },
     "execution_count": 124,
     "metadata": {},
     "output_type": "execute_result"
    }
   ],
   "source": [
    "len(final_attraction_rating)"
   ]
  },
  {
   "cell_type": "markdown",
   "id": "26ee1bb1",
   "metadata": {},
   "source": [
    "# Converting the extracted data to a CSV file"
   ]
  },
  {
   "cell_type": "code",
   "execution_count": 165,
   "id": "ec63afca",
   "metadata": {},
   "outputs": [
    {
     "data": {
      "text/plain": [
       "120"
      ]
     },
     "execution_count": 165,
     "metadata": {},
     "output_type": "execute_result"
    }
   ],
   "source": [
    "len(final_attraction_rating)"
   ]
  },
  {
   "cell_type": "code",
   "execution_count": 166,
   "id": "514e3cfd",
   "metadata": {},
   "outputs": [
    {
     "data": {
      "text/plain": [
       "120"
      ]
     },
     "execution_count": 166,
     "metadata": {},
     "output_type": "execute_result"
    }
   ],
   "source": [
    "len(final_tourist_spot)"
   ]
  },
  {
   "cell_type": "code",
   "execution_count": 167,
   "id": "099d9490",
   "metadata": {},
   "outputs": [],
   "source": [
    "import csv\n",
    "from itertools import zip_longest\n",
    "d = [final_tourist_spot,final_attraction_rating]\n",
    "export_data = zip_longest(*d, fillvalue = '')\n",
    "with open('csv\\kolkata.csv', 'w', encoding=\"ISO-8859-1\", newline='') as myfile:\n",
    "      wr = csv.writer(myfile)\n",
    "      wr.writerow((\"tourist_spot\", \"rating\"))\n",
    "      wr.writerows(export_data)\n",
    "myfile.close()"
   ]
  },
  {
   "cell_type": "code",
   "execution_count": null,
   "id": "6d7000bf",
   "metadata": {},
   "outputs": [],
   "source": []
  }
 ],
 "metadata": {
  "kernelspec": {
   "display_name": "Python 3",
   "language": "python",
   "name": "python3"
  },
  "language_info": {
   "codemirror_mode": {
    "name": "ipython",
    "version": 3
   },
   "file_extension": ".py",
   "mimetype": "text/x-python",
   "name": "python",
   "nbconvert_exporter": "python",
   "pygments_lexer": "ipython3",
   "version": "3.10.4"
  }
 },
 "nbformat": 4,
 "nbformat_minor": 5
}
