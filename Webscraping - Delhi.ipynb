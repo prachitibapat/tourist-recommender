{
 "cells": [
  {
   "cell_type": "markdown",
   "id": "a95a8f4f",
   "metadata": {},
   "source": [
    "# **All the required packages**"
   ]
  },
  {
   "cell_type": "code",
   "execution_count": null,
   "id": "4c08c828",
   "metadata": {},
   "outputs": [],
   "source": [
    "pip install selenium"
   ]
  },
  {
   "cell_type": "code",
   "execution_count": null,
   "id": "c0bd4e1c",
   "metadata": {},
   "outputs": [],
   "source": [
    "pip install beautifulsoup4"
   ]
  },
  {
   "cell_type": "code",
   "execution_count": null,
   "id": "b744dcab",
   "metadata": {},
   "outputs": [],
   "source": [
    "pip install webdriver_manager"
   ]
  },
  {
   "cell_type": "code",
   "execution_count": null,
   "id": "8726a3e4",
   "metadata": {},
   "outputs": [],
   "source": [
    "pip install pandas"
   ]
  },
  {
   "cell_type": "code",
   "execution_count": null,
   "id": "72b30d22",
   "metadata": {},
   "outputs": [],
   "source": [
    "from selenium import webdriver\n",
    "from selenium.webdriver.chrome.service import Service\n",
    "from selenium.webdriver.common.by import By \n",
    "from selenium.webdriver.common.keys import Keys\n",
    "from selenium.webdriver.support.ui import WebDriverWait\n",
    "from selenium.webdriver.support import expected_conditions as EC\n",
    "import time\n",
    "from bs4 import BeautifulSoup\n",
    "import pandas as pd"
   ]
  },
  {
   "cell_type": "code",
   "execution_count": null,
   "id": "5f4d814a",
   "metadata": {},
   "outputs": [],
   "source": [
    "driver = webdriver.Chrome()"
   ]
  },
  {
   "cell_type": "code",
   "execution_count": null,
   "id": "6fbf85b9",
   "metadata": {},
   "outputs": [],
   "source": [
    "driver.get(\"https://www.tripadvisor.in/Attractions-g304551-Activities-oa0-New_Delhi_National_Capital_Territory_of_Delhi.html\")"
   ]
  },
  {
   "cell_type": "code",
   "execution_count": null,
   "id": "7d6147cd",
   "metadata": {},
   "outputs": [],
   "source": [
    "html_source = driver.page_source"
   ]
  },
  {
   "cell_type": "code",
   "execution_count": null,
   "id": "6b6a085f",
   "metadata": {},
   "outputs": [],
   "source": [
    "html_source"
   ]
  },
  {
   "cell_type": "code",
   "execution_count": null,
   "id": "92c5686a",
   "metadata": {},
   "outputs": [],
   "source": [
    "soup = BeautifulSoup(html_source,\"html.parser\")"
   ]
  },
  {
   "cell_type": "code",
   "execution_count": null,
   "id": "eb15bad7",
   "metadata": {},
   "outputs": [],
   "source": [
    "soup"
   ]
  },
  {
   "cell_type": "markdown",
   "id": "9ff1cda2",
   "metadata": {},
   "source": [
    "# Tourist Attractions 0 - 30"
   ]
  },
  {
   "cell_type": "code",
   "execution_count": null,
   "id": "fc82f47a",
   "metadata": {},
   "outputs": [],
   "source": [
    "Location = soup.find_all(\"div\",\"XfVdV o AIbhI\")"
   ]
  },
  {
   "cell_type": "code",
   "execution_count": null,
   "id": "038f4794",
   "metadata": {},
   "outputs": [],
   "source": [
    "import re"
   ]
  },
  {
   "cell_type": "code",
   "execution_count": null,
   "id": "4e83022f",
   "metadata": {},
   "outputs": [],
   "source": [
    "def cleanhtml(raw_html):\n",
    "    cleanr = re.compile('<.*?>')\n",
    "    cleantext = re.sub(cleanr, '', raw_html)\n",
    "    tourist_spot.append(cleantext)\n",
    "    print(cleantext)"
   ]
  },
  {
   "cell_type": "code",
   "execution_count": null,
   "id": "db3871f2",
   "metadata": {
    "scrolled": true
   },
   "outputs": [],
   "source": [
    "tourist_spot = []\n",
    "for x in Location:\n",
    "    cleanhtml(str(x))"
   ]
  },
  {
   "cell_type": "code",
   "execution_count": null,
   "id": "7a574dfe",
   "metadata": {},
   "outputs": [],
   "source": [
    "tourist_spot1 = []\n",
    "for s in tourist_spot:\n",
    "    s2 = str(s)\n",
    "    s3 = s2.split('. ')\n",
    "#     print(s3)\n",
    "    tourist_spot1.append(s3[1])"
   ]
  },
  {
   "cell_type": "code",
   "execution_count": null,
   "id": "979b4dbf",
   "metadata": {},
   "outputs": [],
   "source": [
    "tourist_spot1"
   ]
  },
  {
   "cell_type": "markdown",
   "id": "b631373c",
   "metadata": {},
   "source": [
    "# Tourist Attractions 30 - 60"
   ]
  },
  {
   "cell_type": "code",
   "execution_count": null,
   "id": "13bb0ffc",
   "metadata": {},
   "outputs": [],
   "source": [
    "driver.get(\"https://www.tripadvisor.in/Attractions-g304551-Activities-oa30-New_Delhi_National_Capital_Territory_of_Delhi.html\")"
   ]
  },
  {
   "cell_type": "code",
   "execution_count": null,
   "id": "d68552ed",
   "metadata": {},
   "outputs": [],
   "source": [
    "html_source = driver.page_source"
   ]
  },
  {
   "cell_type": "code",
   "execution_count": null,
   "id": "758ae8d6",
   "metadata": {},
   "outputs": [],
   "source": [
    "html_source"
   ]
  },
  {
   "cell_type": "code",
   "execution_count": null,
   "id": "8b6373d2",
   "metadata": {},
   "outputs": [],
   "source": [
    "soup = BeautifulSoup(html_source,\"html.parser\")"
   ]
  },
  {
   "cell_type": "code",
   "execution_count": null,
   "id": "7cc83b82",
   "metadata": {},
   "outputs": [],
   "source": [
    "soup"
   ]
  },
  {
   "cell_type": "code",
   "execution_count": null,
   "id": "a064701a",
   "metadata": {},
   "outputs": [],
   "source": [
    "Location30 = soup.find_all(\"div\",\"XfVdV o AIbhI\")"
   ]
  },
  {
   "cell_type": "code",
   "execution_count": null,
   "id": "e2b5e16c",
   "metadata": {},
   "outputs": [],
   "source": [
    "def cleanhtml(raw_html):\n",
    "    cleanr = re.compile('<.*?>')\n",
    "    cleantext = re.sub(cleanr, '', raw_html)\n",
    "    tourist_spot30.append(cleantext)\n",
    "    print(cleantext)"
   ]
  },
  {
   "cell_type": "code",
   "execution_count": null,
   "id": "38866d80",
   "metadata": {},
   "outputs": [],
   "source": [
    "tourist_spot30 = []\n",
    "for x in Location30:\n",
    "    cleanhtml(str(x))"
   ]
  },
  {
   "cell_type": "code",
   "execution_count": null,
   "id": "1e6d922a",
   "metadata": {},
   "outputs": [],
   "source": [
    "tourist_spot30"
   ]
  },
  {
   "cell_type": "code",
   "execution_count": null,
   "id": "ceb82dbf",
   "metadata": {},
   "outputs": [],
   "source": [
    "tourist_spot31 = []\n",
    "for s in tourist_spot30:\n",
    "    s32 = str(s)\n",
    "    s33 = s32.split('. ')\n",
    "    print(s33)\n",
    "    tourist_spot31.append(s33[1])"
   ]
  },
  {
   "cell_type": "code",
   "execution_count": null,
   "id": "7973725a",
   "metadata": {
    "scrolled": true
   },
   "outputs": [],
   "source": [
    "tourist_spot31"
   ]
  },
  {
   "cell_type": "markdown",
   "id": "e2b7d16b",
   "metadata": {},
   "source": [
    "# Tourist Spots 60 - 90"
   ]
  },
  {
   "cell_type": "code",
   "execution_count": null,
   "id": "b312c653",
   "metadata": {},
   "outputs": [],
   "source": [
    "driver.get(\"https://www.tripadvisor.in/Attractions-g304551-Activities-oa60-New_Delhi_National_Capital_Territory_of_Delhi.html\")"
   ]
  },
  {
   "cell_type": "code",
   "execution_count": null,
   "id": "57a68b52",
   "metadata": {},
   "outputs": [],
   "source": [
    "html_source = driver.page_source"
   ]
  },
  {
   "cell_type": "code",
   "execution_count": null,
   "id": "bc7dd3b3",
   "metadata": {},
   "outputs": [],
   "source": [
    "html_source"
   ]
  },
  {
   "cell_type": "code",
   "execution_count": null,
   "id": "8d8f4110",
   "metadata": {},
   "outputs": [],
   "source": [
    "soup = BeautifulSoup(html_source,\"html.parser\")"
   ]
  },
  {
   "cell_type": "code",
   "execution_count": null,
   "id": "faf1a1b9",
   "metadata": {},
   "outputs": [],
   "source": [
    "soup"
   ]
  },
  {
   "cell_type": "code",
   "execution_count": null,
   "id": "7aec24f7",
   "metadata": {},
   "outputs": [],
   "source": [
    "Location60 = soup.find_all(\"div\",\"XfVdV o AIbhI\")"
   ]
  },
  {
   "cell_type": "code",
   "execution_count": null,
   "id": "adac98a8",
   "metadata": {},
   "outputs": [],
   "source": [
    "def cleanhtml(raw_html):\n",
    "    cleanr = re.compile('<.*?>')\n",
    "    cleantext = re.sub(cleanr, '', raw_html)\n",
    "    tourist_spot60.append(cleantext)\n",
    "    print(cleantext)"
   ]
  },
  {
   "cell_type": "code",
   "execution_count": null,
   "id": "9e22301c",
   "metadata": {},
   "outputs": [],
   "source": [
    "tourist_spot60 = []\n",
    "for x in Location60:\n",
    "    cleanhtml(str(x))"
   ]
  },
  {
   "cell_type": "code",
   "execution_count": null,
   "id": "0ce1a5c1",
   "metadata": {},
   "outputs": [],
   "source": [
    "tourist_spot60"
   ]
  },
  {
   "cell_type": "code",
   "execution_count": null,
   "id": "d0691350",
   "metadata": {},
   "outputs": [],
   "source": [
    "tourist_spot61 = []\n",
    "for s in tourist_spot60:\n",
    "    s62 = str(s)\n",
    "    s63 = s62.split('. ')\n",
    "    print(s63)\n",
    "    tourist_spot61.append(s63[1])"
   ]
  },
  {
   "cell_type": "code",
   "execution_count": null,
   "id": "5447cb80",
   "metadata": {},
   "outputs": [],
   "source": [
    "tourist_spot61"
   ]
  },
  {
   "cell_type": "markdown",
   "id": "30b3c0ab",
   "metadata": {},
   "source": [
    "# Tourist Spots 90 - 120"
   ]
  },
  {
   "cell_type": "code",
   "execution_count": null,
   "id": "639e6e9c",
   "metadata": {},
   "outputs": [],
   "source": [
    "driver.get(\"https://www.tripadvisor.in/Attractions-g304551-Activities-oa90-New_Delhi_National_Capital_Territory_of_Delhi.html\")"
   ]
  },
  {
   "cell_type": "code",
   "execution_count": null,
   "id": "b1710a0c",
   "metadata": {},
   "outputs": [],
   "source": [
    "html_source = driver.page_source"
   ]
  },
  {
   "cell_type": "code",
   "execution_count": null,
   "id": "2af604a4",
   "metadata": {},
   "outputs": [],
   "source": [
    "html_source"
   ]
  },
  {
   "cell_type": "code",
   "execution_count": null,
   "id": "8cbf8f19",
   "metadata": {},
   "outputs": [],
   "source": [
    "soup = BeautifulSoup(html_source,\"html.parser\")"
   ]
  },
  {
   "cell_type": "code",
   "execution_count": null,
   "id": "7f24058b",
   "metadata": {},
   "outputs": [],
   "source": [
    "soup"
   ]
  },
  {
   "cell_type": "code",
   "execution_count": null,
   "id": "b4d954ee",
   "metadata": {},
   "outputs": [],
   "source": [
    "Location90 = soup.find_all(\"div\",\"XfVdV o AIbhI\")"
   ]
  },
  {
   "cell_type": "code",
   "execution_count": null,
   "id": "664447eb",
   "metadata": {},
   "outputs": [],
   "source": [
    "def cleanhtml(raw_html):\n",
    "    cleanr = re.compile('<.*?>')\n",
    "    cleantext = re.sub(cleanr, '', raw_html)\n",
    "    tourist_spot90.append(cleantext)\n",
    "    print(cleantext)"
   ]
  },
  {
   "cell_type": "code",
   "execution_count": null,
   "id": "16d7a699",
   "metadata": {},
   "outputs": [],
   "source": [
    "tourist_spot90 = []\n",
    "for x in Location90:\n",
    "    cleanhtml(str(x))"
   ]
  },
  {
   "cell_type": "code",
   "execution_count": null,
   "id": "807e5bc6",
   "metadata": {},
   "outputs": [],
   "source": [
    "tourist_spot90"
   ]
  },
  {
   "cell_type": "code",
   "execution_count": null,
   "id": "c2ca989c",
   "metadata": {},
   "outputs": [],
   "source": [
    "tourist_spot91 = []\n",
    "for s in tourist_spot90:\n",
    "    s92 = str(s)\n",
    "    s93 = s92.split('. ')\n",
    "    print(s93)\n",
    "    tourist_spot91.append(s93[1])"
   ]
  },
  {
   "cell_type": "code",
   "execution_count": null,
   "id": "2cd3ddf6",
   "metadata": {},
   "outputs": [],
   "source": [
    "tourist_spot91"
   ]
  },
  {
   "cell_type": "markdown",
   "id": "ba6f8f2b",
   "metadata": {},
   "source": [
    "# Combining all tourist spots into one list"
   ]
  },
  {
   "cell_type": "code",
   "execution_count": null,
   "id": "251e4481",
   "metadata": {},
   "outputs": [],
   "source": [
    "final_tourist_spot = tourist_spot1\n",
    "final_tourist_spot.extend(tourist_spot31)\n",
    "final_tourist_spot.extend(tourist_spot61)\n",
    "final_tourist_spot.extend(tourist_spot91)\n",
    "final_tourist_spot"
   ]
  },
  {
   "cell_type": "markdown",
   "id": "f8d188df",
   "metadata": {},
   "source": [
    "# Attraction Ratings 0 - 30"
   ]
  },
  {
   "cell_type": "code",
   "execution_count": null,
   "id": "471b95f5",
   "metadata": {},
   "outputs": [],
   "source": [
    "driver.get(\"https://www.tripadvisor.in/Attractions-g304551-Activities-oa0-New_Delhi_National_Capital_Territory_of_Delhi.html\")"
   ]
  },
  {
   "cell_type": "code",
   "execution_count": null,
   "id": "fe67e1e8",
   "metadata": {},
   "outputs": [],
   "source": [
    "html_source = driver.page_source"
   ]
  },
  {
   "cell_type": "code",
   "execution_count": null,
   "id": "5a33da50",
   "metadata": {},
   "outputs": [],
   "source": [
    "html_source"
   ]
  },
  {
   "cell_type": "code",
   "execution_count": null,
   "id": "e7272e31",
   "metadata": {},
   "outputs": [],
   "source": [
    "soup = BeautifulSoup(html_source,\"html.parser\")"
   ]
  },
  {
   "cell_type": "code",
   "execution_count": null,
   "id": "52e35dd9",
   "metadata": {},
   "outputs": [],
   "source": [
    "soup"
   ]
  },
  {
   "cell_type": "code",
   "execution_count": null,
   "id": "395ea764",
   "metadata": {},
   "outputs": [],
   "source": [
    "Rating = soup.find_all(\"svg\",\"UctUV d H0 hzzSG\")"
   ]
  },
  {
   "cell_type": "code",
   "execution_count": null,
   "id": "0cdd6c8f",
   "metadata": {},
   "outputs": [],
   "source": [
    "Rating"
   ]
  },
  {
   "cell_type": "code",
   "execution_count": null,
   "id": "ae2f17e6",
   "metadata": {},
   "outputs": [],
   "source": [
    "Rating1 = str(Rating)"
   ]
  },
  {
   "cell_type": "code",
   "execution_count": null,
   "id": "f3eea14a",
   "metadata": {},
   "outputs": [],
   "source": [
    "Rating1"
   ]
  },
  {
   "cell_type": "code",
   "execution_count": null,
   "id": "82de5472",
   "metadata": {},
   "outputs": [],
   "source": [
    "Rating2 = Rating1.replace('[','')"
   ]
  },
  {
   "cell_type": "code",
   "execution_count": null,
   "id": "b7242371",
   "metadata": {},
   "outputs": [],
   "source": [
    "Rating2"
   ]
  },
  {
   "cell_type": "code",
   "execution_count": null,
   "id": "2d685878",
   "metadata": {},
   "outputs": [],
   "source": [
    "Rating3 = Rating2.split(', ')"
   ]
  },
  {
   "cell_type": "code",
   "execution_count": null,
   "id": "7dd616e6",
   "metadata": {},
   "outputs": [],
   "source": [
    "Rating3"
   ]
  },
  {
   "cell_type": "code",
   "execution_count": null,
   "id": "38f1140d",
   "metadata": {},
   "outputs": [],
   "source": [
    "bubble1 = []\n",
    "for c in Rating3:\n",
    "    c1 = str(c)\n",
    "    c2 = c1[17:20]\n",
    "    bubble1.append(c2)"
   ]
  },
  {
   "cell_type": "code",
   "execution_count": null,
   "id": "25cf36fa",
   "metadata": {},
   "outputs": [],
   "source": [
    "bubble2 = bubble1[3:]\n",
    "bubble2"
   ]
  },
  {
   "cell_type": "markdown",
   "id": "cbe91f90",
   "metadata": {},
   "source": [
    "# Attraction Rating 30 - 60"
   ]
  },
  {
   "cell_type": "code",
   "execution_count": null,
   "id": "57fe70d7",
   "metadata": {},
   "outputs": [],
   "source": [
    "driver.get(\"https://www.tripadvisor.in/Attractions-g304551-Activities-oa30-New_Delhi_National_Capital_Territory_of_Delhi.html\")"
   ]
  },
  {
   "cell_type": "code",
   "execution_count": null,
   "id": "e7f120a4",
   "metadata": {},
   "outputs": [],
   "source": [
    "html_source = driver.page_source"
   ]
  },
  {
   "cell_type": "code",
   "execution_count": null,
   "id": "e8981883",
   "metadata": {},
   "outputs": [],
   "source": [
    "html_source"
   ]
  },
  {
   "cell_type": "code",
   "execution_count": null,
   "id": "5ecfda15",
   "metadata": {},
   "outputs": [],
   "source": [
    "soup = BeautifulSoup(html_source,\"html.parser\")"
   ]
  },
  {
   "cell_type": "code",
   "execution_count": null,
   "id": "bd51deb5",
   "metadata": {},
   "outputs": [],
   "source": [
    "soup"
   ]
  },
  {
   "cell_type": "code",
   "execution_count": null,
   "id": "c653faf8",
   "metadata": {},
   "outputs": [],
   "source": [
    "Rating30 = soup.find_all(\"svg\",\"UctUV d H0 hzzSG\")"
   ]
  },
  {
   "cell_type": "code",
   "execution_count": null,
   "id": "9ee41401",
   "metadata": {},
   "outputs": [],
   "source": [
    "Rating30"
   ]
  },
  {
   "cell_type": "code",
   "execution_count": null,
   "id": "6cd17193",
   "metadata": {},
   "outputs": [],
   "source": [
    "Rating31 = str(Rating30)"
   ]
  },
  {
   "cell_type": "code",
   "execution_count": null,
   "id": "a7842c4d",
   "metadata": {},
   "outputs": [],
   "source": [
    "Rating31"
   ]
  },
  {
   "cell_type": "code",
   "execution_count": null,
   "id": "9b08a202",
   "metadata": {},
   "outputs": [],
   "source": [
    "Rating32 = Rating31.replace('[','')"
   ]
  },
  {
   "cell_type": "code",
   "execution_count": null,
   "id": "4bb55ad8",
   "metadata": {},
   "outputs": [],
   "source": [
    "Rating32"
   ]
  },
  {
   "cell_type": "code",
   "execution_count": null,
   "id": "e1e76d52",
   "metadata": {},
   "outputs": [],
   "source": [
    "Rating33 = Rating32.split(', ')"
   ]
  },
  {
   "cell_type": "code",
   "execution_count": null,
   "id": "b2223a74",
   "metadata": {},
   "outputs": [],
   "source": [
    "Rating33"
   ]
  },
  {
   "cell_type": "code",
   "execution_count": null,
   "id": "acf53a72",
   "metadata": {},
   "outputs": [],
   "source": [
    "bubble31 = []\n",
    "for c in Rating33:\n",
    "    c31 = str(c)\n",
    "    c32 = c31[17:20]\n",
    "    bubble31.append(c32)"
   ]
  },
  {
   "cell_type": "code",
   "execution_count": null,
   "id": "b3b6f387",
   "metadata": {},
   "outputs": [],
   "source": [
    "bubble32 = bubble31[3:]\n",
    "bubble32"
   ]
  },
  {
   "cell_type": "markdown",
   "id": "02336a5e",
   "metadata": {},
   "source": [
    "# Attraction Rating 60 - 90"
   ]
  },
  {
   "cell_type": "code",
   "execution_count": null,
   "id": "c5f829a6",
   "metadata": {},
   "outputs": [],
   "source": [
    "driver.get(\"https://www.tripadvisor.in/Attractions-g304551-Activities-oa60-New_Delhi_National_Capital_Territory_of_Delhi.html\")"
   ]
  },
  {
   "cell_type": "code",
   "execution_count": null,
   "id": "e0a012fd",
   "metadata": {},
   "outputs": [],
   "source": [
    "html_source = driver.page_source"
   ]
  },
  {
   "cell_type": "code",
   "execution_count": null,
   "id": "5e710b55",
   "metadata": {},
   "outputs": [],
   "source": [
    "html_source"
   ]
  },
  {
   "cell_type": "code",
   "execution_count": null,
   "id": "f5ea7acd",
   "metadata": {},
   "outputs": [],
   "source": [
    "soup = BeautifulSoup(html_source,\"html.parser\")"
   ]
  },
  {
   "cell_type": "code",
   "execution_count": null,
   "id": "75785eb6",
   "metadata": {},
   "outputs": [],
   "source": [
    "soup"
   ]
  },
  {
   "cell_type": "code",
   "execution_count": null,
   "id": "16964c8a",
   "metadata": {},
   "outputs": [],
   "source": [
    "Rating60 = soup.find_all(\"svg\",\"UctUV d H0 hzzSG\")"
   ]
  },
  {
   "cell_type": "code",
   "execution_count": null,
   "id": "224bed2a",
   "metadata": {},
   "outputs": [],
   "source": [
    "Rating"
   ]
  },
  {
   "cell_type": "code",
   "execution_count": null,
   "id": "0f9542f7",
   "metadata": {},
   "outputs": [],
   "source": [
    "Rating61 = str(Rating60)"
   ]
  },
  {
   "cell_type": "code",
   "execution_count": null,
   "id": "d019770a",
   "metadata": {},
   "outputs": [],
   "source": [
    "Rating61"
   ]
  },
  {
   "cell_type": "code",
   "execution_count": null,
   "id": "8e64bc88",
   "metadata": {},
   "outputs": [],
   "source": [
    "Rating62 = Rating61.replace('[','')"
   ]
  },
  {
   "cell_type": "code",
   "execution_count": null,
   "id": "a8924dcf",
   "metadata": {},
   "outputs": [],
   "source": [
    "Rating62"
   ]
  },
  {
   "cell_type": "code",
   "execution_count": null,
   "id": "10952a9c",
   "metadata": {},
   "outputs": [],
   "source": [
    "Rating63 = Rating62.split(', ')"
   ]
  },
  {
   "cell_type": "code",
   "execution_count": null,
   "id": "70787b25",
   "metadata": {},
   "outputs": [],
   "source": [
    "Rating63"
   ]
  },
  {
   "cell_type": "code",
   "execution_count": null,
   "id": "b962b74c",
   "metadata": {},
   "outputs": [],
   "source": [
    "bubble61 = []\n",
    "for c in Rating63:\n",
    "    c61 = str(c)\n",
    "    c62 = c61[17:20]\n",
    "    bubble61.append(c62)"
   ]
  },
  {
   "cell_type": "code",
   "execution_count": null,
   "id": "6140f1a1",
   "metadata": {},
   "outputs": [],
   "source": [
    "bubble62 = bubble61[3:]\n",
    "bubble62"
   ]
  },
  {
   "cell_type": "markdown",
   "id": "2250e8e4",
   "metadata": {},
   "source": [
    "# Attraction Rating 90 - 120"
   ]
  },
  {
   "cell_type": "code",
   "execution_count": null,
   "id": "5d2736b5",
   "metadata": {},
   "outputs": [],
   "source": [
    "driver.get(\"https://www.tripadvisor.in/Attractions-g304551-Activities-oa90-New_Delhi_National_Capital_Territory_of_Delhi.html\")"
   ]
  },
  {
   "cell_type": "code",
   "execution_count": null,
   "id": "0b2f649b",
   "metadata": {},
   "outputs": [],
   "source": [
    "html_source = driver.page_source"
   ]
  },
  {
   "cell_type": "code",
   "execution_count": null,
   "id": "9a4f223b",
   "metadata": {},
   "outputs": [],
   "source": [
    "html_source"
   ]
  },
  {
   "cell_type": "code",
   "execution_count": null,
   "id": "22597bee",
   "metadata": {},
   "outputs": [],
   "source": [
    "soup = BeautifulSoup(html_source,\"html.parser\")"
   ]
  },
  {
   "cell_type": "code",
   "execution_count": null,
   "id": "ead970e7",
   "metadata": {},
   "outputs": [],
   "source": [
    "soup"
   ]
  },
  {
   "cell_type": "code",
   "execution_count": null,
   "id": "196e204f",
   "metadata": {},
   "outputs": [],
   "source": [
    "Rating90 = soup.find_all(\"svg\",\"UctUV d H0 hzzSG\")"
   ]
  },
  {
   "cell_type": "code",
   "execution_count": null,
   "id": "ae853497",
   "metadata": {},
   "outputs": [],
   "source": [
    "Rating90"
   ]
  },
  {
   "cell_type": "code",
   "execution_count": null,
   "id": "08380c99",
   "metadata": {},
   "outputs": [],
   "source": [
    "Rating91 = str(Rating90)"
   ]
  },
  {
   "cell_type": "code",
   "execution_count": null,
   "id": "4a96ddc0",
   "metadata": {},
   "outputs": [],
   "source": [
    "Rating91"
   ]
  },
  {
   "cell_type": "code",
   "execution_count": null,
   "id": "bc0789c8",
   "metadata": {},
   "outputs": [],
   "source": [
    "Rating92 = Rating91.replace('[','')"
   ]
  },
  {
   "cell_type": "code",
   "execution_count": null,
   "id": "ec5e52ac",
   "metadata": {},
   "outputs": [],
   "source": [
    "Rating92"
   ]
  },
  {
   "cell_type": "code",
   "execution_count": null,
   "id": "a19e3abb",
   "metadata": {},
   "outputs": [],
   "source": [
    "Rating93 = Rating92.split(', ')"
   ]
  },
  {
   "cell_type": "code",
   "execution_count": null,
   "id": "18f67d25",
   "metadata": {},
   "outputs": [],
   "source": [
    "Rating93"
   ]
  },
  {
   "cell_type": "code",
   "execution_count": null,
   "id": "fc39b8e0",
   "metadata": {},
   "outputs": [],
   "source": [
    "bubble91 = []\n",
    "for c in Rating93:\n",
    "    c91 = str(c)\n",
    "    c92 = c91[17:20]\n",
    "    bubble91.append(c92)"
   ]
  },
  {
   "cell_type": "code",
   "execution_count": null,
   "id": "f2afa49f",
   "metadata": {},
   "outputs": [],
   "source": [
    "bubble92 = bubble91[3:]\n",
    "bubble92"
   ]
  },
  {
   "cell_type": "markdown",
   "id": "81f54bd9",
   "metadata": {},
   "source": [
    "# Combining all attraction ratings into a list"
   ]
  },
  {
   "cell_type": "code",
   "execution_count": null,
   "id": "b87d5c1b",
   "metadata": {
    "scrolled": false
   },
   "outputs": [],
   "source": [
    "final_attraction_rating = bubble2\n",
    "final_attraction_rating.extend(bubble32)\n",
    "final_attraction_rating.extend(bubble62)\n",
    "final_attraction_rating.extend(bubble92)\n",
    "final_attraction_rating"
   ]
  },
  {
   "cell_type": "markdown",
   "id": "26ee1bb1",
   "metadata": {},
   "source": [
    "# Converting the extracted data to a CSV file"
   ]
  },
  {
   "cell_type": "code",
   "execution_count": null,
   "id": "099d9490",
   "metadata": {},
   "outputs": [],
   "source": [
    "import csv\n",
    "from itertools import zip_longest\n",
    "d = [final_tourist_spot,final_attraction_rating]\n",
    "export_data = zip_longest(*d, fillvalue = '')\n",
    "with open('delhi.csv', 'w', encoding=\"ISO-8859-1\", newline='') as myfile:\n",
    "      wr = csv.writer(myfile)\n",
    "      wr.writerow((\"tourist_spot\", \"rating\"))\n",
    "      wr.writerows(export_data)\n",
    "myfile.close()"
   ]
  }
 ],
 "metadata": {
  "kernelspec": {
   "display_name": "Python 3 (ipykernel)",
   "language": "python",
   "name": "python3"
  },
  "language_info": {
   "codemirror_mode": {
    "name": "ipython",
    "version": 3
   },
   "file_extension": ".py",
   "mimetype": "text/x-python",
   "name": "python",
   "nbconvert_exporter": "python",
   "pygments_lexer": "ipython3",
   "version": "3.9.13"
  }
 },
 "nbformat": 4,
 "nbformat_minor": 5
}
