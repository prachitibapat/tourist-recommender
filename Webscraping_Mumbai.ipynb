{
 "cells": [
  {
   "cell_type": "markdown",
   "id": "a95a8f4f",
   "metadata": {},
   "source": [
    "# **All the required packages**"
   ]
  },
  {
   "cell_type": "code",
   "execution_count": null,
   "id": "4c08c828",
   "metadata": {},
   "outputs": [],
   "source": [
    "pip install selenium"
   ]
  },
  {
   "cell_type": "code",
   "execution_count": null,
   "id": "c0bd4e1c",
   "metadata": {},
   "outputs": [],
   "source": [
    "pip install beautifulsoup4"
   ]
  },
  {
   "cell_type": "code",
   "execution_count": null,
   "id": "b744dcab",
   "metadata": {},
   "outputs": [],
   "source": [
    "pip install webdriver_manager"
   ]
  },
  {
   "cell_type": "code",
   "execution_count": null,
   "id": "8726a3e4",
   "metadata": {},
   "outputs": [],
   "source": [
    "pip install pandas"
   ]
  },
  {
   "cell_type": "code",
   "execution_count": null,
   "id": "641aee77",
   "metadata": {},
   "outputs": [],
   "source": [
    "pip install geopy"
   ]
  },
  {
   "cell_type": "code",
   "execution_count": null,
   "id": "3420dd59",
   "metadata": {},
   "outputs": [],
   "source": [
    "pip install folium"
   ]
  },
  {
   "cell_type": "code",
   "execution_count": null,
   "id": "ce6f5849",
   "metadata": {},
   "outputs": [],
   "source": [
    "pip install Googlemaps"
   ]
  },
  {
   "cell_type": "markdown",
   "id": "2cd76253",
   "metadata": {},
   "source": [
    "Run all the above only if not done before"
   ]
  },
  {
   "cell_type": "code",
   "execution_count": 1,
   "id": "72b30d22",
   "metadata": {},
   "outputs": [],
   "source": [
    "from selenium import webdriver\n",
    "from selenium.webdriver.chrome.service import Service\n",
    "from selenium.webdriver.common.by import By \n",
    "from selenium.webdriver.common.keys import Keys\n",
    "from selenium.webdriver.support.ui import WebDriverWait\n",
    "from selenium.webdriver.support import expected_conditions as EC\n",
    "from geopy.geocoders import Nominatim\n",
    "from geopy.geocoders import ArcGIS\n",
    "from geopy.geocoders import GoogleV3\n",
    "from geopy.geocoders import AzureMaps\n",
    "from selenium.webdriver.chrome.options import Options\n",
    "from bs4 import BeautifulSoup\n",
    "import time\n",
    "import googlemaps\n",
    "import pandas as pd\n",
    "import re\n",
    "import csv\n",
    "import folium\n",
    "#This is supposed to be run every iteration"
   ]
  },
  {
   "cell_type": "markdown",
   "id": "edb87a66",
   "metadata": {},
   "source": [
    "# Scraping Data"
   ]
  },
  {
   "cell_type": "code",
   "execution_count": null,
   "id": "595936d0",
   "metadata": {},
   "outputs": [],
   "source": [
    "options = Options()\n",
    "options.headless = True\n",
    "options.add_argument(\"--window-size=1920,1200\")\n",
    "# All the settings"
   ]
  },
  {
   "cell_type": "code",
   "execution_count": null,
   "id": "bdd7f947",
   "metadata": {},
   "outputs": [],
   "source": [
    "driver = webdriver.Chrome(options=options)\n",
    "#Locations 0-30\n",
    "driver.get(\"https://www.tripadvisor.in/Attractions-g304554-Activities-oa0-Mumbai_Maharashtra.html\")\n",
    "html_source = driver.page_source\n",
    "Mumbai_TA_0 = open(\"web_scrapped_data\\Mumbai_0.txt\", \"w\",encoding='utf-8')\n",
    "Mumbai_TA_0.write(html_source)\n",
    "Mumbai_TA_0.close()\n",
    "#Ratings 0-30\n",
    "Mumbai_AR_0 = open(\"web_scrapped_data\\Mumbai_0.txt\", \"w\",encoding='utf-8')\n",
    "Mumbai_AR_0.write(html_source)\n",
    "Mumbai_AR_0.close()\n",
    "#Locations 30-60\n",
    "driver.get(\"https://www.tripadvisor.in/Attractions-g304554-Activities-oa30-Mumbai_Maharashtra.html\")\n",
    "html_source = driver.page_source\n",
    "Mumbai_TA_30 = open(\"web_scrapped_data\\Mumbai_30.txt\", \"w\",encoding='utf-8')\n",
    "Mumbai_TA_30.write(html_source)\n",
    "Mumbai_TA_30.close()\n",
    "#Ratings 30-60\n",
    "Mumbai_AR_30 = open(\"web_scrapped_data\\Mumbai_30.txt\", \"w\",encoding='utf-8')\n",
    "Mumbai_AR_30.write(html_source)\n",
    "Mumbai_AR_30.close()\n",
    "#Locations 60-90\n",
    "driver.get(\"https://www.tripadvisor.in/Attractions-g304554-Activities-oa60-Mumbai_Maharashtra.html\")\n",
    "html_source = driver.page_source\n",
    "Mumbai_TA_60 = open(\"web_scrapped_data\\Mumbai_60.txt\", \"w\",encoding='utf-8')\n",
    "Mumbai_TA_60.write(html_source)\n",
    "Mumbai_TA_60.close()\n",
    "#Ratings 60-90\n",
    "Mumbai_AR_60 = open(\"web_scrapped_data\\Mumbai_60.txt\", \"w\",encoding='utf-8')\n",
    "Mumbai_AR_60.write(html_source)\n",
    "Mumbai_AR_60.close()\n",
    "#Locations 90-120\n",
    "driver.get(\"https://www.tripadvisor.in/Attractions-g304554-Activities-oa90-Mumbai_Maharashtra.html\")\n",
    "html_source = driver.page_source\n",
    "Mumbai_TA_90 = open(\"web_scrapped_data\\Mumbai_90.txt\", \"w\",encoding='utf-8')\n",
    "Mumbai_TA_90.write(html_source)\n",
    "Mumbai_TA_90.close()\n",
    "#Ratings 90-120\n",
    "Mumbai_AR_90 = open(\"web_scrapped_data\\Mumbai_90.txt\", \"w\",encoding='utf-8')\n",
    "Mumbai_AR_90.write(html_source)\n",
    "Mumbai_AR_90.close()"
   ]
  },
  {
   "cell_type": "markdown",
   "id": "9ff1cda2",
   "metadata": {},
   "source": [
    "# Tourist Attractions 0 - 30"
   ]
  },
  {
   "cell_type": "code",
   "execution_count": 19,
   "id": "07dc9c4b",
   "metadata": {},
   "outputs": [],
   "source": [
    "Mumbai_TA_0 = open('web_scrapped_data\\Mumbai_0.txt', 'r').read()\n",
    "soup = BeautifulSoup(Mumbai_TA_0,\"html.parser\")"
   ]
  },
  {
   "cell_type": "code",
   "execution_count": 20,
   "id": "fc82f47a",
   "metadata": {},
   "outputs": [],
   "source": [
    "Location0 = soup.find_all(\"div\",\"XfVdV o AIbhI\")"
   ]
  },
  {
   "cell_type": "code",
   "execution_count": 21,
   "id": "4e83022f",
   "metadata": {},
   "outputs": [],
   "source": [
    "def cleanhtml(raw_html):\n",
    "    cleanr = re.compile('<.*?>')\n",
    "    cleantext = re.sub(cleanr, '', raw_html)\n",
    "    tourist_spot0.append(cleantext)"
   ]
  },
  {
   "cell_type": "code",
   "execution_count": 22,
   "id": "db3871f2",
   "metadata": {
    "scrolled": true
   },
   "outputs": [],
   "source": [
    "tourist_spot0 = []\n",
    "for x in Location0:\n",
    "    cleanhtml(str(x))"
   ]
  },
  {
   "cell_type": "code",
   "execution_count": 23,
   "id": "7a574dfe",
   "metadata": {},
   "outputs": [],
   "source": [
    "tourist_spot1 = []\n",
    "for s in tourist_spot0:\n",
    "    s2 = str(s)\n",
    "    s3 = s2.split('. ')\n",
    "    tourist_spot1.append(s3[1])"
   ]
  },
  {
   "cell_type": "code",
   "execution_count": 24,
   "id": "d89473f7",
   "metadata": {},
   "outputs": [
    {
     "data": {
      "text/plain": [
       "['Gateway of India',\n",
       " 'Marine Drive',\n",
       " 'Bandra-Worli Sea Link',\n",
       " 'Shree Siddhivinayak',\n",
       " 'Chhatrapati Shivaji Terminus',\n",
       " 'KidZania Mumbai',\n",
       " 'Colaba',\n",
       " 'Nariman Point',\n",
       " 'Elephanta Caves',\n",
       " 'Mani Bhavan Gandhi Museum',\n",
       " 'Global Vipassana Pagoda',\n",
       " 'Essel World',\n",
       " 'Mount Mary Basilica',\n",
       " 'Kanheri Caves',\n",
       " 'Mahalakshmi Temple',\n",
       " 'Sri Sri Radha Gopinath Temple',\n",
       " 'Sanjay Gandhi National Park',\n",
       " 'Juhu Beach',\n",
       " 'Colaba Causeway',\n",
       " 'Dhobi Ghat',\n",
       " 'Haji Ali Mosque',\n",
       " 'Chhatrapati Shivaji Maharaj Vastu Sangrahalaya',\n",
       " 'Nehru Planetarium',\n",
       " 'Babulnath Temple',\n",
       " 'High Street Phoenix',\n",
       " 'R City Mall',\n",
       " 'Water Kingdom',\n",
       " 'Wankhede Stadium',\n",
       " 'Phoenix Marketcity',\n",
       " 'Worli Sea Face']"
      ]
     },
     "execution_count": 24,
     "metadata": {},
     "output_type": "execute_result"
    }
   ],
   "source": [
    "tourist_spot1"
   ]
  },
  {
   "cell_type": "markdown",
   "id": "b631373c",
   "metadata": {},
   "source": [
    "# Tourist Attractions 30 - 60"
   ]
  },
  {
   "cell_type": "code",
   "execution_count": 25,
   "id": "2952743c",
   "metadata": {},
   "outputs": [],
   "source": [
    "Mumbai_TA_30 = open('web_scrapped_data\\Mumbai_30.txt', 'r',encoding='utf-8').read()\n",
    "soup = BeautifulSoup(Mumbai_TA_30,\"html.parser\")"
   ]
  },
  {
   "cell_type": "code",
   "execution_count": 26,
   "id": "a064701a",
   "metadata": {},
   "outputs": [],
   "source": [
    "Location30 = soup.find_all(\"div\",\"XfVdV o AIbhI\")"
   ]
  },
  {
   "cell_type": "code",
   "execution_count": 27,
   "id": "e2b5e16c",
   "metadata": {},
   "outputs": [],
   "source": [
    "def cleanhtml(raw_html):\n",
    "    cleanr = re.compile('<.*?>')\n",
    "    cleantext = re.sub(cleanr, '', raw_html)\n",
    "    tourist_spot30.append(cleantext)"
   ]
  },
  {
   "cell_type": "code",
   "execution_count": 28,
   "id": "38866d80",
   "metadata": {},
   "outputs": [],
   "source": [
    "tourist_spot30 = []\n",
    "for x in Location30:\n",
    "    cleanhtml(str(x))"
   ]
  },
  {
   "cell_type": "code",
   "execution_count": 29,
   "id": "ceb82dbf",
   "metadata": {},
   "outputs": [],
   "source": [
    "tourist_spot31 = []\n",
    "for s in tourist_spot30:\n",
    "    s32 = str(s)\n",
    "    s33 = s32.split('. ')\n",
    "    tourist_spot31.append(s33[1])"
   ]
  },
  {
   "cell_type": "code",
   "execution_count": 30,
   "id": "ebb7adb0",
   "metadata": {},
   "outputs": [],
   "source": [
    "correction = tourist_spot30[25][4:24]\n",
    "# St. Thomas Cathedral"
   ]
  },
  {
   "cell_type": "code",
   "execution_count": 31,
   "id": "c2d43e1c",
   "metadata": {},
   "outputs": [],
   "source": [
    "tourist_spot31[25] = correction"
   ]
  },
  {
   "cell_type": "markdown",
   "id": "e2b7d16b",
   "metadata": {},
   "source": [
    "# Tourist Spots 60 - 90"
   ]
  },
  {
   "cell_type": "code",
   "execution_count": 32,
   "id": "973ce06b",
   "metadata": {},
   "outputs": [],
   "source": [
    "Mumbai_TA_60 = open('web_scrapped_data\\Mumbai_60.txt', 'r',encoding='utf-8').read()\n",
    "soup = BeautifulSoup(Mumbai_TA_60,\"html.parser\")"
   ]
  },
  {
   "cell_type": "code",
   "execution_count": 33,
   "id": "7aec24f7",
   "metadata": {},
   "outputs": [],
   "source": [
    "Location60 = soup.find_all(\"div\",\"XfVdV o AIbhI\")"
   ]
  },
  {
   "cell_type": "code",
   "execution_count": 34,
   "id": "adac98a8",
   "metadata": {},
   "outputs": [],
   "source": [
    "def cleanhtml(raw_html):\n",
    "    cleanr = re.compile('<.*?>')\n",
    "    cleantext = re.sub(cleanr, '', raw_html)\n",
    "    tourist_spot60.append(cleantext)"
   ]
  },
  {
   "cell_type": "code",
   "execution_count": 35,
   "id": "9e22301c",
   "metadata": {},
   "outputs": [],
   "source": [
    "tourist_spot60 = []\n",
    "for x in Location60:\n",
    "    cleanhtml(str(x))"
   ]
  },
  {
   "cell_type": "code",
   "execution_count": 36,
   "id": "d0691350",
   "metadata": {},
   "outputs": [],
   "source": [
    "tourist_spot61 = []\n",
    "for s in tourist_spot60:\n",
    "    s62 = str(s)\n",
    "    s63 = s62.split('. ')\n",
    "    tourist_spot61.append(s63[1])"
   ]
  },
  {
   "cell_type": "code",
   "execution_count": 37,
   "id": "f16fbb36",
   "metadata": {},
   "outputs": [],
   "source": [
    "correction1 = tourist_spot60[25][4:24]"
   ]
  },
  {
   "cell_type": "code",
   "execution_count": 38,
   "id": "ce3f61ad",
   "metadata": {},
   "outputs": [],
   "source": [
    "tourist_spot61[25] = correction1"
   ]
  },
  {
   "cell_type": "markdown",
   "id": "30b3c0ab",
   "metadata": {},
   "source": [
    "# Tourist Spots 90 - 120"
   ]
  },
  {
   "cell_type": "code",
   "execution_count": 39,
   "id": "67eaf462",
   "metadata": {},
   "outputs": [],
   "source": [
    "Mumbai_TA_90 = open('web_scrapped_data\\Mumbai_90.txt', 'r',encoding='utf-8').read()\n",
    "soup = BeautifulSoup(Mumbai_TA_90,\"html.parser\")"
   ]
  },
  {
   "cell_type": "code",
   "execution_count": 40,
   "id": "b4d954ee",
   "metadata": {},
   "outputs": [],
   "source": [
    "Location90 = soup.find_all(\"div\",\"XfVdV o AIbhI\")"
   ]
  },
  {
   "cell_type": "code",
   "execution_count": 41,
   "id": "664447eb",
   "metadata": {},
   "outputs": [],
   "source": [
    "def cleanhtml(raw_html):\n",
    "    cleanr = re.compile('<.*?>')\n",
    "    cleantext = re.sub(cleanr, '', raw_html)\n",
    "    tourist_spot90.append(cleantext)"
   ]
  },
  {
   "cell_type": "code",
   "execution_count": 42,
   "id": "16d7a699",
   "metadata": {},
   "outputs": [],
   "source": [
    "tourist_spot90 = []\n",
    "for x in Location90:\n",
    "    cleanhtml(str(x))"
   ]
  },
  {
   "cell_type": "code",
   "execution_count": 43,
   "id": "c2ca989c",
   "metadata": {},
   "outputs": [],
   "source": [
    "tourist_spot91 = []\n",
    "for s in tourist_spot90:\n",
    "    s92 = str(s)\n",
    "    s93 = s92.split('. ')\n",
    "    tourist_spot91.append(s93[1])"
   ]
  },
  {
   "cell_type": "markdown",
   "id": "ba6f8f2b",
   "metadata": {},
   "source": [
    "# Combining all tourist spots into one list"
   ]
  },
  {
   "cell_type": "code",
   "execution_count": 44,
   "id": "251e4481",
   "metadata": {},
   "outputs": [],
   "source": [
    "final_tourist_spot = tourist_spot1\n",
    "final_tourist_spot.extend(tourist_spot31)\n",
    "final_tourist_spot.extend(tourist_spot61)\n",
    "final_tourist_spot.extend(tourist_spot91)"
   ]
  },
  {
   "cell_type": "markdown",
   "id": "f8d188df",
   "metadata": {},
   "source": [
    "# Attraction Ratings 0 - 30"
   ]
  },
  {
   "cell_type": "code",
   "execution_count": 45,
   "id": "84b31ad3",
   "metadata": {},
   "outputs": [],
   "source": [
    "Mumbai_AR_0 = open('web_scrapped_data\\Mumbai_0.txt', 'r',encoding='utf-8').read()\n",
    "soup = BeautifulSoup(Mumbai_AR_0,\"html.parser\")"
   ]
  },
  {
   "cell_type": "code",
   "execution_count": 46,
   "id": "ae2f17e6",
   "metadata": {},
   "outputs": [],
   "source": [
    "Rating = soup.find_all(\"svg\",\"UctUV d H0 hzzSG\")\n",
    "Rating1 = str(Rating)\n",
    "Rating2 = Rating1.replace('[','')\n",
    "Rating3 = Rating2.split(', ')"
   ]
  },
  {
   "cell_type": "code",
   "execution_count": 47,
   "id": "38f1140d",
   "metadata": {},
   "outputs": [],
   "source": [
    "bubble1 = []\n",
    "for c in Rating3:\n",
    "    c1 = str(c)\n",
    "    c2 = c1[17:20]\n",
    "    bubble1.append(c2)"
   ]
  },
  {
   "cell_type": "code",
   "execution_count": 48,
   "id": "25cf36fa",
   "metadata": {},
   "outputs": [],
   "source": [
    "bubble2 = bubble1[3:]"
   ]
  },
  {
   "cell_type": "code",
   "execution_count": 49,
   "id": "106bccbf",
   "metadata": {},
   "outputs": [
    {
     "data": {
      "text/plain": [
       "['4.0',\n",
       " '4.5',\n",
       " '4.5',\n",
       " '4.5',\n",
       " '4.5',\n",
       " '4.5',\n",
       " '4.5',\n",
       " '4.5',\n",
       " '4.0',\n",
       " '4.5',\n",
       " '4.5',\n",
       " '4.0',\n",
       " '4.5',\n",
       " '4.5',\n",
       " '4.5',\n",
       " '4.5',\n",
       " '4.0',\n",
       " '3.5',\n",
       " '4.0',\n",
       " '4.0',\n",
       " '4.0',\n",
       " '4.5',\n",
       " '4.0',\n",
       " '4.5',\n",
       " '4.5',\n",
       " '4.5',\n",
       " '4.0',\n",
       " '4.5',\n",
       " '4.0',\n",
       " '4.5']"
      ]
     },
     "execution_count": 49,
     "metadata": {},
     "output_type": "execute_result"
    }
   ],
   "source": [
    "bubble2"
   ]
  },
  {
   "cell_type": "markdown",
   "id": "cbe91f90",
   "metadata": {},
   "source": [
    "# Attraction Rating 30 - 60"
   ]
  },
  {
   "cell_type": "code",
   "execution_count": 50,
   "id": "cc459c89",
   "metadata": {},
   "outputs": [],
   "source": [
    "Mumbai_AR_30 = open('web_scrapped_data\\Mumbai_30.txt', 'r',encoding='utf-8').read()\n",
    "soup = BeautifulSoup(Mumbai_AR_30,\"html.parser\")"
   ]
  },
  {
   "cell_type": "code",
   "execution_count": 51,
   "id": "c653faf8",
   "metadata": {},
   "outputs": [],
   "source": [
    "Rating30 = soup.find_all(\"svg\",\"UctUV d H0 hzzSG\")\n",
    "Rating31 = str(Rating30)\n",
    "Rating32 = Rating31.replace('[','')\n",
    "Rating33 = Rating32.split(', ')"
   ]
  },
  {
   "cell_type": "code",
   "execution_count": 52,
   "id": "9ee41401",
   "metadata": {},
   "outputs": [],
   "source": [
    "bubble31 = []\n",
    "for c in Rating33:\n",
    "    c1 = str(c)\n",
    "    c2 = c1[17:20]\n",
    "    bubble31.append(c2)"
   ]
  },
  {
   "cell_type": "code",
   "execution_count": 53,
   "id": "6cd17193",
   "metadata": {},
   "outputs": [],
   "source": [
    "bubble32 = bubble31[3:]"
   ]
  },
  {
   "cell_type": "markdown",
   "id": "bd008afa",
   "metadata": {},
   "source": [
    "# Attraction Rating 60 - 90"
   ]
  },
  {
   "cell_type": "code",
   "execution_count": 54,
   "id": "e0a012fd",
   "metadata": {},
   "outputs": [],
   "source": [
    "Mumbai_AR_60 = open('web_scrapped_data\\Mumbai_60.txt', 'r',encoding='utf-8').read()\n",
    "soup = BeautifulSoup(Mumbai_AR_60,\"html.parser\")"
   ]
  },
  {
   "cell_type": "code",
   "execution_count": 55,
   "id": "5e710b55",
   "metadata": {},
   "outputs": [],
   "source": [
    "Rating60 = soup.find_all(\"svg\",\"UctUV d H0 hzzSG\")\n",
    "Rating61 = str(Rating60)\n",
    "Rating62 = Rating61.replace('[','')\n",
    "Rating63 = Rating62.split(', ')"
   ]
  },
  {
   "cell_type": "code",
   "execution_count": 56,
   "id": "f5ea7acd",
   "metadata": {},
   "outputs": [],
   "source": [
    "bubble61 = []\n",
    "for c in Rating63:\n",
    "    c1 = str(c)\n",
    "    c2 = c1[17:20]\n",
    "    bubble61.append(c2)"
   ]
  },
  {
   "cell_type": "code",
   "execution_count": 57,
   "id": "75785eb6",
   "metadata": {},
   "outputs": [],
   "source": [
    "bubble62 = bubble61[3:]"
   ]
  },
  {
   "cell_type": "markdown",
   "id": "2250e8e4",
   "metadata": {},
   "source": [
    "# Attraction Rating 90 - 120"
   ]
  },
  {
   "cell_type": "code",
   "execution_count": 58,
   "id": "5959b28c",
   "metadata": {},
   "outputs": [],
   "source": [
    "Mumbai_AR_90 = open('web_scrapped_data\\Mumbai_90.txt', 'r',encoding='utf-8').read()\n",
    "soup = BeautifulSoup(Mumbai_AR_90,\"html.parser\")"
   ]
  },
  {
   "cell_type": "code",
   "execution_count": 59,
   "id": "e7a675b5",
   "metadata": {},
   "outputs": [],
   "source": [
    "Rating90 = soup.find_all(\"svg\",\"UctUV d H0 hzzSG\")\n",
    "Rating91 = str(Rating90)\n",
    "Rating92 = Rating91.replace('[','')\n",
    "Rating93 = Rating92.split(', ')"
   ]
  },
  {
   "cell_type": "code",
   "execution_count": 60,
   "id": "fc39b8e0",
   "metadata": {},
   "outputs": [],
   "source": [
    "bubble91 = []\n",
    "for c in Rating93:\n",
    "    c91 = str(c)\n",
    "    c92 = c91[17:20]\n",
    "    bubble91.append(c92)"
   ]
  },
  {
   "cell_type": "code",
   "execution_count": 61,
   "id": "f2afa49f",
   "metadata": {},
   "outputs": [],
   "source": [
    "bubble92 = bubble91[3:]"
   ]
  },
  {
   "cell_type": "markdown",
   "id": "81f54bd9",
   "metadata": {},
   "source": [
    "# Combining all attraction ratings into a list"
   ]
  },
  {
   "cell_type": "code",
   "execution_count": 62,
   "id": "b87d5c1b",
   "metadata": {
    "scrolled": false
   },
   "outputs": [],
   "source": [
    "final_attraction_rating = bubble2\n",
    "final_attraction_rating.extend(bubble32)\n",
    "final_attraction_rating.extend(bubble62)\n",
    "final_attraction_rating.extend(bubble92)"
   ]
  },
  {
   "cell_type": "markdown",
   "id": "161d826b",
   "metadata": {},
   "source": [
    "# Categories 1 - 30"
   ]
  },
  {
   "cell_type": "code",
   "execution_count": 63,
   "id": "bc714a8a",
   "metadata": {},
   "outputs": [],
   "source": [
    "Mumbai_CT_0 = open('web_scrapped_data\\Mumbai_0.txt', 'r',encoding='utf-8').read()\n",
    "soup = BeautifulSoup(Mumbai_CT_0,\"html.parser\")\n",
    "categories_main_string_div = soup.find_all(\"div\",\"BKifx\")\n",
    "categories_sub_string_div = soup.find_all(\"div\",\"bRMrl _Y v K\")"
   ]
  },
  {
   "cell_type": "code",
   "execution_count": 64,
   "id": "9d4b7d10",
   "metadata": {
    "scrolled": true
   },
   "outputs": [],
   "source": [
    "def cleanhtmlmain(raw_html):\n",
    "    cleanr = re.compile('<.*?>')\n",
    "    cleantext = re.sub(cleanr, '', raw_html)\n",
    "    categories_main_list.append(cleantext)\n",
    "def cleanhtmlsub(raw_html):\n",
    "    cleanr = re.compile('<.*?>')\n",
    "    cleantext = re.sub(cleanr, '', raw_html)\n",
    "    categories_sub_list.append(cleantext)\n",
    "categories_main_list = []\n",
    "categories_sub_list = []\n",
    "for x in categories_main_string_div:\n",
    "    cleanhtmlmain(str(x))\n",
    "for x in categories_sub_string_div:\n",
    "    cleanhtmlsub(str(x))"
   ]
  },
  {
   "cell_type": "code",
   "execution_count": 65,
   "id": "4edd07e3",
   "metadata": {},
   "outputs": [],
   "source": [
    "# Removing Locations from the\n",
    "Categories_Split = []\n",
    "Area_Final_0 = []\n",
    "Main_String = categories_main_list\n",
    "Sub_String = categories_sub_list\n",
    "Main_String_Length = len(Main_String)\n",
    "Sub_String_Length = len(Sub_String)\n",
    "Sub_String.append(\"^\")\n",
    "y = 0\n",
    "# print(Main_String_Length)\n",
    "# print(Sub_String_Length)\n",
    "for x in range(Main_String_Length):\n",
    "    Main_String_Conversion = str(Main_String[x])\n",
    "    Sub_String_Conversion = str(Sub_String[y])\n",
    "    Sub_String_Replacement = \"\"\n",
    "    if Sub_String_Conversion in Main_String_Conversion:\n",
    "        if \"•Open now\" in Sub_String_Conversion:\n",
    "            Sub_String_Replacement = Sub_String_Conversion.replace(\"•Open now\",\"\")\n",
    "#             print(Sub_String_Replacement)\n",
    "            Area_Final_0.append(Sub_String_Replacement)\n",
    "        else:\n",
    "#             print(Sub_String_Replacement)\n",
    "            Area_Final_0.append(Sub_String_Conversion)\n",
    "        Main_String_Replacement = Main_String_Conversion.replace(Sub_String_Conversion,\"\")\n",
    "        y = y + 1\n",
    "#         print(Main_String_Replacement)\n",
    "        Categories_Split.append(Main_String_Replacement)\n",
    "    else:\n",
    "#         print(Main_String_Conversion)\n",
    "        Categories_Split.append(Main_String_Conversion)\n",
    "        Area_Final_0.append(\"\")"
   ]
  },
  {
   "cell_type": "code",
   "execution_count": 66,
   "id": "125a3fb7",
   "metadata": {},
   "outputs": [],
   "source": [
    "# Spliting and combining the End Result\n",
    "Categories_Final_0 = []\n",
    "for x in Categories_Split:\n",
    "    Categories_to_String = str(x)\n",
    "    Replaced1 = Categories_to_String.replace(\"amp;\",\"\")\n",
    "    Categories_to_String_Replacement = Replaced1\n",
    "    if \"•\" in Categories_to_String_Replacement:\n",
    "        Categories_to_String_Split = Categories_to_String_Replacement.split(\" • \")\n",
    "        Categories_Final_0.append(Categories_to_String_Split)\n",
    "    else:\n",
    "        Categories_Final_0.append(Categories_to_String_Replacement)\n",
    "#     Replaced2 = Replaced1.replace(\"• \",\"\")\n",
    "#     Categories_to_String_Replacement = Replaced2"
   ]
  },
  {
   "cell_type": "code",
   "execution_count": 67,
   "id": "c1f06190",
   "metadata": {},
   "outputs": [
    {
     "data": {
      "text/plain": [
       "[['Points of Interest & Landmarks', 'Monuments & Statues'],\n",
       " ['Points of Interest & Landmarks', 'Scenic Drives'],\n",
       " 'Bridges',\n",
       " 'Religious Sites',\n",
       " ['Historic Sites', 'Architectural Buildings'],\n",
       " 'Amusement & Theme Parks',\n",
       " 'Neighbourhoods',\n",
       " 'Neighbourhoods',\n",
       " 'Points of Interest & Landmarks',\n",
       " 'History Museums',\n",
       " 'Monuments & Statues',\n",
       " 'Amusement & Theme Parks',\n",
       " ['Architectural Buildings', 'Religious Sites'],\n",
       " ['Points of Interest & Landmarks', 'Caverns & Caves'],\n",
       " 'Religious Sites',\n",
       " 'Religious Sites',\n",
       " 'National Parks',\n",
       " 'Beaches',\n",
       " 'Points of Interest & Landmarks',\n",
       " 'Points of Interest & Landmarks',\n",
       " ['Points of Interest & Landmarks', 'Religious Sites'],\n",
       " 'History Museums',\n",
       " 'Speciality Museums',\n",
       " 'Religious Sites',\n",
       " 'Shopping Malls',\n",
       " 'Shopping Malls',\n",
       " 'Water Parks',\n",
       " 'Arenas & Stadiums',\n",
       " 'Shopping Malls',\n",
       " 'Points of Interest & Landmarks']"
      ]
     },
     "execution_count": 67,
     "metadata": {},
     "output_type": "execute_result"
    }
   ],
   "source": [
    "Categories_Final_0"
   ]
  },
  {
   "cell_type": "markdown",
   "id": "3430ce98",
   "metadata": {},
   "source": [
    "# Categories 30 - 60"
   ]
  },
  {
   "cell_type": "code",
   "execution_count": 68,
   "id": "28797b70",
   "metadata": {},
   "outputs": [],
   "source": [
    "Mumbai_CT_30 = open('web_scrapped_data\\Mumbai_30.txt', 'r',encoding='utf-8').read()\n",
    "soup = BeautifulSoup(Mumbai_CT_30,\"html.parser\")\n",
    "categories_main_string_div = soup.find_all(\"div\",\"BKifx\")\n",
    "categories_sub_string_div = soup.find_all(\"div\",\"bRMrl _Y v K\")"
   ]
  },
  {
   "cell_type": "code",
   "execution_count": 69,
   "id": "e3c7f53c",
   "metadata": {
    "scrolled": true
   },
   "outputs": [],
   "source": [
    "def cleanhtmlmain(raw_html):\n",
    "    cleanr = re.compile('<.*?>')\n",
    "    cleantext = re.sub(cleanr, '', raw_html)\n",
    "    categories_main_list.append(cleantext)\n",
    "def cleanhtmlsub(raw_html):\n",
    "    cleanr = re.compile('<.*?>')\n",
    "    cleantext = re.sub(cleanr, '', raw_html)\n",
    "    categories_sub_list.append(cleantext)\n",
    "categories_main_list = []\n",
    "categories_sub_list = []\n",
    "for x in categories_main_string_div:\n",
    "    cleanhtmlmain(str(x))\n",
    "for x in categories_sub_string_div:\n",
    "    cleanhtmlsub(str(x))"
   ]
  },
  {
   "cell_type": "code",
   "execution_count": 70,
   "id": "9514a11d",
   "metadata": {},
   "outputs": [],
   "source": [
    "# Removing Locations from the\n",
    "Categories_Split = []\n",
    "Area_Final_30 = []\n",
    "Main_String = categories_main_list\n",
    "Sub_String = categories_sub_list\n",
    "Main_String_Length = len(Main_String)\n",
    "Sub_String_Length = len(Sub_String)\n",
    "Sub_String.append(\"^\")\n",
    "y = 0\n",
    "# print(Main_String_Length)\n",
    "# print(Sub_String_Length)\n",
    "for x in range(Main_String_Length):\n",
    "    Main_String_Conversion = str(Main_String[x])\n",
    "    Sub_String_Conversion = str(Sub_String[y])\n",
    "    Sub_String_Replacement = \"\"\n",
    "    if Sub_String_Conversion in Main_String_Conversion:\n",
    "        if \"•Open now\" in Sub_String_Conversion:\n",
    "            Sub_String_Replacement = Sub_String_Conversion.replace(\"•Open now\",\"\")\n",
    "#             print(Sub_String_Replacement)\n",
    "            Area_Final_30.append(Sub_String_Replacement)\n",
    "        else:\n",
    "#             print(Sub_String_Replacement)\n",
    "            Area_Final_30.append(Sub_String_Conversion)\n",
    "        Main_String_Replacement = Main_String_Conversion.replace(Sub_String_Conversion,\"\")\n",
    "        y = y + 1\n",
    "#         print(Main_String_Replacement)\n",
    "        Categories_Split.append(Main_String_Replacement)\n",
    "    else:\n",
    "#         print(Main_String_Conversion)\n",
    "        Categories_Split.append(Main_String_Conversion)\n",
    "        Area_Final_30.append(\"\")"
   ]
  },
  {
   "cell_type": "code",
   "execution_count": 71,
   "id": "5fb135c6",
   "metadata": {},
   "outputs": [],
   "source": [
    "# Spliting and combining the End Result\n",
    "Categories_Final_30 = []\n",
    "for x in Categories_Split:\n",
    "    Categories_to_String = str(x)\n",
    "    Replaced1 = Categories_to_String.replace(\"amp;\",\"\")\n",
    "    Categories_to_String_Replacement = Replaced1\n",
    "    if \"•\" in Categories_to_String_Replacement:\n",
    "        Categories_to_String_Split = Categories_to_String_Replacement.split(\" • \")\n",
    "        Categories_Final_30.append(Categories_to_String_Split)\n",
    "    else:\n",
    "        Categories_Final_30.append(Categories_to_String_Replacement)\n",
    "#     Replaced2 = Replaced1.replace(\"• \",\"\")\n",
    "#     Categories_to_String_Replacement = Replaced2"
   ]
  },
  {
   "cell_type": "markdown",
   "id": "614d38e5",
   "metadata": {},
   "source": [
    "# Categories 60 - 90"
   ]
  },
  {
   "cell_type": "code",
   "execution_count": 72,
   "id": "08aebfc4",
   "metadata": {},
   "outputs": [],
   "source": [
    "Mumbai_CT_60 = open('web_scrapped_data\\Mumbai_60.txt', 'r',encoding='utf-8').read()\n",
    "soup = BeautifulSoup(Mumbai_CT_60,\"html.parser\")\n",
    "categories_main_string_div = soup.find_all(\"div\",\"BKifx\")\n",
    "categories_sub_string_div = soup.find_all(\"div\",\"bRMrl _Y v K\")"
   ]
  },
  {
   "cell_type": "code",
   "execution_count": 73,
   "id": "bc96097c",
   "metadata": {
    "scrolled": true
   },
   "outputs": [],
   "source": [
    "def cleanhtmlmain(raw_html):\n",
    "    cleanr = re.compile('<.*?>')\n",
    "    cleantext = re.sub(cleanr, '', raw_html)\n",
    "    categories_main_list.append(cleantext)\n",
    "def cleanhtmlsub(raw_html):\n",
    "    cleanr = re.compile('<.*?>')\n",
    "    cleantext = re.sub(cleanr, '', raw_html)\n",
    "    categories_sub_list.append(cleantext)\n",
    "categories_main_list = []\n",
    "categories_sub_list = []\n",
    "for x in categories_main_string_div:\n",
    "    cleanhtmlmain(str(x))\n",
    "for x in categories_sub_string_div:\n",
    "    cleanhtmlsub(str(x))"
   ]
  },
  {
   "cell_type": "code",
   "execution_count": 74,
   "id": "1e9a18c2",
   "metadata": {},
   "outputs": [],
   "source": [
    "# Removing Locations from the\n",
    "Categories_Split = []\n",
    "Area_Final_60 = []\n",
    "Main_String = categories_main_list\n",
    "Sub_String = categories_sub_list\n",
    "Main_String_Length = len(Main_String)\n",
    "Sub_String_Length = len(Sub_String)\n",
    "Sub_String.append(\"^\")\n",
    "y = 0\n",
    "# print(Main_String_Length)\n",
    "# print(Sub_String_Length)\n",
    "for x in range(Main_String_Length):\n",
    "    Main_String_Conversion = str(Main_String[x])\n",
    "    Sub_String_Conversion = str(Sub_String[y])\n",
    "    Sub_String_Replacement = \"\"\n",
    "    if Sub_String_Conversion in Main_String_Conversion:\n",
    "        if \"•Open now\" in Sub_String_Conversion:\n",
    "            Sub_String_Replacement = Sub_String_Conversion.replace(\"•Open now\",\"\")\n",
    "#             print(Sub_String_Replacement)\n",
    "            Area_Final_60.append(Sub_String_Replacement)\n",
    "        else:\n",
    "#             print(Sub_String_Replacement)\n",
    "            Area_Final_60.append(Sub_String_Conversion)\n",
    "        Main_String_Replacement = Main_String_Conversion.replace(Sub_String_Conversion,\"\")\n",
    "        y = y + 1\n",
    "#         print(Main_String_Replacement)\n",
    "#         print(y)\n",
    "        Categories_Split.append(Main_String_Replacement)\n",
    "    else:\n",
    "#         print(Main_String_Conversion)\n",
    "        Categories_Split.append(Main_String_Conversion)\n",
    "        Area_Final_60.append(\"\")"
   ]
  },
  {
   "cell_type": "code",
   "execution_count": 75,
   "id": "05231228",
   "metadata": {},
   "outputs": [],
   "source": [
    "# Spliting and combining the End Result\n",
    "Categories_Final_60 = []\n",
    "for x in Categories_Split:\n",
    "    Categories_to_String = str(x)\n",
    "    Replaced1 = Categories_to_String.replace(\"amp;\",\"\")\n",
    "    Categories_to_String_Replacement = Replaced1\n",
    "    if \"•\" in Categories_to_String_Replacement:\n",
    "        Categories_to_String_Split = Categories_to_String_Replacement.split(\" • \")\n",
    "        Categories_Final_60.append(Categories_to_String_Split)\n",
    "    else:\n",
    "        Categories_Final_60.append(Categories_to_String_Replacement)\n",
    "#     Replaced2 = Replaced1.replace(\"• \",\"\")\n",
    "#     Categories_to_String_Replacement = Replaced2"
   ]
  },
  {
   "cell_type": "markdown",
   "id": "881724bf",
   "metadata": {},
   "source": [
    "# Categories 90 - 120"
   ]
  },
  {
   "cell_type": "code",
   "execution_count": 76,
   "id": "742180f6",
   "metadata": {},
   "outputs": [],
   "source": [
    "Mumbai_CT_90 = open('web_scrapped_data\\Mumbai_90.txt', 'r',encoding='utf-8').read()\n",
    "soup = BeautifulSoup(Mumbai_CT_90,\"html.parser\")\n",
    "categories_main_string_div = soup.find_all(\"div\",\"BKifx\")\n",
    "categories_sub_string_div = soup.find_all(\"div\",\"bRMrl _Y v K\")"
   ]
  },
  {
   "cell_type": "code",
   "execution_count": 77,
   "id": "6a49b6eb",
   "metadata": {
    "scrolled": true
   },
   "outputs": [],
   "source": [
    "def cleanhtmlmain(raw_html):\n",
    "    cleanr = re.compile('<.*?>')\n",
    "    cleantext = re.sub(cleanr, '', raw_html)\n",
    "    categories_main_list.append(cleantext)\n",
    "def cleanhtmlsub(raw_html):\n",
    "    cleanr = re.compile('<.*?>')\n",
    "    cleantext = re.sub(cleanr, '', raw_html)\n",
    "    categories_sub_list.append(cleantext)\n",
    "categories_main_list = []\n",
    "categories_sub_list = []\n",
    "for x in categories_main_string_div:\n",
    "    cleanhtmlmain(str(x))\n",
    "for x in categories_sub_string_div:\n",
    "    cleanhtmlsub(str(x))"
   ]
  },
  {
   "cell_type": "code",
   "execution_count": 78,
   "id": "4faf12b2",
   "metadata": {},
   "outputs": [],
   "source": [
    "# Removing Locations from the\n",
    "Categories_Split = []\n",
    "Area_Final_90 = []\n",
    "Main_String = categories_main_list\n",
    "Sub_String = categories_sub_list\n",
    "Main_String_Length = len(Main_String)\n",
    "Sub_String_Length = len(Sub_String)\n",
    "Sub_String.append(\"^\")\n",
    "y = 0\n",
    "# print(Main_String_Length)\n",
    "# print(Sub_String_Length)\n",
    "for x in range(Main_String_Length):\n",
    "    Main_String_Conversion = str(Main_String[x])\n",
    "    Sub_String_Conversion = str(Sub_String[y])\n",
    "    Sub_String_Replacement = \"\"\n",
    "    if Sub_String_Conversion in Main_String_Conversion:\n",
    "        if \"•Open now\" in Sub_String_Conversion:\n",
    "            Sub_String_Replacement = Sub_String_Conversion.replace(\"•Open now\",\"\")\n",
    "#             print(Sub_String_Replacement)\n",
    "            Area_Final_90.append(Sub_String_Replacement)\n",
    "        else:\n",
    "#             print(Sub_String_Replacement)\n",
    "            Area_Final_90.append(Sub_String_Conversion)\n",
    "        Main_String_Replacement = Main_String_Conversion.replace(Sub_String_Conversion,\"\")\n",
    "        y = y + 1\n",
    "#         print(Main_String_Replacement)\n",
    "        Categories_Split.append(Main_String_Replacement)\n",
    "    else:\n",
    "#         print(Main_String_Conversion)\n",
    "        Categories_Split.append(Main_String_Conversion)\n",
    "        Area_Final_90.append(\"\")"
   ]
  },
  {
   "cell_type": "code",
   "execution_count": 79,
   "id": "363a5200",
   "metadata": {},
   "outputs": [],
   "source": [
    "# Spliting and combining the End Result\n",
    "Categories_Final_90 = []\n",
    "for x in Categories_Split:\n",
    "    Categories_to_String = str(x)\n",
    "    Replaced1 = Categories_to_String.replace(\"amp;\",\"\")\n",
    "    Categories_to_String_Replacement = Replaced1\n",
    "    if \"•\" in Categories_to_String_Replacement:\n",
    "        Categories_to_String_Split = Categories_to_String_Replacement.split(\" • \")\n",
    "        Categories_Final_90.append(Categories_to_String_Split)\n",
    "    else:\n",
    "        Categories_Final_90.append(Categories_to_String_Replacement)\n",
    "#     Replaced2 = Replaced1.replace(\"• \",\"\")\n",
    "#     Categories_to_String_Replacement = Replaced2"
   ]
  },
  {
   "cell_type": "markdown",
   "id": "8d729356",
   "metadata": {},
   "source": [
    "# Combining all categories ratings into a list"
   ]
  },
  {
   "cell_type": "code",
   "execution_count": 80,
   "id": "7a0f7ff7",
   "metadata": {
    "scrolled": true
   },
   "outputs": [],
   "source": [
    "final_categories = Categories_Final_0\n",
    "final_categories.extend(Categories_Final_30)\n",
    "final_categories.extend(Categories_Final_60)\n",
    "final_categories.extend(Categories_Final_90)"
   ]
  },
  {
   "cell_type": "markdown",
   "id": "048c26d7",
   "metadata": {},
   "source": [
    "# Combining all areas into a list"
   ]
  },
  {
   "cell_type": "code",
   "execution_count": 81,
   "id": "40dff49b",
   "metadata": {
    "scrolled": true
   },
   "outputs": [],
   "source": [
    "final_areas = Area_Final_0\n",
    "final_areas.extend(Area_Final_30)\n",
    "final_areas.extend(Area_Final_60)\n",
    "final_areas.extend(Area_Final_90)"
   ]
  },
  {
   "cell_type": "markdown",
   "id": "433cb6ae",
   "metadata": {},
   "source": [
    "# Making lists for City"
   ]
  },
  {
   "cell_type": "code",
   "execution_count": 82,
   "id": "b3659ee8",
   "metadata": {},
   "outputs": [],
   "source": [
    "final_city = []\n",
    "for x in range(120):\n",
    "    final_city.append(\"Mumbai\")"
   ]
  },
  {
   "cell_type": "markdown",
   "id": "26ee1bb1",
   "metadata": {},
   "source": [
    "# Converting the extracted data to a CSV file"
   ]
  },
  {
   "cell_type": "code",
   "execution_count": 83,
   "id": "099d9490",
   "metadata": {},
   "outputs": [],
   "source": [
    "import csv\n",
    "from itertools import zip_longest\n",
    "tourist_rating_and_categories_spot_name = [final_tourist_spot,final_areas,final_city,final_attraction_rating,final_categories]\n",
    "tourist_rating_and_categories_spot_name_zip = zip_longest(*tourist_rating_and_categories_spot_name, fillvalue = '')\n",
    "with open('csv\\mumbai.csv', 'w', encoding=\"ISO-8859-1\", newline='') as myfile:\n",
    "      wr = csv.writer(myfile)\n",
    "      wr.writerow((\"Tourist_spot\",\"Area\",\"City\",\"Rating\",\"Categories\"))\n",
    "      wr.writerows(tourist_rating_and_categories_spot_name_zip)\n",
    "myfile.close()"
   ]
  },
  {
   "cell_type": "markdown",
   "id": "baea19e7",
   "metadata": {},
   "source": [
    "# Getting Co-ordinates and making a map"
   ]
  },
  {
   "cell_type": "code",
   "execution_count": 84,
   "id": "721e5d5d",
   "metadata": {},
   "outputs": [],
   "source": [
    "nom=ArcGIS()\n",
    "mumbai_CSV_list_pandas = pd.read_csv('csv\\mumbai.csv')\n",
    "mumbai_CSV_list_pandas['Address']=mumbai_CSV_list_pandas['Tourist_spot']+','+mumbai_CSV_list_pandas['City']\n",
    "mumbai_CSV_list_pandas['coordinates'] = mumbai_CSV_list_pandas['Address'].apply(nom.geocode)\n",
    "mumbai_CSV_list_pandas['latitude'] = mumbai_CSV_list_pandas['coordinates'].apply(lambda x:x.latitude)\n",
    "mumbai_CSV_list_pandas['longitude'] = mumbai_CSV_list_pandas['coordinates'].apply(lambda x:x.longitude)\n",
    "mumbai_CSV_list_pandas.drop(['Address','coordinates'], axis=1)\n",
    "map_new=folium.Map()\n",
    "list_coor=mumbai_CSV_list_pandas[['Tourist_spot','latitude','longitude']].values.tolist()\n",
    "for i in list_coor:\n",
    "    map_new.add_child(folium.Marker(location=[i[1],i[2]],\n",
    "                                    popup=i[0],icon=folium.Icon(color='green')))\n",
    "map_new.save('Tourist_spot_Mumbai.html')\n",
    "mumbai_CSV_list_pandas.to_csv('csv\\mumbai.csv')"
   ]
  }
 ],
 "metadata": {
  "kernelspec": {
   "display_name": "Python 3 (ipykernel)",
   "language": "python",
   "name": "python3"
  },
  "language_info": {
   "codemirror_mode": {
    "name": "ipython",
    "version": 3
   },
   "file_extension": ".py",
   "mimetype": "text/x-python",
   "name": "python",
   "nbconvert_exporter": "python",
   "pygments_lexer": "ipython3",
   "version": "3.9.13"
  }
 },
 "nbformat": 4,
 "nbformat_minor": 5
}
