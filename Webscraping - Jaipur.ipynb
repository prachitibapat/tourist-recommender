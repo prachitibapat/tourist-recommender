{
 "cells": [
  {
   "cell_type": "markdown",
   "id": "a95a8f4f",
   "metadata": {},
   "source": [
    "# **All the required packages**"
   ]
  },
  {
   "cell_type": "code",
   "execution_count": null,
   "id": "4c08c828",
   "metadata": {},
   "outputs": [],
   "source": [
    "pip install selenium"
   ]
  },
  {
   "cell_type": "code",
   "execution_count": null,
   "id": "c0bd4e1c",
   "metadata": {},
   "outputs": [],
   "source": [
    "pip install beautifulsoup4"
   ]
  },
  {
   "cell_type": "code",
   "execution_count": null,
   "id": "b744dcab",
   "metadata": {},
   "outputs": [],
   "source": [
    "pip install webdriver_manager"
   ]
  },
  {
   "cell_type": "code",
   "execution_count": null,
   "id": "8726a3e4",
   "metadata": {},
   "outputs": [],
   "source": [
    "pip install pandas"
   ]
  },
  {
   "cell_type": "code",
   "execution_count": null,
   "id": "69cd0b4b",
   "metadata": {},
   "outputs": [],
   "source": [
    "# Run all the above only if not done before"
   ]
  },
  {
   "cell_type": "code",
   "execution_count": null,
   "id": "72b30d22",
   "metadata": {},
   "outputs": [],
   "source": [
    "from selenium import webdriver\n",
    "from selenium.webdriver.chrome.service import Service\n",
    "from selenium.webdriver.common.by import By \n",
    "from selenium.webdriver.common.keys import Keys\n",
    "from selenium.webdriver.support.ui import WebDriverWait\n",
    "from selenium.webdriver.support import expected_conditions as EC\n",
    "import time\n",
    "from bs4 import BeautifulSoup\n",
    "import pandas as pd\n",
    "import re\n",
    "from selenium.webdriver.chrome.options import Options\n",
    "#This is supposed to be run every iteration"
   ]
  },
  {
   "cell_type": "markdown",
   "id": "9ff1cda2",
   "metadata": {},
   "source": [
    "# Tourist Attractions 0 - 30"
   ]
  },
  {
   "cell_type": "code",
   "execution_count": null,
   "id": "fb91fea3",
   "metadata": {},
   "outputs": [],
   "source": [
    "options = Options()\n",
    "options.headless = True\n",
    "options.add_argument(\"--window-size=1920,1200\")\n",
    "driver = webdriver.Chrome(options=options)\n",
    "driver.get(\"https://www.tripadvisor.in/Attractions-g304555-Activities-oa0-Jaipur_Jaipur_District_Rajasthan.html\")\n",
    "html_source = driver.page_source\n",
    "Jaipur_TA_0 = open(\"web_scrapped_data\\Jaipur_TA_0.txt\", \"w\",encoding='utf-8')\n",
    "Jaipur_TA_0.write(html_source)\n",
    "Jaipur_TA_0.close()\n",
    "# Run only if txt file does not exist"
   ]
  },
  {
   "cell_type": "code",
   "execution_count": null,
   "id": "122973f6",
   "metadata": {},
   "outputs": [],
   "source": [
    "Jaipur_TA_0 = open('web_scrapped_data\\Jaipur_TA_0.txt', 'r',encoding='utf-8').read()\n",
    "soup = BeautifulSoup(Jaipur_TA_0,\"html.parser\")"
   ]
  },
  {
   "cell_type": "code",
   "execution_count": null,
   "id": "abb649b9",
   "metadata": {},
   "outputs": [],
   "source": [
    "Location0 = soup.find_all(\"div\",\"XfVdV o AIbhI\")"
   ]
  },
  {
   "cell_type": "code",
   "execution_count": null,
   "id": "48bded32",
   "metadata": {},
   "outputs": [],
   "source": [
    "def cleanhtml(raw_html):\n",
    "    cleanr = re.compile('<.*?>')\n",
    "    cleantext = re.sub(cleanr, '', raw_html)\n",
    "    tourist_spot0.append(cleantext)"
   ]
  },
  {
   "cell_type": "code",
   "execution_count": null,
   "id": "cddf6e1e",
   "metadata": {},
   "outputs": [],
   "source": [
    "tourist_spot0 = []\n",
    "for x in Location0:\n",
    "    cleanhtml(str(x))"
   ]
  },
  {
   "cell_type": "code",
   "execution_count": null,
   "id": "b4eb04d2",
   "metadata": {},
   "outputs": [],
   "source": [
    "tourist_spot1 = []\n",
    "for s in tourist_spot0:\n",
    "    s2 = str(s)\n",
    "    s3 = s2.split('. ')\n",
    "    tourist_spot1.append(s3[1])"
   ]
  },
  {
   "cell_type": "markdown",
   "id": "b631373c",
   "metadata": {},
   "source": [
    "# Tourist Attractions 30 - 60"
   ]
  },
  {
   "cell_type": "code",
   "execution_count": null,
   "id": "5d88f5af",
   "metadata": {},
   "outputs": [],
   "source": [
    "options = Options()\n",
    "options.headless = True\n",
    "options.add_argument(\"--window-size=1920,1200\")\n",
    "driver = webdriver.Chrome(options=options)\n",
    "driver.get(\"https://www.tripadvisor.in/Attractions-g304555-Activities-oa30-Jaipur_Jaipur_District_Rajasthan.html\")\n",
    "html_source = driver.page_source\n",
    "Jaipur_TA_30 = open(\"web_scrapped_data\\Jaipur_TA_30.txt\", \"w\",encoding='utf-8')\n",
    "Jaipur_TA_30.write(html_source)\n",
    "Jaipur_TA_30.close()\n",
    "# Run only if txt file does not exist"
   ]
  },
  {
   "cell_type": "code",
   "execution_count": null,
   "id": "0105a463",
   "metadata": {},
   "outputs": [],
   "source": [
    "Jaipur_TA_30 = open('web_scrapped_data\\Jaipur_TA_30.txt', 'r',encoding='utf-8').read()\n",
    "soup = BeautifulSoup(Jaipur_TA_30,\"html.parser\")"
   ]
  },
  {
   "cell_type": "code",
   "execution_count": null,
   "id": "61363b32",
   "metadata": {},
   "outputs": [],
   "source": [
    "Location30 = soup.find_all(\"div\",\"XfVdV o AIbhI\")"
   ]
  },
  {
   "cell_type": "code",
   "execution_count": null,
   "id": "0f90e2d7",
   "metadata": {},
   "outputs": [],
   "source": [
    "def cleanhtml(raw_html):\n",
    "    cleanr = re.compile('<.*?>')\n",
    "    cleantext = re.sub(cleanr, '', raw_html)\n",
    "    tourist_spot30.append(cleantext)"
   ]
  },
  {
   "cell_type": "code",
   "execution_count": null,
   "id": "dde2af77",
   "metadata": {},
   "outputs": [],
   "source": [
    "tourist_spot30 = []\n",
    "for x in Location30:\n",
    "    cleanhtml(str(x))"
   ]
  },
  {
   "cell_type": "code",
   "execution_count": null,
   "id": "9ad8087b",
   "metadata": {},
   "outputs": [],
   "source": [
    "tourist_spot31 = []\n",
    "for s in tourist_spot30:\n",
    "    s2 = str(s)\n",
    "    s3 = s2.split('. ')\n",
    "    tourist_spot31.append(s3[1])"
   ]
  },
  {
   "cell_type": "markdown",
   "id": "e2b7d16b",
   "metadata": {},
   "source": [
    "# Tourist Spots 60 - 90"
   ]
  },
  {
   "cell_type": "code",
   "execution_count": null,
   "id": "42dd7acb",
   "metadata": {},
   "outputs": [],
   "source": [
    "options = Options()\n",
    "options.headless = True\n",
    "options.add_argument(\"--window-size=1920,1200\")\n",
    "driver = webdriver.Chrome(options=options)\n",
    "driver.get(\"https://www.tripadvisor.in/Attractions-g304555-Activities-oa60-Jaipur_Jaipur_District_Rajasthan.html\")\n",
    "html_source = driver.page_source\n",
    "Jaipur_TA_60 = open(\"web_scrapped_data\\Jaipur_TA_60.txt\", \"w\",encoding='utf-8')\n",
    "Jaipur_TA_60.write(html_source)\n",
    "Jaipur_TA_60.close()\n",
    "# Run only if txt file does not exist"
   ]
  },
  {
   "cell_type": "code",
   "execution_count": null,
   "id": "82173a76",
   "metadata": {},
   "outputs": [],
   "source": [
    "Jaipur_TA_60 = open('web_scrapped_data\\Jaipur_TA_60.txt', 'r',encoding='utf-8').read()\n",
    "soup = BeautifulSoup(Jaipur_TA_60,\"html.parser\")"
   ]
  },
  {
   "cell_type": "code",
   "execution_count": null,
   "id": "1afd5449",
   "metadata": {},
   "outputs": [],
   "source": [
    "Location60 = soup.find_all(\"div\",\"XfVdV o AIbhI\")"
   ]
  },
  {
   "cell_type": "code",
   "execution_count": null,
   "id": "daa6b189",
   "metadata": {},
   "outputs": [],
   "source": [
    "def cleanhtml(raw_html):\n",
    "    cleanr = re.compile('<.*?>')\n",
    "    cleantext = re.sub(cleanr, '', raw_html)\n",
    "    tourist_spot60.append(cleantext)"
   ]
  },
  {
   "cell_type": "code",
   "execution_count": null,
   "id": "63993d9c",
   "metadata": {},
   "outputs": [],
   "source": [
    "tourist_spot60 = []\n",
    "for x in Location60:\n",
    "    cleanhtml(str(x))"
   ]
  },
  {
   "cell_type": "code",
   "execution_count": null,
   "id": "666f2c13",
   "metadata": {},
   "outputs": [],
   "source": [
    "tourist_spot61 = []\n",
    "for s in tourist_spot60:\n",
    "    s2 = str(s)\n",
    "    s3 = s2.split('. ')\n",
    "    tourist_spot61.append(s3[1])"
   ]
  },
  {
   "cell_type": "markdown",
   "id": "30b3c0ab",
   "metadata": {},
   "source": [
    "# Tourist Spots 90 - 120"
   ]
  },
  {
   "cell_type": "code",
   "execution_count": null,
   "id": "151de096",
   "metadata": {},
   "outputs": [],
   "source": [
    "options = Options()\n",
    "options.headless = True\n",
    "options.add_argument(\"--window-size=1920,1200\")\n",
    "driver = webdriver.Chrome(options=options)\n",
    "driver.get(\"https://www.tripadvisor.in/Attractions-g304555-Activities-oa90-Jaipur_Jaipur_District_Rajasthan.html\")\n",
    "html_source = driver.page_source\n",
    "Jaipur_TA_90 = open(\"web_scrapped_data\\Jaipur_TA_90.txt\", \"w\",encoding='utf-8')\n",
    "Jaipur_TA_90.write(html_source)\n",
    "Jaipur_TA_90.close()\n",
    "# Run only if txt file does not exist"
   ]
  },
  {
   "cell_type": "code",
   "execution_count": null,
   "id": "9c06743b",
   "metadata": {},
   "outputs": [],
   "source": [
    "Jaipur_TA_90 = open('web_scrapped_data\\Jaipur_TA_90.txt', 'r',encoding='utf-8').read()\n",
    "soup = BeautifulSoup(Jaipur_TA_90,\"html.parser\")"
   ]
  },
  {
   "cell_type": "code",
   "execution_count": null,
   "id": "91b1737f",
   "metadata": {},
   "outputs": [],
   "source": [
    "Location90 = soup.find_all(\"div\",\"XfVdV o AIbhI\")"
   ]
  },
  {
   "cell_type": "code",
   "execution_count": null,
   "id": "7e450653",
   "metadata": {},
   "outputs": [],
   "source": [
    "def cleanhtml(raw_html):\n",
    "    cleanr = re.compile('<.*?>')\n",
    "    cleantext = re.sub(cleanr, '', raw_html)\n",
    "    tourist_spot90.append(cleantext)"
   ]
  },
  {
   "cell_type": "code",
   "execution_count": null,
   "id": "b973743e",
   "metadata": {},
   "outputs": [],
   "source": [
    "tourist_spot90 = []\n",
    "for x in Location90:\n",
    "    cleanhtml(str(x))"
   ]
  },
  {
   "cell_type": "code",
   "execution_count": null,
   "id": "c1411c02",
   "metadata": {},
   "outputs": [],
   "source": [
    "tourist_spot91 = []\n",
    "for s in tourist_spot60:\n",
    "    s2 = str(s)\n",
    "    s3 = s2.split('. ')\n",
    "    tourist_spot91.append(s3[1])"
   ]
  },
  {
   "cell_type": "markdown",
   "id": "ba6f8f2b",
   "metadata": {},
   "source": [
    "# Combining all tourist spots into one list"
   ]
  },
  {
   "cell_type": "code",
   "execution_count": null,
   "id": "251e4481",
   "metadata": {},
   "outputs": [],
   "source": [
    "final_tourist_spot = tourist_spot1\n",
    "final_tourist_spot.extend(tourist_spot31)\n",
    "final_tourist_spot.extend(tourist_spot61)\n",
    "final_tourist_spot.extend(tourist_spot91)"
   ]
  },
  {
   "cell_type": "markdown",
   "id": "f8d188df",
   "metadata": {},
   "source": [
    "# Attraction Ratings 0 - 30"
   ]
  },
  {
   "cell_type": "code",
   "execution_count": null,
   "id": "9ed30b5f",
   "metadata": {},
   "outputs": [],
   "source": [
    "options = Options()\n",
    "options.headless = True\n",
    "options.add_argument(\"--window-size=1920,1200\")\n",
    "driver = webdriver.Chrome(options=options)\n",
    "driver.get(\"https://www.tripadvisor.in/Attractions-g304555-Activities-oa0-Jaipur_Jaipur_District_Rajasthan.html\")\n",
    "html_source = driver.page_source\n",
    "Jaipur_AR_0 = open(\"web_scrapped_data\\Jaipur_TA_0.txt\", \"w\",encoding='utf-8')\n",
    "Jaipur_AR_0.write(html_source)\n",
    "Jaipur_AR_0.close()\n",
    "# Run only if txt file does not exist"
   ]
  },
  {
   "cell_type": "code",
   "execution_count": null,
   "id": "1ed75285",
   "metadata": {},
   "outputs": [],
   "source": [
    "Jaipur_AR_0 = open('web_scrapped_data\\Jaipur_TA_0.txt', 'r',encoding='utf-8').read()\n",
    "soup = BeautifulSoup(Jaipur_AR_0,\"html.parser\")"
   ]
  },
  {
   "cell_type": "code",
   "execution_count": null,
   "id": "e059b35a",
   "metadata": {},
   "outputs": [],
   "source": [
    "Rating = soup.find_all(\"svg\",\"UctUV d H0 hzzSG\")\n",
    "Rating1 = str(Rating)\n",
    "Rating2 = Rating1.replace('[','')\n",
    "Rating3 = Rating2.split(', ')"
   ]
  },
  {
   "cell_type": "code",
   "execution_count": null,
   "id": "c09a94ce",
   "metadata": {},
   "outputs": [],
   "source": [
    "bubble1 = []\n",
    "for c in Rating3:\n",
    "    c1 = str(c)\n",
    "    c2 = c1[17:20]\n",
    "    bubble1.append(c2)"
   ]
  },
  {
   "cell_type": "code",
   "execution_count": null,
   "id": "49d45c77",
   "metadata": {},
   "outputs": [],
   "source": [
    "bubble2 = bubble1[3:]"
   ]
  },
  {
   "cell_type": "markdown",
   "id": "cbe91f90",
   "metadata": {},
   "source": [
    "# Attraction Rating 30 - 60"
   ]
  },
  {
   "cell_type": "code",
   "execution_count": null,
   "id": "1dce3283",
   "metadata": {},
   "outputs": [],
   "source": [
    "options = Options()\n",
    "options.headless = True\n",
    "options.add_argument(\"--window-size=1920,1200\")\n",
    "driver = webdriver.Chrome(options=options)\n",
    "driver.get(\"https://www.tripadvisor.in/Attractions-g304555-Activities-oa30-Jaipur_Jaipur_District_Rajasthan.html\")\n",
    "html_source = driver.page_source\n",
    "Jaipur_AR_30 = open(\"web_scrapped_data\\Jaipur_TA_30.txt\", \"w\",encoding='utf-8')\n",
    "Jaipur_AR_30.write(html_source)\n",
    "Jaipur_AR_30.close()\n",
    "# Run only if txt file does not exist"
   ]
  },
  {
   "cell_type": "code",
   "execution_count": null,
   "id": "6985e6c4",
   "metadata": {},
   "outputs": [],
   "source": [
    "Jaipur_AR_30 = open('web_scrapped_data\\Jaipur_TA_30.txt', 'r',encoding='utf-8').read()\n",
    "soup = BeautifulSoup(Jaipur_AR_30,\"html.parser\")"
   ]
  },
  {
   "cell_type": "code",
   "execution_count": null,
   "id": "f65fb972",
   "metadata": {},
   "outputs": [],
   "source": [
    "Rating30 = soup.find_all(\"svg\",\"UctUV d H0 hzzSG\")\n",
    "Rating31 = str(Rating30)\n",
    "Rating32 = Rating31.replace('[','')\n",
    "Rating33 = Rating32.split(', ')"
   ]
  },
  {
   "cell_type": "code",
   "execution_count": null,
   "id": "1b88d702",
   "metadata": {},
   "outputs": [],
   "source": [
    "bubble31 = []\n",
    "for c in Rating33:\n",
    "    c1 = str(c)\n",
    "    c2 = c1[17:20]\n",
    "    bubble31.append(c2)"
   ]
  },
  {
   "cell_type": "code",
   "execution_count": null,
   "id": "22e49716",
   "metadata": {},
   "outputs": [],
   "source": [
    "bubble32 = bubble31[3:]"
   ]
  },
  {
   "cell_type": "markdown",
   "id": "02336a5e",
   "metadata": {},
   "source": [
    "# Attraction Rating 60 - 90"
   ]
  },
  {
   "cell_type": "code",
   "execution_count": null,
   "id": "1be75afe",
   "metadata": {},
   "outputs": [],
   "source": [
    "options = Options()\n",
    "options.headless = True\n",
    "options.add_argument(\"--window-size=1920,1200\")\n",
    "driver = webdriver.Chrome(options=options)\n",
    "driver.get(\"https://www.tripadvisor.in/Attractions-g304555-Activities-oa60-Jaipur_Jaipur_District_Rajasthan.html\")\n",
    "html_source = driver.page_source\n",
    "Jaipur_AR_60 = open(\"web_scrapped_data\\Jaipur_TA_60.txt\", \"w\",encoding='utf-8')\n",
    "Jaipur_AR_60.write(html_source)\n",
    "Jaipur_AR_60.close()\n",
    "# Run only if txt file does not exist"
   ]
  },
  {
   "cell_type": "code",
   "execution_count": null,
   "id": "e2bbf8b3",
   "metadata": {},
   "outputs": [],
   "source": [
    "Jaipur_AR_60 = open('web_scrapped_data\\Jaipur_TA_60.txt', 'r',encoding='utf-8').read()\n",
    "soup = BeautifulSoup(Jaipur_AR_60,\"html.parser\")"
   ]
  },
  {
   "cell_type": "code",
   "execution_count": null,
   "id": "3a3e985b",
   "metadata": {},
   "outputs": [],
   "source": [
    "Rating60 = soup.find_all(\"svg\",\"UctUV d H0 hzzSG\")\n",
    "Rating61 = str(Rating60)\n",
    "Rating62 = Rating61.replace('[','')\n",
    "Rating63 = Rating62.split(', ')"
   ]
  },
  {
   "cell_type": "code",
   "execution_count": null,
   "id": "ec9be3a5",
   "metadata": {},
   "outputs": [],
   "source": [
    "bubble61 = []\n",
    "for c in Rating63:\n",
    "    c1 = str(c)\n",
    "    c2 = c1[17:20]\n",
    "    bubble61.append(c2)"
   ]
  },
  {
   "cell_type": "code",
   "execution_count": null,
   "id": "ac3f05b1",
   "metadata": {},
   "outputs": [],
   "source": [
    "bubble62 = bubble61[3:]"
   ]
  },
  {
   "cell_type": "markdown",
   "id": "2250e8e4",
   "metadata": {},
   "source": [
    "# Attraction Rating 90 - 120"
   ]
  },
  {
   "cell_type": "code",
   "execution_count": null,
   "id": "1b9b03b4",
   "metadata": {},
   "outputs": [],
   "source": [
    "options = Options()\n",
    "options.headless = True\n",
    "options.add_argument(\"--window-size=1920,1200\")\n",
    "driver = webdriver.Chrome(options=options)\n",
    "driver.get(\"https://www.tripadvisor.in/Attractions-g304555-Activities-oa90-Jaipur_Jaipur_District_Rajasthan.html\")\n",
    "html_source = driver.page_source\n",
    "Jaipur_AR_90 = open(\"web_scrapped_data\\Jaipur_TA_90.txt\", \"w\",encoding='utf-8')\n",
    "Jaipur_AR_90.write(html_source)\n",
    "Jaipur_AR_90.close()\n",
    "# Run only if txt file does not exist"
   ]
  },
  {
   "cell_type": "code",
   "execution_count": null,
   "id": "b7ea6df6",
   "metadata": {},
   "outputs": [],
   "source": [
    "Jaipur_AR_90 = open('web_scrapped_data\\Jaipur_TA_90.txt', 'r',encoding='utf-8').read()\n",
    "soup = BeautifulSoup(Jaipur_AR_90,\"html.parser\")"
   ]
  },
  {
   "cell_type": "code",
   "execution_count": null,
   "id": "431ed153",
   "metadata": {},
   "outputs": [],
   "source": [
    "Rating90 = soup.find_all(\"svg\",\"UctUV d H0 hzzSG\")\n",
    "Rating91 = str(Rating90)\n",
    "Rating92 = Rating91.replace('[','')\n",
    "Rating93 = Rating92.split(', ')"
   ]
  },
  {
   "cell_type": "code",
   "execution_count": null,
   "id": "cd65e5f4",
   "metadata": {},
   "outputs": [],
   "source": [
    "bubble91 = []\n",
    "for c in Rating93:\n",
    "    c1 = str(c)\n",
    "    c2 = c1[17:20]\n",
    "    bubble91.append(c2)"
   ]
  },
  {
   "cell_type": "code",
   "execution_count": null,
   "id": "3a006f2b",
   "metadata": {},
   "outputs": [],
   "source": [
    "bubble92 = bubble91[3:]"
   ]
  },
  {
   "cell_type": "markdown",
   "id": "81f54bd9",
   "metadata": {},
   "source": [
    "# Combining all attraction ratings into a list"
   ]
  },
  {
   "cell_type": "code",
   "execution_count": null,
   "id": "b87d5c1b",
   "metadata": {
    "scrolled": false
   },
   "outputs": [],
   "source": [
    "final_attraction_rating = bubble2\n",
    "final_attraction_rating.extend(bubble32)\n",
    "final_attraction_rating.extend(bubble62)\n",
    "final_attraction_rating.extend(bubble92)\n",
    "len(final_attraction_rating)"
   ]
  },
  {
   "cell_type": "markdown",
   "id": "b4f31c5d",
   "metadata": {},
   "source": [
    "# Categories 0 - 30"
   ]
  },
  {
   "cell_type": "code",
   "execution_count": null,
   "id": "b16d4a44",
   "metadata": {},
   "outputs": [],
   "source": [
    "Jaipur_CT_0 = open('web_scrapped_data\\Jaipur_TA_0.txt', 'r',encoding='utf-8').read()\n",
    "soup = BeautifulSoup(Jaipur_CT_0,\"html.parser\")\n",
    "categories_main_string_div = soup.find_all(\"div\",\"alPVI eNNhq PgLKC tnGGX yzLvM\")\n",
    "categories_sub_string_div = soup.find_all(\"div\",\"bRMrl _Y v K\")"
   ]
  },
  {
   "cell_type": "code",
   "execution_count": null,
   "id": "071c66f9",
   "metadata": {},
   "outputs": [],
   "source": [
    "def cleanhtmlmain(raw_html):\n",
    "    cleanr = re.compile('<.*?>')\n",
    "    cleantext = re.sub(cleanr, '', raw_html)\n",
    "    categories_main_list.append(cleantext)\n",
    "def cleanhtmlsub(raw_html):\n",
    "    cleanr = re.compile('<.*?>')\n",
    "    cleantext = re.sub(cleanr, '', raw_html)\n",
    "    categories_sub_list.append(cleantext)\n",
    "categories_main_list = []\n",
    "categories_sub_list = []\n",
    "for x in categories_main_string_div:\n",
    "    cleanhtmlmain(str(x))\n",
    "for x in categories_sub_string_div:\n",
    "    cleanhtmlsub(str(x))"
   ]
  },
  {
   "cell_type": "code",
   "execution_count": null,
   "id": "bea515ff",
   "metadata": {},
   "outputs": [],
   "source": [
    "# Removing Locations from the\n",
    "Categories_Split = []\n",
    "Main_String = categories_main_list\n",
    "Sub_String = categories_sub_list\n",
    "Main_String_Length = len(Main_String)\n",
    "Sub_String_Length = len(Sub_String)\n",
    "y = 0\n",
    "# print(Main_String_Length)\n",
    "# print(Sub_String_Length)\n",
    "for x in range(Main_String_Length):\n",
    "    Main_String_Conversion = str(Main_String[x])\n",
    "    Sub_String_Conversion = str(Sub_String[y])\n",
    "    if Sub_String_Conversion in Main_String_Conversion:\n",
    "        Main_String_Replacement = Main_String_Conversion.replace(Sub_String_Conversion,\"\")\n",
    "        y = y + 1\n",
    "#         print(Main_String_Replacement)\n",
    "        Categories_Split.append(Main_String_Replacement)\n",
    "    else:\n",
    "#         print(Main_String_Conversion)\n",
    "        Categories_Split.append(Main_String_Conversion)"
   ]
  },
  {
   "cell_type": "code",
   "execution_count": null,
   "id": "8196948b",
   "metadata": {},
   "outputs": [],
   "source": [
    "# Spliting and combining the End Result\n",
    "Categories_Final_0 = []\n",
    "for x in Categories_Split:\n",
    "    Categories_to_String = str(x)\n",
    "    Replaced1 = Categories_to_String.replace(\"amp;\",\"\")\n",
    "    Categories_to_String_Replacement = Replaced1\n",
    "    if \"•\" in Categories_to_String_Replacement:\n",
    "        Categories_to_String_Split = Categories_to_String_Replacement.split(\" • \")\n",
    "        Categories_Final_0.append(Categories_to_String_Split)\n",
    "    else:\n",
    "        Categories_Final_0.append(Categories_to_String_Replacement)\n",
    "#     Replaced2 = Replaced1.replace(\"• \",\"\")\n",
    "#     Categories_to_String_Replacement = Replaced2"
   ]
  },
  {
   "cell_type": "markdown",
   "id": "e6ae2a0b",
   "metadata": {},
   "source": [
    "# Categories 30 - 60"
   ]
  },
  {
   "cell_type": "code",
   "execution_count": null,
   "id": "089ae6e6",
   "metadata": {},
   "outputs": [],
   "source": [
    "Jaipur_CT_30 = open('web_scrapped_data\\Jaipur_TA_30.txt', 'r',encoding='utf-8').read()\n",
    "soup = BeautifulSoup(Jaipur_CT_30,\"html.parser\")\n",
    "categories_main_string_div = soup.find_all(\"div\",\"alPVI eNNhq PgLKC tnGGX yzLvM\")\n",
    "categories_sub_string_div = soup.find_all(\"div\",\"bRMrl _Y v K\")"
   ]
  },
  {
   "cell_type": "code",
   "execution_count": null,
   "id": "d8334487",
   "metadata": {},
   "outputs": [],
   "source": [
    "def cleanhtmlmain(raw_html):\n",
    "    cleanr = re.compile('<.*?>')\n",
    "    cleantext = re.sub(cleanr, '', raw_html)\n",
    "    categories_main_list.append(cleantext)\n",
    "def cleanhtmlsub(raw_html):\n",
    "    cleanr = re.compile('<.*?>')\n",
    "    cleantext = re.sub(cleanr, '', raw_html)\n",
    "    categories_sub_list.append(cleantext)\n",
    "categories_main_list = []\n",
    "categories_sub_list = []\n",
    "for x in categories_main_string_div:\n",
    "    cleanhtmlmain(str(x))\n",
    "for x in categories_sub_string_div:\n",
    "    cleanhtmlsub(str(x))"
   ]
  },
  {
   "cell_type": "code",
   "execution_count": null,
   "id": "7b49589d",
   "metadata": {},
   "outputs": [],
   "source": [
    "# Removing Locations from the\n",
    "Categories_Split = []\n",
    "Main_String = categories_main_list\n",
    "Sub_String = categories_sub_list\n",
    "Main_String_Length = len(Main_String)\n",
    "Sub_String_Length = len(Sub_String)\n",
    "y = 0\n",
    "# print(Main_String_Length)\n",
    "# print(Sub_String_Length)\n",
    "for x in range(Main_String_Length):\n",
    "    Main_String_Conversion = str(Main_String[x])\n",
    "    Sub_String_Conversion = str(Sub_String[y])\n",
    "    if Sub_String_Conversion in Main_String_Conversion:\n",
    "        Main_String_Replacement = Main_String_Conversion.replace(Sub_String_Conversion,\"\")\n",
    "        y = y + 1\n",
    "#         print(Main_String_Replacement)\n",
    "        Categories_Split.append(Main_String_Replacement)\n",
    "    else:\n",
    "#         print(Main_String_Conversion)\n",
    "        Categories_Split.append(Main_String_Conversion)"
   ]
  },
  {
   "cell_type": "code",
   "execution_count": null,
   "id": "a3e69feb",
   "metadata": {},
   "outputs": [],
   "source": [
    "# Spliting and combining the End Result\n",
    "Categories_Final_30 = []\n",
    "for x in Categories_Split:\n",
    "    Categories_to_String = str(x)\n",
    "    Replaced1 = Categories_to_String.replace(\"amp;\",\"\")\n",
    "    Categories_to_String_Replacement = Replaced1\n",
    "    if \"•\" in Categories_to_String_Replacement:\n",
    "        Categories_to_String_Split = Categories_to_String_Replacement.split(\" • \")\n",
    "        Categories_Final_30.append(Categories_to_String_Split)\n",
    "    else:\n",
    "        Categories_Final_30.append(Categories_to_String_Replacement)\n",
    "#     Replaced2 = Replaced1.replace(\"• \",\"\")\n",
    "#     Categories_to_String_Replacement = Replaced2"
   ]
  },
  {
   "cell_type": "markdown",
   "id": "bf6fbfbb",
   "metadata": {},
   "source": [
    "# Categories 60 - 90"
   ]
  },
  {
   "cell_type": "code",
   "execution_count": null,
   "id": "aa106985",
   "metadata": {},
   "outputs": [],
   "source": [
    "Jaipur_CT_60 = open('web_scrapped_data\\Jaipur_TA_60.txt', 'r',encoding='utf-8').read()\n",
    "soup = BeautifulSoup(Jaipur_CT_60,\"html.parser\")\n",
    "categories_main_string_div = soup.find_all(\"div\",\"alPVI eNNhq PgLKC tnGGX yzLvM\")\n",
    "categories_sub_string_div = soup.find_all(\"div\",\"bRMrl _Y v K\")"
   ]
  },
  {
   "cell_type": "code",
   "execution_count": null,
   "id": "858eb71d",
   "metadata": {},
   "outputs": [],
   "source": [
    "def cleanhtmlmain(raw_html):\n",
    "    cleanr = re.compile('<.*?>')\n",
    "    cleantext = re.sub(cleanr, '', raw_html)\n",
    "    categories_main_list.append(cleantext)\n",
    "def cleanhtmlsub(raw_html):\n",
    "    cleanr = re.compile('<.*?>')\n",
    "    cleantext = re.sub(cleanr, '', raw_html)\n",
    "    categories_sub_list.append(cleantext)\n",
    "categories_main_list = []\n",
    "categories_sub_list = []\n",
    "for x in categories_main_string_div:\n",
    "    cleanhtmlmain(str(x))\n",
    "for x in categories_sub_string_div:\n",
    "    cleanhtmlsub(str(x))"
   ]
  },
  {
   "cell_type": "code",
   "execution_count": null,
   "id": "9d0d0657",
   "metadata": {},
   "outputs": [],
   "source": [
    "categories_sub_list"
   ]
  },
  {
   "cell_type": "code",
   "execution_count": null,
   "id": "5aff27e3",
   "metadata": {},
   "outputs": [],
   "source": [
    "# Removing Locations from the\n",
    "Categories_Split = []\n",
    "Main_String = categories_main_list\n",
    "Sub_String = categories_sub_list\n",
    "Main_String_Length = len(Main_String)\n",
    "Sub_String_Length = len(Sub_String)\n",
    "y = 0\n",
    "# print(Main_String_Length)\n",
    "# print(Sub_String_Length)\n",
    "for x in range(Main_String_Length):\n",
    "    Main_String_Conversion = str(Main_String[x])\n",
    "    Sub_String_Conversion = str(Sub_String[y])\n",
    "    if Sub_String_Conversion in Main_String_Conversion:\n",
    "        Main_String_Replacement = Main_String_Conversion.replace(Sub_String_Conversion,\"\")\n",
    "        y = y + 1\n",
    "#         print(Main_String_Replacement)\n",
    "        Categories_Split.append(Main_String_Replacement)\n",
    "    else:\n",
    "#         print(Main_String_Conversion)\n",
    "        Categories_Split.append(Main_String_Conversion)"
   ]
  },
  {
   "cell_type": "code",
   "execution_count": null,
   "id": "6f82ec25",
   "metadata": {},
   "outputs": [],
   "source": [
    "# Spliting and combining the End Result\n",
    "Categories_Final_60 = []\n",
    "for x in Categories_Split:\n",
    "    Categories_to_String = str(x)\n",
    "    Replaced1 = Categories_to_String.replace(\"amp;\",\"\")\n",
    "    Categories_to_String_Replacement = Replaced1\n",
    "    if \"•\" in Categories_to_String_Replacement:\n",
    "        Categories_to_String_Split = Categories_to_String_Replacement.split(\" • \")\n",
    "        Categories_Final_60.append(Categories_to_String_Split)\n",
    "    else:\n",
    "        Categories_Final_60.append(Categories_to_String_Replacement)\n",
    "#     Replaced2 = Replaced1.replace(\"• \",\"\")\n",
    "#     Categories_to_String_Replacement = Replaced2"
   ]
  },
  {
   "cell_type": "markdown",
   "id": "2031655e",
   "metadata": {},
   "source": [
    "# Categories 90 - 120"
   ]
  },
  {
   "cell_type": "code",
   "execution_count": null,
   "id": "c4671ded",
   "metadata": {},
   "outputs": [],
   "source": [
    "Jaipur_CT_90 = open('web_scrapped_data\\Jaipur_TA_90.txt', 'r',encoding='utf-8').read()\n",
    "soup = BeautifulSoup(Jaipur_CT_90,\"html.parser\")\n",
    "categories_main_string_div = soup.find_all(\"div\",\"alPVI eNNhq PgLKC tnGGX yzLvM\")\n",
    "categories_sub_string_div = soup.find_all(\"div\",\"bRMrl _Y v K\")"
   ]
  },
  {
   "cell_type": "code",
   "execution_count": null,
   "id": "0e61eb0d",
   "metadata": {},
   "outputs": [],
   "source": [
    "def cleanhtmlmain(raw_html):\n",
    "    cleanr = re.compile('<.*?>')\n",
    "    cleantext = re.sub(cleanr, '', raw_html)\n",
    "    categories_main_list.append(cleantext)\n",
    "def cleanhtmlsub(raw_html):\n",
    "    cleanr = re.compile('<.*?>')\n",
    "    cleantext = re.sub(cleanr, '', raw_html)\n",
    "    categories_sub_list.append(cleantext)\n",
    "categories_main_list = []\n",
    "categories_sub_list = []\n",
    "for x in categories_main_string_div:\n",
    "    cleanhtmlmain(str(x))\n",
    "for x in categories_sub_string_div:\n",
    "    cleanhtmlsub(str(x))"
   ]
  },
  {
   "cell_type": "code",
   "execution_count": null,
   "id": "aebe3afe",
   "metadata": {},
   "outputs": [],
   "source": [
    "# Removing Locations from the\n",
    "Categories_Split = []\n",
    "Main_String = categories_main_list\n",
    "Sub_String = categories_sub_list\n",
    "Main_String_Length = len(Main_String)\n",
    "Sub_String_Length = len(Sub_String)\n",
    "y = 0\n",
    "# print(Main_String_Length)\n",
    "# print(Sub_String_Length)\n",
    "for x in range(Main_String_Length):\n",
    "    Main_String_Conversion = str(Main_String[x])\n",
    "    Sub_String_Conversion = str(Sub_String[y])\n",
    "    if Sub_String_Conversion in Main_String_Conversion:\n",
    "        Main_String_Replacement = Main_String_Conversion.replace(Sub_String_Conversion,\"\")\n",
    "        y = y + 1\n",
    "#         print(Main_String_Replacement)\n",
    "        Categories_Split.append(Main_String_Replacement)\n",
    "    else:\n",
    "#         print(Main_String_Conversion)\n",
    "        Categories_Split.append(Main_String_Conversion)"
   ]
  },
  {
   "cell_type": "code",
   "execution_count": null,
   "id": "14b739dc",
   "metadata": {},
   "outputs": [],
   "source": [
    "# Spliting and combining the End Result\n",
    "Categories_Final_90 = []\n",
    "for x in Categories_Split:\n",
    "    Categories_to_String = str(x)\n",
    "    Replaced1 = Categories_to_String.replace(\"amp;\",\"\")\n",
    "    Categories_to_String_Replacement = Replaced1\n",
    "    if \"•\" in Categories_to_String_Replacement:\n",
    "        Categories_to_String_Split = Categories_to_String_Replacement.split(\" • \")\n",
    "        Categories_Final_90.append(Categories_to_String_Split)\n",
    "    else:\n",
    "        Categories_Final_90.append(Categories_to_String_Replacement)\n",
    "#     Replaced2 = Replaced1.replace(\"• \",\"\")\n",
    "#     Categories_to_String_Replacement = Replaced2"
   ]
  },
  {
   "cell_type": "markdown",
   "id": "3c603536",
   "metadata": {},
   "source": [
    "# Combining all categories ratings into a list"
   ]
  },
  {
   "cell_type": "code",
   "execution_count": null,
   "id": "031237d6",
   "metadata": {},
   "outputs": [],
   "source": [
    "final_categories = Categories_Final_0\n",
    "final_categories.extend(Categories_Final_30)\n",
    "final_categories.extend(Categories_Final_60)\n",
    "final_categories.extend(Categories_Final_90)"
   ]
  },
  {
   "cell_type": "markdown",
   "id": "26ee1bb1",
   "metadata": {},
   "source": [
    "# Converting the extracted data to a CSV file"
   ]
  },
  {
   "cell_type": "code",
   "execution_count": null,
   "id": "099d9490",
   "metadata": {},
   "outputs": [],
   "source": [
    "import csv\n",
    "from itertools import zip_longest\n",
    "d = [final_tourist_spot,final_attraction_rating,final_categories]\n",
    "export_data = zip_longest(*d, fillvalue = '')\n",
    "with open('csv\\jaipur.csv', 'w', encoding=\"ISO-8859-1\", newline='') as myfile:\n",
    "      wr = csv.writer(myfile)\n",
    "      wr.writerow((\"tourist_spot\", \"rating\"))\n",
    "      wr.writerows(export_data)\n",
    "myfile.close()"
   ]
  }
 ],
 "metadata": {
  "kernelspec": {
   "display_name": "Python 3 (ipykernel)",
   "language": "python",
   "name": "python3"
  },
  "language_info": {
   "codemirror_mode": {
    "name": "ipython",
    "version": 3
   },
   "file_extension": ".py",
   "mimetype": "text/x-python",
   "name": "python",
   "nbconvert_exporter": "python",
   "pygments_lexer": "ipython3",
   "version": "3.9.13"
  }
 },
 "nbformat": 4,
 "nbformat_minor": 5
}
