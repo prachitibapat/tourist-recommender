{
 "cells": [
  {
   "cell_type": "code",
   "execution_count": null,
   "id": "339db01e",
   "metadata": {},
   "outputs": [],
   "source": [
    "pip install selenium"
   ]
  },
  {
   "cell_type": "code",
   "execution_count": null,
   "id": "07e66eab",
   "metadata": {},
   "outputs": [],
   "source": [
    "from selenium import webdriver\n",
    "from selenium.webdriver.chrome.service import Service\n",
    "from selenium.webdriver.common.by import By \n",
    "from selenium.webdriver.common.keys import Keys\n",
    "from selenium.webdriver.support.ui import WebDriverWait\n",
    "from selenium.webdriver.support import expected_conditions as EC\n",
    "import time\n",
    "from bs4 import BeautifulSoup\n",
    "import pandas as pd"
   ]
  },
  {
   "cell_type": "code",
   "execution_count": null,
   "id": "1d928c9f",
   "metadata": {},
   "outputs": [],
   "source": [
    "driver = webdriver.Chrome()"
   ]
  },
  {
   "cell_type": "code",
   "execution_count": null,
   "id": "764ecc94",
   "metadata": {},
   "outputs": [],
   "source": [
    "driver.get('https://www.tripadvisor.in/Attractions-g304554-Activities-oa0-Mumbai_Maharashtra.html')"
   ]
  },
  {
   "cell_type": "code",
   "execution_count": null,
   "id": "1ac2302c",
   "metadata": {},
   "outputs": [],
   "source": [
    "html_source = driver.page_source"
   ]
  },
  {
   "cell_type": "code",
   "execution_count": null,
   "id": "64b43d80",
   "metadata": {},
   "outputs": [],
   "source": [
    "html_source"
   ]
  },
  {
   "cell_type": "code",
   "execution_count": null,
   "id": "45933803",
   "metadata": {},
   "outputs": [],
   "source": [
    "soup = BeautifulSoup(html_source,\"html.parser\")"
   ]
  },
  {
   "cell_type": "code",
   "execution_count": null,
   "id": "e93c7ff8",
   "metadata": {},
   "outputs": [],
   "source": [
    "soup"
   ]
  },
  {
   "cell_type": "code",
   "execution_count": null,
   "id": "91dcd46d",
   "metadata": {},
   "outputs": [],
   "source": [
    "Location = soup.find_all(\"div\",\"alPVI eNNhq PgLKC tnGGX yzLvM\")"
   ]
  },
  {
   "cell_type": "code",
   "execution_count": null,
   "id": "7422ffaf",
   "metadata": {},
   "outputs": [],
   "source": [
    "Location1 = soup.find_all(\"div\",\"bRMrl _Y v K\")"
   ]
  },
  {
   "cell_type": "code",
   "execution_count": null,
   "id": "5c1b8952",
   "metadata": {},
   "outputs": [],
   "source": [
    "Location"
   ]
  },
  {
   "cell_type": "code",
   "execution_count": null,
   "id": "8f8b0e8c",
   "metadata": {},
   "outputs": [],
   "source": [
    "Location1"
   ]
  },
  {
   "cell_type": "code",
   "execution_count": null,
   "id": "519771e8",
   "metadata": {},
   "outputs": [],
   "source": [
    "import re"
   ]
  },
  {
   "cell_type": "code",
   "execution_count": null,
   "id": "f14bc4c8",
   "metadata": {},
   "outputs": [],
   "source": [
    "def cleanhtml(raw_html):\n",
    "    cleanr = re.compile('<.*?>')\n",
    "    cleantext = re.sub(cleanr, '', raw_html)\n",
    "    tourist_spot.append(cleantext)\n",
    "    print(cleantext)"
   ]
  },
  {
   "cell_type": "code",
   "execution_count": null,
   "id": "8a573295",
   "metadata": {},
   "outputs": [],
   "source": [
    "tourist_spot = []\n",
    "for x in Location:\n",
    "    cleanhtml(str(x))"
   ]
  },
  {
   "cell_type": "code",
   "execution_count": null,
   "id": "ecab51dd",
   "metadata": {},
   "outputs": [],
   "source": [
    "def cleanhtml(raw_html):\n",
    "    cleanr = re.compile('<.*?>')\n",
    "    cleantext = re.sub(cleanr, '', raw_html)\n",
    "    tourist_spot1.append(cleantext)\n",
    "    print(cleantext)"
   ]
  },
  {
   "cell_type": "code",
   "execution_count": null,
   "id": "190c82fe",
   "metadata": {
    "scrolled": true
   },
   "outputs": [],
   "source": [
    "tourist_spot1 = []\n",
    "for x in Location1:\n",
    "    cleanhtml(str(x))"
   ]
  },
  {
   "cell_type": "code",
   "execution_count": null,
   "id": "faae28c4",
   "metadata": {},
   "outputs": [],
   "source": [
    "# Removing Locations from the\n",
    "Categories_Final = []\n",
    "# for x in tourist_spot:\n",
    "#     x1 = str(x)\n",
    "#     for y in tourist_spot1:\n",
    "#         y1 = str(y)\n",
    "#         for i in x1:\n",
    "#             if i in y1:\n",
    "#                 x1.remove(i)\n",
    "#                 y1.remove(i)\n",
    "Main_String = tourist_spot\n",
    "Sub_String = tourist_spot1\n",
    "Main_String_Length = len(Main_String)\n",
    "Sub_String_Length = len(Sub_String)\n",
    "y = 0\n",
    "# print(Main_String_Length)\n",
    "# print(Sub_String_Length)\n",
    "for x in range(Main_String_Length):\n",
    "    Main_String_Conversion = str(Main_String[x])\n",
    "    Sub_String_Conversion = str(Sub_String[y])\n",
    "    if Sub_String_Conversion in Main_String_Conversion:\n",
    "        Main_String_Replacement = Main_String_Conversion.replace(Sub_String_Conversion,\"\")\n",
    "        y = y + 1\n",
    "#         print(Main_String_Replacement)\n",
    "        Categories_Final.append(Main_String_Replacement)\n",
    "    else:\n",
    "#         print(Main_String_Conversion)\n",
    "        Categories_Final.append(Main_String_Conversion)\n",
    "print(temp3)"
   ]
  },
  {
   "cell_type": "code",
   "execution_count": null,
   "id": "38b18638",
   "metadata": {},
   "outputs": [],
   "source": [
    "# Spliting and combining the End Result\n",
    "Placeholder = []\n",
    "for x in Categories_Final:\n",
    "    Categories_to_String = str(x)\n",
    "    Replaced1 = Categories_to_String.replace(\"amp;\",\"\")\n",
    "    Categories_to_String_Replacement = Replaced1\n",
    "    if \"•\" in Categories_to_String_Replacement:\n",
    "        Categories_to_String_Split = Categories_to_String_Replacement.split(\" • \")\n",
    "        print(Categories_to_String_Split)\n",
    "        Placeholder.append(Categories_to_String_Split)\n",
    "    else:\n",
    "        print(Categories_to_String_Replacement)\n",
    "        Placeholder.append(Categories_to_String_Replacement)\n",
    "print(Placeholder)\n",
    "#     Replaced2 = Replaced1.replace(\"• \",\"\")\n",
    "#     Categories_to_String_Replacement = Replaced2"
   ]
  },
  {
   "cell_type": "code",
   "execution_count": null,
   "id": "1460f3d0",
   "metadata": {},
   "outputs": [],
   "source": []
  }
 ],
 "metadata": {
  "kernelspec": {
   "display_name": "Python 3 (ipykernel)",
   "language": "python",
   "name": "python3"
  },
  "language_info": {
   "codemirror_mode": {
    "name": "ipython",
    "version": 3
   },
   "file_extension": ".py",
   "mimetype": "text/x-python",
   "name": "python",
   "nbconvert_exporter": "python",
   "pygments_lexer": "ipython3",
   "version": "3.9.13"
  },
  "vscode": {
   "interpreter": {
    "hash": "6fff98fc3b3d81bd655c2cc48858186e4d9e2db7b515bf1c3221888f12a62f87"
   }
  }
 },
 "nbformat": 4,
 "nbformat_minor": 5
}
